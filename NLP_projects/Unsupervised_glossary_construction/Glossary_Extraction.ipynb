{
 "cells": [
  {
   "cell_type": "code",
   "execution_count": 142,
   "metadata": {
    "colab": {
     "base_uri": "https://localhost:8080/",
     "height": 34
    },
    "colab_type": "code",
    "id": "Ob0Uh6HRDBQU",
    "outputId": "a12f4b97-04ca-4cea-a457-f428f898ba2b"
   },
   "outputs": [
    {
     "name": "stdout",
     "output_type": "stream",
     "text": [
      "Drive already mounted at /content/gdrive/; to attempt to forcibly remount, call drive.mount(\"/content/gdrive/\", force_remount=True).\n"
     ]
    }
   ],
   "source": [
    "from google.colab import drive\n",
    "drive.mount('/content/gdrive/')"
   ]
  },
  {
   "cell_type": "code",
   "execution_count": 143,
   "metadata": {
    "colab": {
     "base_uri": "https://localhost:8080/",
     "height": 972
    },
    "colab_type": "code",
    "id": "kMZbgrfbJdQa",
    "outputId": "e1ccc22f-c3f2-40f3-fdd0-96f1249a448a"
   },
   "outputs": [
    {
     "name": "stdout",
     "output_type": "stream",
     "text": [
      "ln: failed to create symbolic link 'directory/My Drive': Operation not supported\n",
      " 07Evolution1.txt\n",
      " 1995_Hsu_Schaums_Signals.pdf\n",
      " 1.jpg\n",
      "'Allan V  Oppenheim - Signals And Systems - Discrete Time Signal Processing-Prentice-Hall.pdf'\n",
      "'B-H curve.gsheet'\n",
      "'Bloodborne Official Artworks.pdf'\n",
      "'Colab Notebooks'\n",
      "'Copy of CAMP Summer Training.gdoc'\n",
      "'Copy of Pl_ATHENA_refined.gdoc'\n",
      "'Copy of PL_report.gdoc'\n",
      " Cropped\n",
      " DeblurGANs.gslides\n",
      "'Definitions and points.gdoc'\n",
      "'discrete mathematics.pdf'\n",
      " dress_data\n",
      "'DS Essay.gdoc'\n",
      " experiment\n",
      "'Flann and ransac.gdoc'\n",
      "'graph discrete.pdf'\n",
      " help.jpg\n",
      "'Image Quality Metrics.gslides'\n",
      "'IMT2017019 (1).gslides'\n",
      " IMT2017019_FinalEssay.gdoc\n",
      " IMT2017019.gslides\n",
      " IMT2017019.pdf\n",
      " IMT2017019_Reading_Response.gdoc\n",
      " Insights.gdoc\n",
      " math2.pdf\n",
      "'ML Hackathon.gdoc'\n",
      " NLP_Presentation_Group.gslides\n",
      " NLP_Presentation.gslides\n",
      "'#NLP_Presntation_Report.gdoc'\n",
      "'NLP report.gdoc'\n",
      " OnlineClass_ppt.gslides\n",
      "'Paleblood Hunt-Finalized.gdoc'\n",
      " Panorama.gdoc\n",
      "'physics relativity.pdf'\n",
      " Pl_ATHENA_refined.gdoc\n",
      " PL_report.gdoc\n",
      " Raw_file_for_report.gdoc\n",
      " Report_for_NLP_final_submission.gdoc\n",
      " report-review.gdoc\n",
      " Resume.gdoc\n",
      "'Rough points.gdoc'\n",
      " slides\n",
      " trial_help\n",
      " Tutorials\n",
      "'Unsupervised Segmentation.gslides'\n",
      " Untitled\n",
      "'Untitled (1)'\n",
      "'Untitled presentation.gslides'\n",
      "'Untitled spreadsheet.gsheet'\n",
      " uploadpic\n",
      " yo.jpg\n"
     ]
    }
   ],
   "source": [
    "!ln -s '/content/gdrive/My Drive' directory\n",
    "!ls directory\n"
   ]
  },
  {
   "cell_type": "code",
   "execution_count": 144,
   "metadata": {
    "colab": {},
    "colab_type": "code",
    "id": "NbNuV-36KTFN"
   },
   "outputs": [],
   "source": [
    "filename='directory'+'/07Evolution1.txt'"
   ]
  },
  {
   "cell_type": "code",
   "execution_count": 145,
   "metadata": {
    "colab": {},
    "colab_type": "code",
    "id": "HIOwFjA1JoPh"
   },
   "outputs": [],
   "source": [
    "File_object = open(filename,'r')"
   ]
  },
  {
   "cell_type": "code",
   "execution_count": 146,
   "metadata": {
    "colab": {
     "base_uri": "https://localhost:8080/",
     "height": 34
    },
    "colab_type": "code",
    "id": "mEkpAm-dLQa-",
    "outputId": "ce69fbe2-dc6f-4005-86ec-7126c3703026"
   },
   "outputs": [
    {
     "data": {
      "text/plain": [
       "0"
      ]
     },
     "execution_count": 146,
     "metadata": {
      "tags": []
     },
     "output_type": "execute_result"
    }
   ],
   "source": [
    "File_object.seek(0)"
   ]
  },
  {
   "cell_type": "code",
   "execution_count": 147,
   "metadata": {
    "colab": {},
    "colab_type": "code",
    "id": "-9s8qFuyKzH_"
   },
   "outputs": [],
   "source": [
    "text=File_object.read()"
   ]
  },
  {
   "cell_type": "code",
   "execution_count": 148,
   "metadata": {
    "colab": {},
    "colab_type": "code",
    "id": "xHg21FahLFIP"
   },
   "outputs": [],
   "source": [
    "# print(text)"
   ]
  },
  {
   "cell_type": "code",
   "execution_count": 233,
   "metadata": {
    "colab": {
     "base_uri": "https://localhost:8080/",
     "height": 52
    },
    "colab_type": "code",
    "id": "giw3qAousuvZ",
    "outputId": "8df1ed4d-ba4d-4ede-f47c-a5328a605afc"
   },
   "outputs": [
    {
     "name": "stdout",
     "output_type": "stream",
     "text": [
      "[nltk_data] Downloading package stopwords to /root/nltk_data...\n",
      "[nltk_data]   Unzipping corpora/stopwords.zip.\n"
     ]
    }
   ],
   "source": [
    "from nltk.corpus import stopwords\n",
    "nltk.download('stopwords')\n",
    "stop_words = set(stopwords.words('english')) "
   ]
  },
  {
   "cell_type": "code",
   "execution_count": 149,
   "metadata": {
    "colab": {
     "base_uri": "https://localhost:8080/",
     "height": 332
    },
    "colab_type": "code",
    "id": "7qgF7mK6Labv",
    "outputId": "01baeda9-0ca0-4395-839f-5a99cc0851f7"
   },
   "outputs": [
    {
     "name": "stdout",
     "output_type": "stream",
     "text": [
      "Collecting git+https://github.com/LIAAD/yake\n",
      "  Cloning https://github.com/LIAAD/yake to /tmp/pip-req-build-doqhpnz6\n",
      "  Running command git clone -q https://github.com/LIAAD/yake /tmp/pip-req-build-doqhpnz6\n",
      "Requirement already satisfied (use --upgrade to upgrade): yake==0.4.3 from git+https://github.com/LIAAD/yake in /usr/local/lib/python3.6/dist-packages\n",
      "Requirement already satisfied: tabulate in /usr/local/lib/python3.6/dist-packages (from yake==0.4.3) (0.8.7)\n",
      "Requirement already satisfied: click>=6.0 in /usr/local/lib/python3.6/dist-packages (from yake==0.4.3) (7.1.2)\n",
      "Requirement already satisfied: numpy in /usr/local/lib/python3.6/dist-packages (from yake==0.4.3) (1.18.5)\n",
      "Requirement already satisfied: segtok in /usr/local/lib/python3.6/dist-packages (from yake==0.4.3) (1.5.10)\n",
      "Requirement already satisfied: networkx in /usr/local/lib/python3.6/dist-packages (from yake==0.4.3) (2.4)\n",
      "Requirement already satisfied: jellyfish in /usr/local/lib/python3.6/dist-packages (from yake==0.4.3) (0.8.2)\n",
      "Requirement already satisfied: regex in /usr/local/lib/python3.6/dist-packages (from segtok->yake==0.4.3) (2019.12.20)\n",
      "Requirement already satisfied: decorator>=4.3.0 in /usr/local/lib/python3.6/dist-packages (from networkx->yake==0.4.3) (4.4.2)\n",
      "Building wheels for collected packages: yake\n",
      "  Building wheel for yake (setup.py) ... \u001b[?25l\u001b[?25hdone\n",
      "  Created wheel for yake: filename=yake-0.4.3-py2.py3-none-any.whl size=67216 sha256=b31117e0784fb58a0003b5ec134b991fecbca8cff87ecfc0343887260108c729\n",
      "  Stored in directory: /tmp/pip-ephem-wheel-cache-0lgu5yr9/wheels/be/35/27/e4ebd54b78c1806ed8b0271ce247fcd91e2bedde35889fbc9b\n",
      "Successfully built yake\n"
     ]
    }
   ],
   "source": [
    "# run: \"pip install git+https://github.com/LIAAD/yake\"\n",
    "!pip install git+https://github.com/LIAAD/yake\n",
    "import yake"
   ]
  },
  {
   "cell_type": "code",
   "execution_count": 150,
   "metadata": {
    "colab": {
     "base_uri": "https://localhost:8080/",
     "height": 384
    },
    "colab_type": "code",
    "id": "laOeqSZTMDOT",
    "outputId": "74bb0dfd-d5b7-4281-b1d4-ab4a414d6215"
   },
   "outputs": [
    {
     "name": "stdout",
     "output_type": "stream",
     "text": [
      "Requirement already satisfied: spacy in /usr/local/lib/python3.6/dist-packages (2.2.4)\n",
      "Requirement already satisfied: srsly<1.1.0,>=1.0.2 in /usr/local/lib/python3.6/dist-packages (from spacy) (1.0.2)\n",
      "Requirement already satisfied: catalogue<1.1.0,>=0.0.7 in /usr/local/lib/python3.6/dist-packages (from spacy) (1.0.0)\n",
      "Requirement already satisfied: numpy>=1.15.0 in /usr/local/lib/python3.6/dist-packages (from spacy) (1.18.5)\n",
      "Requirement already satisfied: blis<0.5.0,>=0.4.0 in /usr/local/lib/python3.6/dist-packages (from spacy) (0.4.1)\n",
      "Requirement already satisfied: preshed<3.1.0,>=3.0.2 in /usr/local/lib/python3.6/dist-packages (from spacy) (3.0.2)\n",
      "Requirement already satisfied: wasabi<1.1.0,>=0.4.0 in /usr/local/lib/python3.6/dist-packages (from spacy) (0.7.0)\n",
      "Requirement already satisfied: tqdm<5.0.0,>=4.38.0 in /usr/local/lib/python3.6/dist-packages (from spacy) (4.41.1)\n",
      "Requirement already satisfied: setuptools in /usr/local/lib/python3.6/dist-packages (from spacy) (49.1.0)\n",
      "Requirement already satisfied: cymem<2.1.0,>=2.0.2 in /usr/local/lib/python3.6/dist-packages (from spacy) (2.0.3)\n",
      "Requirement already satisfied: plac<1.2.0,>=0.9.6 in /usr/local/lib/python3.6/dist-packages (from spacy) (1.1.3)\n",
      "Requirement already satisfied: thinc==7.4.0 in /usr/local/lib/python3.6/dist-packages (from spacy) (7.4.0)\n",
      "Requirement already satisfied: requests<3.0.0,>=2.13.0 in /usr/local/lib/python3.6/dist-packages (from spacy) (2.23.0)\n",
      "Requirement already satisfied: murmurhash<1.1.0,>=0.28.0 in /usr/local/lib/python3.6/dist-packages (from spacy) (1.0.2)\n",
      "Requirement already satisfied: importlib-metadata>=0.20; python_version < \"3.8\" in /usr/local/lib/python3.6/dist-packages (from catalogue<1.1.0,>=0.0.7->spacy) (1.7.0)\n",
      "Requirement already satisfied: idna<3,>=2.5 in /usr/local/lib/python3.6/dist-packages (from requests<3.0.0,>=2.13.0->spacy) (2.10)\n",
      "Requirement already satisfied: chardet<4,>=3.0.2 in /usr/local/lib/python3.6/dist-packages (from requests<3.0.0,>=2.13.0->spacy) (3.0.4)\n",
      "Requirement already satisfied: certifi>=2017.4.17 in /usr/local/lib/python3.6/dist-packages (from requests<3.0.0,>=2.13.0->spacy) (2020.6.20)\n",
      "Requirement already satisfied: urllib3!=1.25.0,!=1.25.1,<1.26,>=1.21.1 in /usr/local/lib/python3.6/dist-packages (from requests<3.0.0,>=2.13.0->spacy) (1.24.3)\n",
      "Requirement already satisfied: zipp>=0.5 in /usr/local/lib/python3.6/dist-packages (from importlib-metadata>=0.20; python_version < \"3.8\"->catalogue<1.1.0,>=0.0.7->spacy) (3.1.0)\n"
     ]
    }
   ],
   "source": [
    "!pip install spacy\n",
    "# python -m spacy download en_core_web_sm"
   ]
  },
  {
   "cell_type": "code",
   "execution_count": 151,
   "metadata": {
    "colab": {
     "base_uri": "https://localhost:8080/",
     "height": 350
    },
    "colab_type": "code",
    "id": "RCpqZnXRMHMY",
    "outputId": "0efabb99-0380-4082-e2ee-4ca3fb7d9a46"
   },
   "outputs": [
    {
     "name": "stdout",
     "output_type": "stream",
     "text": [
      "Requirement already satisfied: pytorch-pretrained-bert in /usr/local/lib/python3.6/dist-packages (0.6.2)\n",
      "Requirement already satisfied: numpy in /usr/local/lib/python3.6/dist-packages (from pytorch-pretrained-bert) (1.18.5)\n",
      "Requirement already satisfied: requests in /usr/local/lib/python3.6/dist-packages (from pytorch-pretrained-bert) (2.23.0)\n",
      "Requirement already satisfied: tqdm in /usr/local/lib/python3.6/dist-packages (from pytorch-pretrained-bert) (4.41.1)\n",
      "Requirement already satisfied: regex in /usr/local/lib/python3.6/dist-packages (from pytorch-pretrained-bert) (2019.12.20)\n",
      "Requirement already satisfied: boto3 in /usr/local/lib/python3.6/dist-packages (from pytorch-pretrained-bert) (1.14.20)\n",
      "Requirement already satisfied: torch>=0.4.1 in /usr/local/lib/python3.6/dist-packages (from pytorch-pretrained-bert) (1.5.1+cu101)\n",
      "Requirement already satisfied: certifi>=2017.4.17 in /usr/local/lib/python3.6/dist-packages (from requests->pytorch-pretrained-bert) (2020.6.20)\n",
      "Requirement already satisfied: urllib3!=1.25.0,!=1.25.1,<1.26,>=1.21.1 in /usr/local/lib/python3.6/dist-packages (from requests->pytorch-pretrained-bert) (1.24.3)\n",
      "Requirement already satisfied: chardet<4,>=3.0.2 in /usr/local/lib/python3.6/dist-packages (from requests->pytorch-pretrained-bert) (3.0.4)\n",
      "Requirement already satisfied: idna<3,>=2.5 in /usr/local/lib/python3.6/dist-packages (from requests->pytorch-pretrained-bert) (2.10)\n",
      "Requirement already satisfied: botocore<1.18.0,>=1.17.20 in /usr/local/lib/python3.6/dist-packages (from boto3->pytorch-pretrained-bert) (1.17.20)\n",
      "Requirement already satisfied: s3transfer<0.4.0,>=0.3.0 in /usr/local/lib/python3.6/dist-packages (from boto3->pytorch-pretrained-bert) (0.3.3)\n",
      "Requirement already satisfied: jmespath<1.0.0,>=0.7.1 in /usr/local/lib/python3.6/dist-packages (from boto3->pytorch-pretrained-bert) (0.10.0)\n",
      "Requirement already satisfied: future in /usr/local/lib/python3.6/dist-packages (from torch>=0.4.1->pytorch-pretrained-bert) (0.16.0)\n",
      "Requirement already satisfied: python-dateutil<3.0.0,>=2.1 in /usr/local/lib/python3.6/dist-packages (from botocore<1.18.0,>=1.17.20->boto3->pytorch-pretrained-bert) (2.8.1)\n",
      "Requirement already satisfied: docutils<0.16,>=0.10 in /usr/local/lib/python3.6/dist-packages (from botocore<1.18.0,>=1.17.20->boto3->pytorch-pretrained-bert) (0.15.2)\n",
      "Requirement already satisfied: six>=1.5 in /usr/local/lib/python3.6/dist-packages (from python-dateutil<3.0.0,>=2.1->botocore<1.18.0,>=1.17.20->boto3->pytorch-pretrained-bert) (1.12.0)\n"
     ]
    }
   ],
   "source": [
    "!pip install pytorch-pretrained-bert"
   ]
  },
  {
   "cell_type": "code",
   "execution_count": 152,
   "metadata": {
    "colab": {},
    "colab_type": "code",
    "id": "KijQJd7zMJY6"
   },
   "outputs": [],
   "source": [
    "import torch\n",
    "from pytorch_pretrained_bert import BertTokenizer, BertModel, BertForMaskedLM\n",
    "\n",
    "# OPTIONAL: if you want to have more information on what's happening, activate the logger as follows\n",
    "import logging\n",
    "#logging.basicConfig(level=logging.INFO)\n",
    "import copy \n",
    "import matplotlib.pyplot as plt\n",
    "% matplotlib inline\n",
    "\n",
    "# Load pre-trained model tokenizer (vocabulary)\n",
    "tokenizer = BertTokenizer.from_pretrained('bert-base-uncased')"
   ]
  },
  {
   "cell_type": "code",
   "execution_count": 153,
   "metadata": {
    "colab": {},
    "colab_type": "code",
    "id": "rYiMlXu-ML-a"
   },
   "outputs": [],
   "source": [
    "from scipy.spatial.distance import cosine\n"
   ]
  },
  {
   "cell_type": "code",
   "execution_count": 154,
   "metadata": {
    "colab": {},
    "colab_type": "code",
    "id": "d40rORkiMPQF"
   },
   "outputs": [],
   "source": [
    "\n",
    "#FILES FOR POS TAGGING"
   ]
  },
  {
   "cell_type": "code",
   "execution_count": 155,
   "metadata": {
    "colab": {
     "base_uri": "https://localhost:8080/",
     "height": 121
    },
    "colab_type": "code",
    "id": "__FnlkEMMRm-",
    "outputId": "43035eb2-7e52-4295-b837-fbd5abb29254"
   },
   "outputs": [
    {
     "name": "stdout",
     "output_type": "stream",
     "text": [
      "[nltk_data] Downloading package punkt to /root/nltk_data...\n",
      "[nltk_data]   Package punkt is already up-to-date!\n",
      "[nltk_data] Downloading package averaged_perceptron_tagger to\n",
      "[nltk_data]     /root/nltk_data...\n",
      "[nltk_data]   Package averaged_perceptron_tagger is already up-to-\n",
      "[nltk_data]       date!\n"
     ]
    }
   ],
   "source": [
    "import nltk\n",
    "nltk.download('punkt')\n",
    "nltk.download('averaged_perceptron_tagger')\n",
    "from nltk import word_tokenize\n",
    "from nltk import StanfordTagger\n",
    "\n"
   ]
  },
  {
   "cell_type": "code",
   "execution_count": 156,
   "metadata": {
    "colab": {},
    "colab_type": "code",
    "id": "cV6nW4i8MUdD"
   },
   "outputs": [],
   "source": [
    "# print(text)\n",
    "#text is the textbook chapter in string form"
   ]
  },
  {
   "cell_type": "code",
   "execution_count": 157,
   "metadata": {
    "colab": {},
    "colab_type": "code",
    "id": "8sS5e1keMXDr"
   },
   "outputs": [],
   "source": [
    "language = \"en\"\n",
    "#max_ngram_size = 3  # Specifies max length of key phrase extracted. Default = 3\n",
    "max_ngram_size = 1\n",
    "deduplication_thresold = 0.9\n",
    "deduplication_algo = 'seqm'\n",
    "windowSize = 1\n",
    "numOfKeywords = 35"
   ]
  },
  {
   "cell_type": "code",
   "execution_count": 158,
   "metadata": {
    "colab": {},
    "colab_type": "code",
    "id": "ZKpfEerTMk5H"
   },
   "outputs": [],
   "source": [
    "###############EXTRACTING KEYWORDS USING YAKE ############################################"
   ]
  },
  {
   "cell_type": "code",
   "execution_count": 159,
   "metadata": {
    "colab": {},
    "colab_type": "code",
    "id": "GdqWmlv3Mp_Y"
   },
   "outputs": [],
   "source": [
    "\n",
    "#EXTRACTING KEYWORDS\n",
    "custom_kw_extractor = yake.KeywordExtractor(lan=language, n=max_ngram_size, dedupLim=deduplication_thresold, dedupFunc=deduplication_algo, windowsSize=windowSize, top=numOfKeywords, features=None)\n",
    "keywords = custom_kw_extractor.extract_keywords(text)"
   ]
  },
  {
   "cell_type": "code",
   "execution_count": 160,
   "metadata": {
    "colab": {},
    "colab_type": "code",
    "id": "s4s4rYTAMr8B"
   },
   "outputs": [],
   "source": [
    "#EXTRACTING KEYWORDS\n",
    "list_of_keywords=[]\n",
    "\n",
    "for kw in keywords:\n",
    "    list_of_keywords.append(kw[0])\n",
    "  \n",
    "# print(list_of_keywords)"
   ]
  },
  {
   "cell_type": "code",
   "execution_count": 161,
   "metadata": {
    "colab": {
     "base_uri": "https://localhost:8080/",
     "height": 34
    },
    "colab_type": "code",
    "id": "y_4Wr4t4MuNE",
    "outputId": "033f566f-6c11-46a0-dfb4-649998f14c61"
   },
   "outputs": [
    {
     "name": "stdout",
     "output_type": "stream",
     "text": [
      "35\n"
     ]
    }
   ],
   "source": [
    "#EXTRACTING KEYWORDS\n",
    "print(len(list_of_keywords))"
   ]
  },
  {
   "cell_type": "code",
   "execution_count": 162,
   "metadata": {
    "colab": {
     "base_uri": "https://localhost:8080/",
     "height": 54
    },
    "colab_type": "code",
    "id": "MA-fzY0TMw7a",
    "outputId": "20e73744-1238-4188-99e2-365fa37d683a"
   },
   "outputs": [
    {
     "name": "stdout",
     "output_type": "stream",
     "text": [
      "['evolution', 'life', 'figure', 'forms', 'earth', 'years', 'population', 'darwin', 'natural', 'selection', 'form', 'organisms', 'biology', 'origin', 'called', 'similar', 'animals', 'universe', 'mammals', 'time', 'water', 'adaptive', 'theory', 'mya', 'history', 'due', 'back', 'man', 'genetic', 'frequency', 'gene', 'radiation', 'moth', 'fossils', 'millions']\n"
     ]
    }
   ],
   "source": [
    "print(list_of_keywords)"
   ]
  },
  {
   "cell_type": "code",
   "execution_count": 163,
   "metadata": {
    "colab": {},
    "colab_type": "code",
    "id": "75VHOMYaM0cp"
   },
   "outputs": [],
   "source": [
    "####################POS TAGGING THE TEXT AND RESTRICTING KEYWORDS TO NOUNS#################"
   ]
  },
  {
   "cell_type": "code",
   "execution_count": 164,
   "metadata": {
    "colab": {
     "base_uri": "https://localhost:8080/",
     "height": 54
    },
    "colab_type": "code",
    "id": "RtRuCYFBNAUw",
    "outputId": "e7d16dbf-40ec-47b6-ae9e-742e5749cec9"
   },
   "outputs": [
    {
     "name": "stdout",
     "output_type": "stream",
     "text": [
      "[('BIOLOGY', 'NNP'), ('CHAPTER', 'NNP'), ('7', 'CD'), ('EVOLUTION', 'NNP'), ('7.1', 'CD'), ('Origin', 'NNP'), ('of', 'IN'), ('Life', 'NNP'), ('7.2', 'CD'), ('Evolution', 'NNP'), ('of', 'IN'), ('Life', 'NNP'), ('Forms', 'NNP'), ('-', ':'), ('A', 'NNP'), ('Theory', 'NNP'), ('7.3', 'CD'), ('What', 'WP'), ('are', 'VBP'), ('the', 'DT'), ('Evidences', 'NNS'), ('for', 'IN'), ('Evolution', 'NNP'), ('?', '.'), ('7.4', 'CD'), ('What', 'WP'), ('is', 'VBZ'), ('Adaptive', 'JJ'), ('Radiation', 'NNP'), ('?', '.'), ('Biological', 'NNP'), ('Evolution', 'NNP'), ('7.5', 'CD'), ('7.6', 'CD'), ('7.7', 'CD'), ('7.8', 'CD'), ('7.9', 'CD'), ('126', 'CD'), ('Mechanism', 'NN'), ('of', 'IN'), ('Evolution', 'NNP'), ('Hardy', 'NNP'), ('-', ':'), ('Weinberg', 'NNP'), ('Principle', 'NNP'), ('A', 'NNP'), ('Brief', 'NNP'), ('Account', 'NNP'), ('of', 'IN'), ('Evolution', 'NNP'), ('Origin', 'NNP'), ('and', 'CC'), ('Evolution', 'NNP'), ('of', 'IN'), ('Man', 'NNP'), ('Evolutionary', 'NNP'), ('Biology', 'NNP'), ('is', 'VBZ'), ('the', 'DT'), ('study', 'NN'), ('of', 'IN'), ('history', 'NN'), ('of', 'IN'), ('life', 'NN'), ('forms', 'NNS'), ('on', 'IN'), ('earth', 'NN'), ('.', '.'), ('What', 'WP'), ('exactly', 'RB'), ('is', 'VBZ'), ('evolution', 'NN'), ('?', '.'), ('To', 'TO'), ('understand', 'VB'), ('the', 'DT'), ('changes', 'NNS'), ('in', 'IN'), ('flora', 'NN'), ('and', 'CC'), ('fauna', 'NN'), ('that', 'WDT'), ('have', 'VBP'), ('occurred', 'VBN'), ('over', 'IN'), ('millions', 'NNS'), ('of', 'IN'), ('years', 'NNS'), ('on', 'IN'), ('earth', 'NN'), (',', ','), ('we', 'PRP'), ('must', 'MD'), ('have', 'VB'), ('an', 'DT'), ('understanding', 'NN'), ('of', 'IN'), ('the', 'DT'), ('context', 'NN'), ('of', 'IN'), ('origin', 'NN'), ('of', 'IN'), ('life', 'NN'), (',', ','), ('i.e.', 'FW'), (',', ','), ('evolution', 'NN'), ('of', 'IN'), ('earth', 'NN'), (',', ','), ('of', 'IN'), ('stars', 'NNS'), ('and', 'CC'), ('indeed', 'RB'), ('of', 'IN'), ('the', 'DT'), ('universe', 'JJ'), ('itself', 'PRP'), ('.', '.'), ('What', 'WP'), ('follows', 'VBZ'), ('is', 'VBZ'), ('the', 'DT'), ('longest', 'JJS'), ('of', 'IN'), ('all', 'PDT'), ('the', 'DT'), ('construed', 'VBN'), ('and', 'CC'), ('conjectured', 'VBN'), ('stories', 'NNS'), ('.', '.'), ('This', 'DT'), ('is', 'VBZ'), ('the', 'DT'), ('story', 'NN'), ('of', 'IN'), ('origin', 'NN'), ('of', 'IN'), ('life', 'NN'), ('and', 'CC'), ('evolution', 'NN'), ('of', 'IN'), ('life', 'NN'), ('forms', 'NNS'), ('or', 'CC'), ('biodiversity', 'NN'), ('on', 'IN'), ('planet', 'NN'), ('earth', 'NN'), ('in', 'IN'), ('the', 'DT'), ('context', 'NN'), ('of', 'IN'), ('evolution', 'NN'), ('of', 'IN'), ('earth', 'NN'), ('and', 'CC'), ('against', 'IN'), ('the', 'DT'), ('background', 'NN'), ('of', 'IN'), ('evolution', 'NN'), ('of', 'IN'), ('universe', 'JJ'), ('itself', 'PRP'), ('.', '.'), ('7.1', 'CD'), ('ORIGIN', 'NNP'), ('OF', 'NNP'), ('LIFE', 'NNP'), ('When', 'WRB'), ('we', 'PRP'), ('look', 'VBP'), ('at', 'IN'), ('stars', 'NNS'), ('on', 'IN'), ('a', 'DT'), ('clear', 'JJ'), ('night', 'NN'), ('sky', 'NN'), ('we', 'PRP'), ('are', 'VBP'), (',', ','), ('in', 'IN'), ('a', 'DT'), ('way', 'NN'), (',', ','), ('looking', 'VBG'), ('back', 'RB'), ('in', 'IN'), ('time', 'NN'), ('.', '.'), ('Stellar', 'JJ'), ('distances', 'NNS'), ('are', 'VBP'), ('measured', 'VBN'), ('in', 'IN'), ('light', 'JJ'), ('years', 'NNS'), ('.', '.'), ('What', 'WP'), ('we', 'PRP'), ('see', 'VBP'), ('today', 'NN'), ('is', 'VBZ'), ('an', 'DT'), ('object', 'JJ'), ('whose', 'WP$'), ('emitted', 'JJ'), ('light', 'NN'), ('started', 'VBD'), ('its', 'PRP$'), ('journey', 'NN'), ('millions', 'NNS'), ('of', 'IN'), ('year', 'NN'), ('back', 'RB'), ('and', 'CC'), ('from', 'IN'), ('trillions', 'NNS'), ('of', 'IN'), ('kilometres', 'NNS'), ('away', 'RB'), ('and', 'CC'), ('reaching', 'VBG'), ('our', 'PRP$'), ('eyes', 'NNS'), ('now', 'RB'), ('.', '.'), ('However', 'RB'), (',', ','), ('when', 'WRB'), ('we', 'PRP'), ('see', 'VBP'), ('objects', 'NNS'), ('in', 'IN'), ('our', 'PRP$'), ('immediate', 'JJ'), ('surroundings', 'NNS'), ('we', 'PRP'), ('see', 'VBP'), ('them', 'PRP'), ('instantly', 'RB'), ('and', 'CC'), ('hence', 'RB'), ('in', 'IN'), ('the', 'DT'), ('present', 'JJ'), ('time', 'NN'), ('.', '.'), ('Therefore', 'RB'), (',', ','), ('when', 'WRB'), ('we', 'PRP'), ('see', 'VBP'), ('stars', 'NNS'), ('we', 'PRP'), ('apparently', 'RB'), ('are', 'VBP'), ('peeping', 'VBG'), ('into', 'IN'), ('the', 'DT'), ('past', 'NN'), ('.', '.'), ('The', 'DT'), ('origin', 'NN'), ('of', 'IN'), ('life', 'NN'), ('is', 'VBZ'), ('considered', 'VBN'), ('a', 'DT'), ('unique', 'JJ'), ('event', 'NN'), ('in', 'IN'), ('the', 'DT'), ('history', 'NN'), ('of', 'IN'), ('universe', 'NN'), ('.', '.'), ('The', 'DT'), ('universe', 'NN'), ('is', 'VBZ'), ('vast', 'JJ'), ('.', '.'), ('Relatively', 'RB'), ('speaking', 'VBG'), ('EVOLUTION', 'NNP'), ('the', 'DT'), ('earth', 'NN'), ('itself', 'PRP'), ('is', 'VBZ'), ('almost', 'RB'), ('only', 'RB'), ('a', 'DT'), ('speck', 'NN'), ('.', '.'), ('The', 'DT'), ('universe', 'NN'), ('is', 'VBZ'), ('very', 'RB'), ('old', 'JJ'), ('–', 'NN'), ('almost', 'RB'), ('20', 'CD'), ('billion', 'CD'), ('years', 'NNS'), ('old', 'JJ'), ('.', '.'), ('Huge', 'JJ'), ('clusters', 'NNS'), ('of', 'IN'), ('galaxies', 'NNS'), ('comprise', 'VBP'), ('the', 'DT'), ('universe', 'NN'), ('.', '.'), ('Galaxies', 'NNS'), ('contain', 'VBP'), ('stars', 'NNS'), ('and', 'CC'), ('clouds', 'NN'), ('of', 'IN'), ('gas', 'NN'), ('and', 'CC'), ('dust', 'NN'), ('.', '.'), ('Considering', 'VBG'), ('the', 'DT'), ('size', 'NN'), ('of', 'IN'), ('universe', 'NN'), (',', ','), ('earth', 'NN'), ('is', 'VBZ'), ('indeed', 'RB'), ('a', 'DT'), ('speck', 'NN'), ('.', '.'), ('The', 'DT'), ('Big', 'NNP'), ('Bang', 'NNP'), ('theory', 'NN'), ('attempts', 'NNS'), ('to', 'TO'), ('explain', 'VB'), ('to', 'TO'), ('us', 'PRP'), ('the', 'DT'), ('origin', 'NN'), ('of', 'IN'), ('universe', 'NN'), ('.', '.'), ('It', 'PRP'), ('talks', 'VBZ'), ('of', 'IN'), ('a', 'DT'), ('singular', 'JJ'), ('huge', 'JJ'), ('explosion', 'NN'), ('unimaginable', 'JJ'), ('in', 'IN'), ('physical', 'JJ'), ('terms', 'NNS'), ('.', '.'), ('The', 'DT'), ('universe', 'NN'), ('expanded', 'VBD'), ('and', 'CC'), ('hence', 'RB'), (',', ','), ('the', 'DT'), ('temperature', 'NN'), ('came', 'VBD'), ('down', 'RB'), ('.', '.'), ('Hydrogen', 'NNP'), ('and', 'CC'), ('Helium', 'NNP'), ('formed', 'VBD'), ('sometime', 'RB'), ('later', 'RB'), ('.', '.'), ('The', 'DT'), ('gases', 'NNS'), ('condensed', 'VBN'), ('under', 'IN'), ('gravitation', 'NN'), ('and', 'CC'), ('formed', 'VBD'), ('the', 'DT'), ('galaxies', 'NNS'), ('of', 'IN'), ('the', 'DT'), ('present', 'JJ'), ('day', 'NN'), ('universe', 'NN'), ('.', '.'), ('In', 'IN'), ('the', 'DT'), ('solar', 'JJ'), ('system', 'NN'), ('of', 'IN'), ('the', 'DT'), ('milky', 'JJ'), ('way', 'NN'), ('galaxy', 'NN'), (',', ','), ('earth', 'NN'), ('was', 'VBD'), ('supposed', 'VBN'), ('to', 'TO'), ('have', 'VB'), ('been', 'VBN'), ('formed', 'VBN'), ('about', 'IN'), ('4.5', 'CD'), ('billion', 'CD'), ('years', 'NNS'), ('back', 'RB'), ('.', '.'), ('There', 'EX'), ('was', 'VBD'), ('no', 'DT'), ('atmosphere', 'NN'), ('on', 'IN'), ('early', 'JJ'), ('earth', 'NN'), ('.', '.'), ('Water', 'NNP'), ('vapour', 'NN'), (',', ','), ('methane', 'NN'), (',', ','), ('carbondioxide', 'NN'), ('and', 'CC'), ('ammonia', 'NN'), ('released', 'VBN'), ('from', 'IN'), ('molten', 'JJ'), ('mass', 'NN'), ('covered', 'VBD'), ('the', 'DT'), ('surface', 'NN'), ('.', '.'), ('The', 'DT'), ('UV', 'NNP'), ('rays', 'NNS'), ('from', 'IN'), ('the', 'DT'), ('sun', 'NN'), ('brokeup', 'NN'), ('water', 'NN'), ('into', 'IN'), ('Hydrogen', 'NNP'), ('and', 'CC'), ('Oxygen', 'NNP'), ('and', 'CC'), ('the', 'DT'), ('lighter', 'JJR'), ('H2', 'NNP'), ('escaped', 'VBD'), ('.', '.'), ('Oxygen', 'NN'), ('combined', 'VBN'), ('with', 'IN'), ('ammonia', 'NN'), ('and', 'CC'), ('methane', 'NN'), ('to', 'TO'), ('form', 'VB'), ('water', 'NN'), (',', ','), ('CO2', 'NNP'), ('and', 'CC'), ('others', 'NNS'), ('.', '.'), ('The', 'DT'), ('ozone', 'NN'), ('layer', 'NN'), ('was', 'VBD'), ('formed', 'VBN'), ('.', '.'), ('As', 'IN'), ('it', 'PRP'), ('cooled', 'VBD'), (',', ','), ('the', 'DT'), ('water', 'NN'), ('vapor', 'NN'), ('fell', 'VBD'), ('as', 'IN'), ('rain', 'NN'), (',', ','), ('to', 'TO'), ('fill', 'VB'), ('all', 'PDT'), ('the', 'DT'), ('depressions', 'NNS'), ('and', 'CC'), ('form', 'NN'), ('oceans', 'NNS'), ('.', '.'), ('Life', 'NNP'), ('appeared', 'VBD'), ('500', 'CD'), ('million', 'CD'), ('years', 'NNS'), ('after', 'IN'), ('the', 'DT'), ('formation', 'NN'), ('of', 'IN'), ('earth', 'NN'), (',', ','), ('i.e.', 'NN'), (',', ','), ('almost', 'RB'), ('four', 'CD'), ('billion', 'CD'), ('years', 'NNS'), ('back', 'RB'), ('.', '.'), ('Did', 'NNP'), ('life', 'NN'), ('come', 'NN'), ('from', 'IN'), ('outerspace', 'NN'), ('?', '.'), ('Some', 'DT'), ('scientists', 'NNS'), ('believe', 'VBP'), ('that', 'IN'), ('it', 'PRP'), ('came', 'VBD'), ('from', 'IN'), ('outside', 'NN'), ('.', '.'), ('Early', 'JJ'), ('Greek', 'JJ'), ('thinkers', 'NNS'), ('thought', 'VBD'), ('units', 'NNS'), ('of', 'IN'), ('life', 'NN'), ('called', 'VBN'), ('spores', 'NNS'), ('were', 'VBD'), ('transferred', 'VBN'), ('to', 'TO'), ('different', 'JJ'), ('planets', 'NNS'), ('including', 'VBG'), ('earth', 'NN'), ('.', '.'), ('‘', 'JJ'), ('Panspermia', 'NNP'), ('’', 'NN'), ('is', 'VBZ'), ('still', 'RB'), ('a', 'DT'), ('favourite', 'JJ'), ('idea', 'NN'), ('for', 'IN'), ('some', 'DT'), ('astronomers', 'NNS'), ('.', '.'), ('For', 'IN'), ('a', 'DT'), ('long', 'JJ'), ('time', 'NN'), ('it', 'PRP'), ('was', 'VBD'), ('also', 'RB'), ('believed', 'VBN'), ('that', 'IN'), ('life', 'NN'), ('came', 'VBD'), ('out', 'IN'), ('of', 'IN'), ('decaying', 'VBG'), ('and', 'CC'), ('rotting', 'VBG'), ('matter', 'NN'), ('like', 'IN'), ('straw', 'NN'), (',', ','), ('mud', 'NN'), (',', ','), ('etc', 'FW'), ('.', '.'), ('This', 'DT'), ('was', 'VBD'), ('the', 'DT'), ('theory', 'NN'), ('of', 'IN'), ('spontaneous', 'JJ'), ('generation', 'NN'), ('.', '.'), ('Louis', 'NNP'), ('Pasteur', 'NNP'), ('by', 'IN'), ('careful', 'JJ'), ('experimentation', 'NN'), ('demonstrated', 'VBD'), ('that', 'IN'), ('life', 'NN'), ('comes', 'VBZ'), ('only', 'RB'), ('from', 'IN'), ('pre-existing', 'JJ'), ('life', 'NN'), ('.', '.'), ('He', 'PRP'), ('showed', 'VBD'), ('that', 'IN'), ('in', 'IN'), ('pre-sterilised', 'JJ'), ('flasks', 'NNS'), (',', ','), ('life', 'NN'), ('did', 'VBD'), ('not', 'RB'), ('come', 'VBN'), ('from', 'IN'), ('killed', 'VBN'), ('yeast', 'NN'), ('while', 'IN'), ('in', 'IN'), ('another', 'DT'), ('flask', 'NN'), ('open', 'JJ'), ('to', 'TO'), ('air', 'NN'), (',', ','), ('new', 'JJ'), ('living', 'NN'), ('organisms', 'NNS'), ('arose', 'VBP'), ('from', 'IN'), ('‘', 'NNP'), ('killed', 'VBD'), ('yeast', 'RB'), ('’', 'NNP'), ('.', '.'), ('Spontaneous', 'JJ'), ('generation', 'NN'), ('theory', 'NN'), ('was', 'VBD'), ('dismissed', 'VBN'), ('once', 'RB'), ('and', 'CC'), ('for', 'IN'), ('all', 'DT'), ('.', '.'), ('However', 'RB'), (',', ','), ('this', 'DT'), ('did', 'VBD'), ('not', 'RB'), ('answer', 'VB'), ('how', 'WRB'), ('the', 'DT'), ('first', 'JJ'), ('life', 'NN'), ('form', 'NN'), ('came', 'VBD'), ('on', 'IN'), ('earth', 'NN'), ('.', '.'), ('Oparin', 'NNP'), ('of', 'IN'), ('Russia', 'NNP'), ('and', 'CC'), ('Haldane', 'NNP'), ('of', 'IN'), ('England', 'NNP'), ('proposed', 'VBD'), ('that', 'IN'), ('the', 'DT'), ('first', 'JJ'), ('form', 'NN'), ('of', 'IN'), ('life', 'NN'), ('could', 'MD'), ('have', 'VB'), ('come', 'VBN'), ('from', 'IN'), ('pre-existing', 'JJ'), ('non-living', 'JJ'), ('organic', 'JJ'), ('molecules', 'NNS'), ('(', '('), ('e.g', 'NN'), ('.', '.'), ('RNA', 'NNP'), (',', ','), ('protein', 'NN'), (',', ','), ('etc', 'FW'), ('.', '.'), (')', ')'), ('and', 'CC'), ('that', 'DT'), ('formation', 'NN'), ('of', 'IN'), ('life', 'NN'), ('was', 'VBD'), ('preceded', 'VBN'), ('by', 'IN'), ('chemical', 'NN'), ('evolution', 'NN'), (',', ','), ('i.e.', 'FW'), (',', ','), ('formation', 'NN'), ('of', 'IN'), ('diverse', 'JJ'), ('organic', 'JJ'), ('molecules', 'NNS'), ('from', 'IN'), ('inorganic', 'JJ'), ('constituents', 'NNS'), ('.', '.'), ('The', 'DT'), ('conditions', 'NNS'), ('on', 'IN'), ('earth', 'NN'), ('were', 'VBD'), ('–', 'JJ'), ('high', 'JJ'), ('temperature', 'NN'), (',', ','), ('volcanic', 'JJ'), ('storms', 'NNS'), (',', ','), ('reducing', 'VBG'), ('atmosphere', 'RB'), ('containing', 'VBG'), ('CH4', 'NNP'), (',', ','), ('NH3', 'NNP'), (',', ','), ('etc', 'FW'), ('.', '.'), ('In', 'IN'), ('1953', 'CD'), (',', ','), ('S.L', 'NNP'), ('.', '.'), ('Miller', 'NNP'), (',', ','), ('an', 'DT'), ('American', 'JJ'), ('scientist', 'NN'), ('created', 'VBD'), ('similar', 'JJ'), ('conditions', 'NNS'), ('in', 'IN'), ('a', 'DT'), ('laboratory', 'NN'), ('scale', 'NN'), ('(', '('), ('Figure', 'NNP'), ('7.1', 'CD'), (')', ')'), ('.', '.'), ('He', 'PRP'), ('created', 'VBD'), ('electric', 'JJ'), ('discharge', 'NN'), ('in', 'IN'), ('a', 'DT'), ('closed', 'JJ'), ('flask', 'NN'), ('containing', 'VBG'), ('CH4', 'NNP'), (',', ','), ('H2', 'NNP'), (',', ','), ('NH3', 'NNP'), ('and', 'CC'), ('water', 'NN'), ('vapaur', 'NN'), ('at', 'IN'), ('8000C', 'CD'), ('.', '.'), ('He', 'PRP'), ('observed', 'VBD'), ('formation', 'NN'), ('of', 'IN'), ('amino', 'JJ'), ('acids', 'NNS'), ('.', '.'), ('In', 'IN'), ('similar', 'JJ'), ('experiments', 'NNS'), ('others', 'NNS'), ('observed', 'VBD'), (',', ','), ('formation', 'NN'), ('of', 'IN'), ('sugars', 'NNS'), (',', ','), ('nitrogen', 'NN'), ('bases', 'NNS'), (',', ','), ('pigment', 'NN'), ('and', 'CC'), ('fats', 'NNS'), ('.', '.'), ('Analysis', 'NN'), ('of', 'IN'), ('meteorite', 'NN'), ('content', 'NN'), ('also', 'RB'), ('revealed', 'VBD'), ('similar', 'JJ'), ('compounds', 'NNS'), ('indicating', 'VBG'), ('that', 'IN'), ('similar', 'JJ'), ('processes', 'NNS'), ('are', 'VBP'), ('occurring', 'VBG'), ('elsewhere', 'RB'), ('in', 'IN'), ('space', 'NN'), ('.', '.'), ('With', 'IN'), ('this', 'DT'), ('limited', 'JJ'), ('evidence', 'NN'), (',', ','), ('the', 'DT'), ('first', 'JJ'), ('part', 'NN'), ('of', 'IN'), ('the', 'DT'), ('conjectured', 'JJ'), ('story', 'NN'), (',', ','), ('i.e.', 'FW'), (',', ','), ('chemical', 'JJ'), ('evolution', 'NN'), ('was', 'VBD'), ('more', 'RBR'), ('or', 'CC'), ('less', 'RBR'), ('accepted', 'JJ'), ('.', '.'), ('We', 'PRP'), ('have', 'VBP'), ('no', 'DT'), ('idea', 'NN'), ('about', 'IN'), ('how', 'WRB'), ('the', 'DT'), ('first', 'JJ'), ('self', 'NN'), ('replicating', 'VBG'), ('metabolic', 'JJ'), ('capsule', 'NN'), ('of', 'IN'), ('life', 'NN'), ('arose', 'NN'), ('.', '.'), ('The', 'DT'), ('first', 'JJ'), ('non-cellular', 'JJ'), ('forms', 'NNS'), ('of', 'IN'), ('life', 'NN'), ('could', 'MD'), ('have', 'VB'), ('originated', 'VBN'), ('127', 'CD'), ('BIOLOGY', 'NNP'), ('Figure', 'NNP'), ('7.1', 'CD'), ('Diagrammatic', 'NNP'), ('representation', 'NN'), ('of', 'IN'), ('Miller', 'NNP'), ('’', 'NNP'), ('s', 'VBD'), ('experiment', 'JJ'), ('3', 'CD'), ('billion', 'CD'), ('years', 'NNS'), ('back', 'RB'), ('.', '.'), ('They', 'PRP'), ('would', 'MD'), ('have', 'VB'), ('been', 'VBN'), ('giant', 'JJ'), ('molecules', 'NNS'), ('(', '('), ('RNA', 'NNP'), (',', ','), ('Protein', 'NNP'), (',', ','), ('Polysaccharides', 'NNP'), (',', ','), ('etc.', 'NN'), (')', ')'), ('.', '.'), ('These', 'DT'), ('capsules', 'NNS'), ('reproduced', 'VBD'), ('their', 'PRP$'), ('molecules', 'NNS'), ('perhaps', 'RB'), ('.', '.'), ('The', 'DT'), ('first', 'JJ'), ('cellular', 'JJ'), ('form', 'NN'), ('of', 'IN'), ('life', 'NN'), ('did', 'VBD'), ('not', 'RB'), ('possibly', 'RB'), ('originate', 'VB'), ('till', 'NN'), ('about', 'IN'), ('2000', 'CD'), ('million', 'CD'), ('years', 'NNS'), ('ago', 'RB'), ('.', '.'), ('These', 'DT'), ('were', 'VBD'), ('probably', 'RB'), ('single-cells', 'NNS'), ('.', '.'), ('All', 'DT'), ('life', 'NN'), ('forms', 'NNS'), ('were', 'VBD'), ('in', 'IN'), ('water', 'NN'), ('environment', 'NN'), ('only', 'RB'), ('.', '.'), ('This', 'DT'), ('version', 'NN'), ('of', 'IN'), ('a', 'DT'), ('biogenesis', 'NN'), (',', ','), ('i.e.', 'NN'), (',', ','), ('the', 'DT'), ('first', 'JJ'), ('form', 'NN'), ('of', 'IN'), ('life', 'NN'), ('arose', 'JJ'), ('slowly', 'RB'), ('through', 'IN'), ('evolutionary', 'JJ'), ('forces', 'NNS'), ('from', 'IN'), ('non-living', 'JJ'), ('molecules', 'NNS'), ('is', 'VBZ'), ('accepted', 'VBN'), ('by', 'IN'), ('majority', 'NN'), ('.', '.'), ('However', 'RB'), (',', ','), ('once', 'RB'), ('formed', 'VBN'), (',', ','), ('how', 'WRB'), ('the', 'DT'), ('first', 'JJ'), ('cellular', 'JJ'), ('forms', 'NNS'), ('of', 'IN'), ('life', 'NN'), ('could', 'MD'), ('have', 'VB'), ('evolved', 'VBN'), ('into', 'IN'), ('the', 'DT'), ('complex', 'JJ'), ('biodiversity', 'NN'), ('of', 'IN'), ('today', 'NN'), ('is', 'VBZ'), ('the', 'DT'), ('fascinating', 'JJ'), ('story', 'NN'), ('that', 'WDT'), ('will', 'MD'), ('be', 'VB'), ('discussed', 'VBN'), ('below', 'IN'), ('.', '.'), ('7.2', 'CD'), ('EVOLUTION', 'NNP'), ('128', 'CD'), ('OF', 'NNP'), ('LIFE', 'NNP'), ('FORMS', 'NNP'), ('–', 'VBZ'), ('A', 'NNP'), ('THEORY', 'NNP'), ('Conventional', 'NNP'), ('religious', 'JJ'), ('literature', 'NN'), ('tells', 'VBZ'), ('us', 'PRP'), ('about', 'IN'), ('the', 'DT'), ('theory', 'NN'), ('of', 'IN'), ('special', 'JJ'), ('creation', 'NN'), ('.', '.'), ('This', 'DT'), ('theory', 'NN'), ('has', 'VBZ'), ('three', 'CD'), ('connotations', 'NNS'), ('.', '.'), ('One', 'CD'), (',', ','), ('that', 'IN'), ('all', 'DT'), ('living', 'NN'), ('organisms', 'NNS'), ('(', '('), ('species', 'NNS'), ('or', 'CC'), ('types', 'NNS'), (')', ')'), ('that', 'IN'), ('we', 'PRP'), ('see', 'VBP'), (',', ','), ('today', 'NN'), ('were', 'VBD'), ('created', 'VBN'), ('as', 'IN'), ('such', 'JJ'), ('.', '.'), ('Two', 'CD'), (',', ','), ('that', 'IN'), ('the', 'DT'), ('diversity', 'NN'), ('was', 'VBD'), ('always', 'RB'), ('the', 'DT'), ('same', 'JJ'), ('since', 'IN'), ('creation', 'NN'), ('and', 'CC'), ('will', 'MD'), ('be', 'VB'), ('the', 'DT'), ('same', 'JJ'), ('in', 'IN'), ('future', 'NN'), ('also', 'RB'), ('.', '.'), ('Three', 'CD'), (',', ','), ('that', 'DT'), ('earth', 'NN'), ('is', 'VBZ'), ('about', 'IN'), ('4000', 'CD'), ('years', 'NNS'), ('old', 'JJ'), (',', ','), ('All', 'PDT'), ('these', 'DT'), ('ideas', 'NNS'), ('were', 'VBD'), ('strongly', 'RB'), ('challenged', 'VBN'), ('during', 'IN'), ('the', 'DT'), ('nineteenth', 'JJ'), ('century', 'NN'), ('.', '.'), ('Based', 'VBN'), ('on', 'IN'), ('observations', 'NNS'), ('made', 'VBN'), ('during', 'IN'), ('a', 'DT'), ('sea', 'NN'), ('voyage', 'NN'), ('in', 'IN'), ('a', 'DT'), ('sail', 'NN'), ('ship', 'NN'), ('called', 'VBN'), ('H.M.S', 'NNP'), ('.', '.'), ('Beagle', 'NNP'), ('round', 'VBD'), ('the', 'DT'), ('world', 'NN'), (',', ','), ('Charles', 'NNP'), ('Darwin', 'NNP'), ('concluded', 'VBD'), ('that', 'IN'), ('existing', 'VBG'), ('living', 'NN'), ('forms', 'NNS'), ('share', 'NN'), ('similarities', 'VBZ'), ('to', 'TO'), ('varying', 'VBG'), ('degrees', 'NNS'), ('not', 'RB'), ('only', 'RB'), ('among', 'IN'), ('themselves', 'PRP'), ('but', 'CC'), ('also', 'RB'), ('with', 'IN'), ('life', 'NN'), ('forms', 'NNS'), ('that', 'WDT'), ('existed', 'VBD'), ('millions', 'NNS'), ('of', 'IN'), ('years', 'NNS'), ('ago', 'RB'), ('.', '.'), ('Many', 'JJ'), ('such', 'JJ'), ('life', 'NN'), ('forms', 'NNS'), ('do', 'VBP'), ('not', 'RB'), ('exist', 'VB'), ('any', 'DT'), ('more', 'JJR'), ('.', '.'), ('There', 'EX'), ('had', 'VBD'), ('been', 'VBN'), ('extinctions', 'NNS'), ('of', 'IN'), ('different', 'JJ'), ('life', 'NN'), ('forms', 'NNS'), ('in', 'IN'), ('the', 'DT'), ('EVOLUTION', 'NNP'), ('years', 'NNS'), ('gone', 'VBN'), ('by', 'IN'), ('just', 'RB'), ('as', 'IN'), ('new', 'JJ'), ('forms', 'NNS'), ('of', 'IN'), ('life', 'NN'), ('arose', 'VBP'), ('at', 'IN'), ('different', 'JJ'), ('periods', 'NNS'), ('of', 'IN'), ('history', 'NN'), ('of', 'IN'), ('earth', 'NN'), ('.', '.'), ('There', 'EX'), ('has', 'VBZ'), ('been', 'VBN'), ('gradual', 'JJ'), ('evolution', 'NN'), ('of', 'IN'), ('life', 'NN'), ('forms', 'NNS'), ('.', '.'), ('Any', 'DT'), ('population', 'NN'), ('has', 'VBZ'), ('built', 'VBN'), ('in', 'IN'), ('variation', 'NN'), ('in', 'IN'), ('characteristics', 'NNS'), ('.', '.'), ('Those', 'DT'), ('characteristics', 'NNS'), ('which', 'WDT'), ('enable', 'VBP'), ('some', 'DT'), ('to', 'TO'), ('survive', 'VB'), ('better', 'RB'), ('in', 'IN'), ('natural', 'JJ'), ('conditions', 'NNS'), ('(', '('), ('climate', 'NN'), (',', ','), ('food', 'NN'), (',', ','), ('physical', 'JJ'), ('factors', 'NNS'), (',', ','), ('etc', 'FW'), ('.', '.'), (')', ')'), ('would', 'MD'), ('outbreed', 'VB'), ('others', 'NNS'), ('that', 'WDT'), ('are', 'VBP'), ('less-endowed', 'JJ'), ('to', 'TO'), ('survive', 'VB'), ('under', 'IN'), ('such', 'JJ'), ('natural', 'JJ'), ('conditions', 'NNS'), ('.', '.'), ('Another', 'DT'), ('word', 'NN'), ('used', 'VBN'), ('is', 'VBZ'), ('fitness', 'NN'), ('of', 'IN'), ('the', 'DT'), ('individual', 'NN'), ('or', 'CC'), ('population', 'NN'), ('.', '.'), ('The', 'DT'), ('fitness', 'NN'), (',', ','), ('according', 'VBG'), ('to', 'TO'), ('Darwin', 'NNP'), (',', ','), ('refers', 'VBZ'), ('ultimately', 'RB'), ('and', 'CC'), ('only', 'RB'), ('to', 'TO'), ('reproductive', 'VB'), ('fitness', 'NN'), ('.', '.'), ('Hence', 'NNP'), (',', ','), ('those', 'DT'), ('who', 'WP'), ('are', 'VBP'), ('better', 'JJR'), ('fit', 'NN'), ('in', 'IN'), ('an', 'DT'), ('environment', 'NN'), (',', ','), ('leave', 'VBP'), ('more', 'JJR'), ('progeny', 'NNS'), ('than', 'IN'), ('others', 'NNS'), ('.', '.'), ('These', 'DT'), (',', ','), ('therefore', 'RB'), (',', ','), ('will', 'MD'), ('survive', 'VB'), ('more', 'JJR'), ('and', 'CC'), ('hence', 'NN'), ('are', 'VBP'), ('selected', 'VBN'), ('by', 'IN'), ('nature', 'NN'), ('.', '.'), ('He', 'PRP'), ('called', 'VBD'), ('it', 'PRP'), ('natural', 'JJ'), ('selection', 'NN'), ('and', 'CC'), ('implied', 'VBD'), ('it', 'PRP'), ('as', 'IN'), ('a', 'DT'), ('mechanism', 'NN'), ('of', 'IN'), ('evolution', 'NN'), ('.', '.'), ('Let', 'VB'), ('us', 'PRP'), ('also', 'RB'), ('remember', 'VBP'), ('that', 'IN'), ('Alfred', 'NNP'), ('Wallace', 'NNP'), (',', ','), ('a', 'DT'), ('naturalist', 'NN'), ('who', 'WP'), ('worked', 'VBD'), ('in', 'IN'), ('Malay', 'NNP'), ('Archepelago', 'NNP'), ('had', 'VBD'), ('also', 'RB'), ('come', 'VBN'), ('to', 'TO'), ('similar', 'JJ'), ('conclusions', 'NNS'), ('around', 'IN'), ('the', 'DT'), ('same', 'JJ'), ('time', 'NN'), ('.', '.'), ('In', 'IN'), ('due', 'JJ'), ('course', 'NN'), ('of', 'IN'), ('time', 'NN'), (',', ','), ('apparently', 'RB'), ('new', 'JJ'), ('types', 'NNS'), ('of', 'IN'), ('organisms', 'NNS'), ('are', 'VBP'), ('recognisable', 'JJ'), ('.', '.'), ('All', 'PDT'), ('the', 'DT'), ('existing', 'VBG'), ('life', 'NN'), ('forms', 'NNS'), ('share', 'NN'), ('similarities', 'NNS'), ('and', 'CC'), ('share', 'NN'), ('common', 'JJ'), ('ancestors', 'NNS'), ('.', '.'), ('However', 'RB'), (',', ','), ('these', 'DT'), ('ancestors', 'NNS'), ('were', 'VBD'), ('present', 'JJ'), ('at', 'IN'), ('different', 'JJ'), ('periods', 'NNS'), ('in', 'IN'), ('the', 'DT'), ('history', 'NN'), ('of', 'IN'), ('earth', 'NN'), ('(', '('), ('epochs', 'JJ'), (',', ','), ('periods', 'NNS'), ('and', 'CC'), ('eras', 'NNS'), (')', ')'), ('.', '.'), ('The', 'DT'), ('geological', 'JJ'), ('history', 'NN'), ('of', 'IN'), ('earth', 'NN'), ('closely', 'RB'), ('correlates', 'VBZ'), ('with', 'IN'), ('the', 'DT'), ('biological', 'JJ'), ('history', 'NN'), ('of', 'IN'), ('earth', 'NN'), ('.', '.'), ('A', 'DT'), ('common', 'JJ'), ('permissible', 'JJ'), ('conclusion', 'NN'), ('is', 'VBZ'), ('that', 'IN'), ('earth', 'NN'), ('is', 'VBZ'), ('very', 'RB'), ('old', 'JJ'), (',', ','), ('not', 'RB'), ('thousand', 'CD'), ('of', 'IN'), ('years', 'NNS'), ('as', 'IN'), ('was', 'VBD'), ('thought', 'VBN'), ('earlier', 'RB'), ('but', 'CC'), ('billions', 'NNS'), ('of', 'IN'), ('years', 'NNS'), ('old', 'JJ'), ('.', '.'), ('7.3', 'CD'), ('WHAT', 'WDT'), ('ARE', 'NNP'), ('THE', 'NNP'), ('EVIDENCES', 'NNP'), ('FOR', 'NNP'), ('EVOLUTION', 'NNP'), ('?', '.'), ('Evidence', 'NN'), ('that', 'IN'), ('evolution', 'NN'), ('of', 'IN'), ('life', 'NN'), ('forms', 'NNS'), ('has', 'VBZ'), ('indeed', 'RB'), ('taken', 'VBN'), ('place', 'NN'), ('on', 'IN'), ('earth', 'NN'), ('has', 'VBZ'), ('come', 'VBN'), ('from', 'IN'), ('many', 'JJ'), ('quarters', 'NNS'), ('.', '.'), ('Fossils', 'NNS'), ('are', 'VBP'), ('remained', 'VBN'), ('of', 'IN'), ('hard', 'JJ'), ('parts', 'NNS'), ('of', 'IN'), ('life-forms', 'NNS'), ('found', 'VBN'), ('in', 'IN'), ('rocks', 'NNS'), ('.', '.'), ('Rocks', 'NNS'), ('form', 'VBP'), ('sediments', 'NNS'), ('and', 'CC'), ('a', 'DT'), ('cross-section', 'NN'), ('of', 'IN'), ('earth', 'NN'), (\"'s\", 'POS'), ('crust', 'NN'), ('indicates', 'VBZ'), ('the', 'DT'), ('arrangement', 'NN'), ('of', 'IN'), ('sediments', 'NNS'), ('one', 'CD'), ('over', 'IN'), ('the', 'DT'), ('other', 'JJ'), ('during', 'IN'), ('the', 'DT'), ('long', 'JJ'), ('history', 'NN'), ('of', 'IN'), ('earth', 'NN'), ('.', '.'), ('Different-aged', 'JJ'), ('rock', 'NN'), ('sediments', 'NNS'), ('contain', 'VBP'), ('fossils', 'NNS'), ('of', 'IN'), ('different', 'JJ'), ('life-forms', 'NNS'), ('who', 'WP'), ('probably', 'RB'), ('died', 'VBD'), ('during', 'IN'), ('the', 'DT'), ('formation', 'NN'), ('of', 'IN'), ('the', 'DT'), ('particular', 'JJ'), ('sediment', 'NN'), ('.', '.'), ('Some', 'DT'), ('of', 'IN'), ('them', 'PRP'), ('appear', 'VBP'), ('similar', 'JJ'), ('to', 'TO'), ('modern', 'JJ'), ('organisms', 'NNS'), ('(', '('), ('Figure', 'NNP'), ('7.2', 'CD'), (')', ')'), ('.', '.'), ('They', 'PRP'), ('represent', 'VBP'), ('extinct', 'JJ'), ('organisms', 'NNS'), ('(', '('), ('e.g.', 'NN'), (',', ','), ('Dinosaurs', 'NNP'), (')', ')'), ('.', '.'), ('A', 'DT'), ('study', 'NN'), ('of', 'IN'), ('fossils', 'NNS'), ('in', 'IN'), ('different', 'JJ'), ('sedimentary', 'JJ'), ('layers', 'NNS'), ('indicates', 'VBZ'), ('the', 'DT'), ('geological', 'JJ'), ('period', 'NN'), ('in', 'IN'), ('which', 'WDT'), ('they', 'PRP'), ('existed', 'VBD'), ('.', '.'), ('The', 'DT'), ('study', 'NN'), ('showed', 'VBD'), ('that', 'IN'), ('life-forms', 'NNS'), ('varied', 'VBD'), ('over', 'IN'), ('time', 'NN'), ('and', 'CC'), ('certain', 'JJ'), ('life', 'NN'), ('forms', 'NNS'), ('are', 'VBP'), ('restricted', 'VBN'), ('to', 'TO'), ('certain', 'JJ'), ('geological', 'JJ'), ('time-spans', 'NNS'), ('.', '.'), ('Hence', 'NNP'), (',', ','), ('new', 'JJ'), ('forms', 'NNS'), ('of', 'IN'), ('life', 'NN'), ('have', 'VBP'), ('arisen', 'VBN'), ('at', 'IN'), ('different', 'JJ'), ('times', 'NNS'), ('in', 'IN'), ('the', 'DT'), ('history', 'NN'), ('of', 'IN'), ('earth', 'NN'), ('.', '.'), ('All', 'PDT'), ('this', 'DT'), ('is', 'VBZ'), ('called', 'VBN'), ('paleontological', 'JJ'), ('evidence', 'NN'), ('.', '.'), ('Do', 'VB'), ('you', 'PRP'), ('remember', 'VB'), ('how', 'WRB'), ('the', 'DT'), ('ages', 'NNS'), ('of', 'IN'), ('the', 'DT'), ('fossils', 'NNS'), ('are', 'VBP'), ('calculated', 'VBN'), ('?', '.'), ('Do', 'VBP'), ('you', 'PRP'), ('recollect', 'VB'), ('the', 'DT'), ('method', 'NN'), ('of', 'IN'), ('radioactivedating', 'VBG'), ('and', 'CC'), ('the', 'DT'), ('principles', 'NNS'), ('behind', 'IN'), ('the', 'DT'), ('procedure', 'NN'), ('?', '.'), ('Comparative', 'JJ'), ('anatomy', 'NN'), ('and', 'CC'), ('morphology', 'NN'), ('shows', 'NNS'), ('similarities', 'NNS'), ('and', 'CC'), ('differences', 'NNS'), ('among', 'IN'), ('organisms', 'NNS'), ('of', 'IN'), ('today', 'NN'), ('and', 'CC'), ('those', 'DT'), ('that', 'WDT'), ('existed', 'VBD'), ('years', 'NNS'), ('ago', 'RB'), ('.', '.'), ('Such', 'JJ'), ('similarities', 'NNS'), ('can', 'MD'), ('be', 'VB'), ('interpreted', 'VBN'), ('to', 'TO'), ('understand', 'VB'), ('whether', 'IN'), ('common', 'JJ'), ('ancestors', 'NNS'), ('were', 'VBD'), ('shared', 'VBN'), ('or', 'CC'), ('not', 'RB'), ('.', '.'), ('For', 'IN'), ('example', 'NN'), ('whales', 'NNS'), (',', ','), ('bats', 'NNS'), (',', ','), ('Cheetah', 'NNP'), ('and', 'CC'), ('human', 'JJ'), ('(', '('), ('all', 'DT'), ('mammals', 'NNS'), (')', ')'), ('share', 'NN'), ('similarities', 'NNS'), ('in', 'IN'), ('the', 'DT'), ('pattern', 'NN'), ('of', 'IN'), ('bones', 'NNS'), ('of', 'IN'), ('forelimbs', 'NNS'), ('(', '('), ('Figure', 'NNP'), ('7.3b', 'CD'), (')', ')'), ('.', '.'), ('Though', 'IN'), ('these', 'DT'), ('forelimbs', 'NNS'), ('perform', 'VBP'), ('different', 'JJ'), ('functions', 'NNS'), ('in', 'IN'), ('these', 'DT'), ('animals', 'NNS'), (',', ','), ('they', 'PRP'), ('have', 'VBP'), ('similar', 'JJ'), ('anatomical', 'JJ'), ('structure', 'NN'), ('–', 'NNP'), ('all', 'DT'), ('of', 'IN'), ('them', 'PRP'), ('have', 'VBP'), ('129', 'CD'), ('BIOLOGY', 'NNP'), ('Figure', 'NNP'), ('7.2', 'CD'), ('A', 'NNP'), ('family', 'NN'), ('tree', 'NN'), ('of', 'IN'), ('dinosaurs', 'NNS'), ('and', 'CC'), ('their', 'PRP$'), ('living', 'NN'), ('modern', 'JJ'), ('day', 'NN'), ('counterpart', 'VB'), ('organisms', 'NNS'), ('like', 'IN'), ('crocodiles', 'NNS'), ('and', 'CC'), ('birds', 'NNS'), ('130', 'CD'), ('humerus', 'NN'), (',', ','), ('radius', 'NN'), (',', ','), ('ulna', 'JJ'), (',', ','), ('carpals', 'NNS'), (',', ','), ('metacarpals', 'NNS'), ('and', 'CC'), ('phalanges', 'NNS'), ('in', 'IN'), ('their', 'PRP$'), ('forelimbs', 'NN'), ('.', '.'), ('Hence', 'NNP'), (',', ','), ('in', 'IN'), ('these', 'DT'), ('animals', 'NNS'), (',', ','), ('the', 'DT'), ('same', 'JJ'), ('structure', 'NN'), ('developed', 'VBD'), ('along', 'RB'), ('different', 'JJ'), ('directions', 'NNS'), ('due', 'JJ'), ('to', 'TO'), ('adaptions', 'NNS'), ('to', 'TO'), ('different', 'JJ'), ('needs', 'NNS'), ('.', '.'), ('This', 'DT'), ('is', 'VBZ'), ('divergent', 'JJ'), ('evolution', 'NN'), ('and', 'CC'), ('these', 'DT'), ('structures', 'NNS'), ('are', 'VBP'), ('homologous', 'JJ'), ('.', '.'), ('Homology', 'NNP'), ('indicates', 'VBZ'), ('common', 'JJ'), ('ancestry', 'NN'), ('.', '.'), ('Other', 'JJ'), ('examples', 'NNS'), ('are', 'VBP'), ('vertebrate', 'JJ'), ('hearts', 'NNS'), ('or', 'CC'), ('brains', 'NNS'), ('.', '.'), ('In', 'IN'), ('plants', 'NNS'), ('also', 'RB'), (',', ','), ('the', 'DT'), ('thorn', 'NN'), ('and', 'CC'), ('tendrils', 'NNS'), ('of', 'IN'), ('Bougainvillea', 'NNP'), ('and', 'CC'), ('Cucurbita', 'NNP'), ('represent', 'VBP'), ('homology', 'NN'), ('(', '('), ('Figure', 'NNP'), ('7.3a', 'CD'), (')', ')'), ('.', '.'), ('Homology', 'NNP'), ('is', 'VBZ'), ('based', 'VBN'), ('on', 'IN'), ('divergent', 'JJ'), ('evolution', 'NN'), ('whereas', 'IN'), ('analogy', 'NN'), ('refers', 'NNS'), ('to', 'TO'), ('a', 'DT'), ('situation', 'NN'), ('exactly', 'RB'), ('opposite', 'RB'), ('.', '.'), ('Wings', 'NNS'), ('of', 'IN'), ('butterfly', 'NN'), ('and', 'CC'), ('of', 'IN'), ('birds', 'NNS'), ('look', 'VBP'), ('alike', 'RB'), ('.', '.'), ('They', 'PRP'), ('are', 'VBP'), ('not', 'RB'), ('anatomically', 'RB'), ('similar', 'JJ'), ('EVOLUTION', 'NNP'), ('structures', 'NNS'), ('though', 'IN'), ('they', 'PRP'), ('perform', 'VBP'), ('similar', 'JJ'), ('functions', 'NNS'), ('.', '.'), ('Hence', 'NNP'), (',', ','), ('analogous', 'JJ'), ('structures', 'NNS'), ('are', 'VBP'), ('a', 'DT'), ('result', 'NN'), ('of', 'IN'), ('convergent', 'JJ'), ('evolution', 'NN'), ('different', 'JJ'), ('structures', 'NNS'), ('evolving', 'VBG'), ('for', 'IN'), ('the', 'DT'), ('same', 'JJ'), ('function', 'NN'), ('and', 'CC'), ('hence', 'NN'), ('having', 'VBG'), ('similarity', 'NN'), ('.', '.'), ('Other', 'JJ'), ('examples', 'NNS'), ('of', 'IN'), ('analogy', 'NN'), ('are', 'VBP'), ('the', 'DT'), ('eye', 'NN'), ('of', 'IN'), ('the', 'DT'), ('octopus', 'NN'), ('and', 'CC'), ('of', 'IN'), ('mammals', 'NNS'), ('or', 'CC'), ('the', 'DT'), ('flippers', 'NNS'), ('of', 'IN'), ('Penguins', 'NNP'), ('and', 'CC'), ('Dolphins', 'NNP'), ('.', '.'), ('One', 'CD'), ('can', 'MD'), ('say', 'VB'), ('that', 'IN'), ('it', 'PRP'), ('is', 'VBZ'), ('the', 'DT'), ('similar', 'JJ'), ('habitat', 'NN'), ('that', 'WDT'), ('has', 'VBZ'), ('resulted', 'VBN'), ('in', 'IN'), ('selection', 'NN'), ('of', 'IN'), ('similar', 'JJ'), ('adaptive', 'JJ'), ('features', 'NNS'), ('in', 'IN'), ('different', 'JJ'), ('groups', 'NNS'), ('of', 'IN'), ('organisms', 'NNS'), ('but', 'CC'), ('toward', 'IN'), ('the', 'DT'), ('same', 'JJ'), ('function', 'NN'), (':', ':'), ('(', '('), ('a', 'DT'), (')', ')'), ('Sweet', 'NNP'), ('potato', 'NN'), ('(', '('), ('root', 'JJ'), ('modification', 'NN'), (')', ')'), ('and', 'CC'), ('potato', 'NN'), ('(', '('), ('stem', 'JJ'), ('modification', 'NN'), (')', ')'), ('is', 'VBZ'), ('another', 'DT'), ('example', 'NN'), ('for', 'IN'), ('analogy', 'NN'), ('.', '.'), ('In', 'IN'), ('the', 'DT'), ('same', 'JJ'), ('line', 'NN'), ('of', 'IN'), ('argument', 'NN'), (',', ','), ('similarities', 'NNS'), ('in', 'IN'), ('proteins', 'NNS'), ('and', 'CC'), ('genes', 'NNS'), ('performing', 'VBG'), ('a', 'DT'), ('given', 'VBN'), ('function', 'NN'), ('among', 'IN'), ('diverse', 'JJ'), ('organisms', 'NNS'), ('give', 'VBP'), ('clues', 'NNS'), ('to', 'TO'), ('common', 'JJ'), ('ancestry', 'NN'), ('.', '.'), ('These', 'DT'), ('biochemical', 'JJ'), ('similarities', 'NNS'), ('point', 'NN'), ('to', 'TO'), ('the', 'DT'), ('same', 'JJ'), ('shared', 'JJ'), ('ancestry', 'NN'), ('as', 'IN'), ('structural', 'JJ'), ('similarities', 'NNS'), ('among', 'IN'), ('diverse', 'JJ'), ('organisms', 'NNS'), ('.', '.'), ('Man', 'NN'), ('has', 'VBZ'), ('bred', 'VBN'), ('selected', 'VBN'), ('plants', 'NNS'), ('and', 'CC'), ('animals', 'NNS'), ('for', 'IN'), ('agriculture', 'NN'), (',', ','), ('horticulture', 'NN'), (',', ','), ('sport', 'NN'), ('or', 'CC'), ('security', 'NN'), ('.', '.'), ('Man', 'NN'), ('has', 'VBZ'), ('domesticated', 'VBN'), ('many', 'JJ'), ('wild', 'JJ'), ('animals', 'NNS'), ('and', 'CC'), ('crops', 'NNS'), ('.', '.'), ('This', 'DT'), ('intensive', 'JJ'), ('breeding', 'NN'), ('programme', 'NN'), ('has', 'VBZ'), ('created', 'VBN'), ('breeds', 'NNS'), ('that', 'WDT'), ('differ', 'VBP'), ('from', 'IN'), ('other', 'JJ'), ('breeds', 'NNS'), ('(', '('), ('e.g.', 'NN'), (',', ','), ('dogs', 'NNS'), (')', ')'), ('but', 'CC'), ('still', 'RB'), ('are', 'VBP'), ('of', 'IN'), ('the', 'DT'), ('same', 'JJ'), ('group', 'NN'), ('.', '.'), ('It', 'PRP'), ('is', 'VBZ'), ('argued', 'VBN'), ('that', 'IN'), ('if', 'IN'), ('within', 'IN'), ('hundred', 'CD'), ('of', 'IN'), ('years', 'NNS'), (',', ','), ('man', 'NN'), ('could', 'MD'), ('create', 'VB'), ('new', 'JJ'), ('breeds', 'NNS'), (',', ','), ('could', 'MD'), ('not', 'RB'), ('nature', 'VB'), ('have', 'VBP'), ('(', '('), ('b', 'NN'), (')', ')'), ('done', 'VBN'), ('the', 'DT'), ('same', 'JJ'), ('over', 'IN'), ('millions', 'NNS'), ('of', 'IN'), ('years', 'NNS'), ('?', '.'), ('Another', 'DT'), ('interesting', 'JJ'), ('observation', 'NN'), ('Figure', 'NNP'), ('7.3', 'CD'), ('Example', 'NNP'), ('of', 'IN'), ('homologous', 'JJ'), ('organs', 'NNS'), ('in', 'IN'), ('supporting', 'VBG'), ('evolution', 'NN'), ('by', 'IN'), ('natural', 'JJ'), ('selection', 'NN'), ('(', '('), ('a', 'DT'), (')', ')'), ('Plants', 'NNS'), ('and', 'CC'), ('(', '('), ('b', 'NN'), (')', ')'), ('Animals', 'NNS'), ('comes', 'VBZ'), ('from', 'IN'), ('England', 'NNP'), ('.', '.'), ('In', 'IN'), ('a', 'DT'), ('collection', 'NN'), ('of', 'IN'), ('moths', 'NNS'), ('made', 'VBN'), ('in', 'IN'), ('1850s', 'CD'), (',', ','), ('i.e.', 'FW'), (',', ','), ('before', 'IN'), ('industrialisation', 'NN'), ('set', 'VBN'), ('in', 'IN'), (',', ','), ('it', 'PRP'), ('was', 'VBD'), ('observed', 'VBN'), ('that', 'IN'), ('there', 'EX'), ('were', 'VBD'), ('more', 'JJR'), ('white-winged', 'JJ'), ('moths', 'NNS'), ('on', 'IN'), ('trees', 'NNS'), ('than', 'IN'), ('dark-winged', 'JJ'), ('or', 'CC'), ('melanised', 'JJ'), ('moths', 'NNS'), ('.', '.'), ('However', 'RB'), (',', ','), ('in', 'IN'), ('the', 'DT'), ('collection', 'NN'), ('carried', 'VBD'), ('out', 'IN'), ('from', 'IN'), ('the', 'DT'), ('same', 'JJ'), ('131', 'CD'), ('area', 'NN'), (',', ','), ('but', 'CC'), ('after', 'IN'), ('industrialisation', 'NN'), (',', ','), ('i.e.', 'FW'), (',', ','), ('in', 'IN'), ('1920', 'CD'), (',', ','), ('there', 'EX'), ('were', 'VBD'), ('more', 'JJR'), ('dark-winged', 'JJ'), ('moths', 'NNS'), ('in', 'IN'), ('the', 'DT'), ('same', 'JJ'), ('area', 'NN'), (',', ','), ('i.e.', 'FW'), (',', ','), ('the', 'DT'), ('proportion', 'NN'), ('was', 'VBD'), ('reversed', 'VBN'), ('.', '.'), ('The', 'DT'), ('explanation', 'NN'), ('put', 'VBD'), ('forth', 'RB'), ('for', 'IN'), ('this', 'DT'), ('observation', 'NN'), ('was', 'VBD'), ('that', 'IN'), ('‘', 'JJ'), ('predators', 'NNS'), ('will', 'MD'), ('spot', 'VB'), ('a', 'DT'), ('moth', 'NN'), ('against', 'IN'), ('a', 'DT'), ('contrasting', 'NN'), ('background', 'NN'), ('’', 'NNP'), ('.', '.'), ('During', 'IN'), ('postindustrialisation', 'NN'), ('period', 'NN'), (',', ','), ('the', 'DT'), ('tree', 'JJ'), ('trunks', 'NNS'), ('became', 'VBD'), ('dark', 'JJ'), ('due', 'JJ'), ('to', 'TO'), ('industrial', 'JJ'), ('smoke', 'NN'), ('and', 'CC'), ('soots', 'NNS'), ('.', '.'), ('Under', 'IN'), ('this', 'DT'), ('condition', 'NN'), ('the', 'DT'), ('white-winged', 'JJ'), ('moth', 'NN'), ('did', 'VBD'), ('not', 'RB'), ('BIOLOGY', 'NNP'), ('(', '('), ('a', 'DT'), (')', ')'), ('(', '('), ('b', 'NN'), (')', ')'), ('Figure', 'NN'), ('7.4', 'CD'), ('Figure', 'NN'), ('showing', 'VBG'), ('white', 'JJ'), ('-', ':'), ('winged', 'VBN'), ('moth', 'DT'), ('and', 'CC'), ('dark', 'JJ'), ('-', ':'), ('winged', 'VBN'), ('moth', 'NN'), ('(', '('), ('melanised', 'VBN'), (')', ')'), ('on', 'IN'), ('a', 'DT'), ('tree', 'JJ'), ('trunk', 'NN'), ('(', '('), ('a', 'DT'), (')', ')'), ('In', 'IN'), ('unpolluted', 'JJ'), ('area', 'NN'), ('(', '('), ('b', 'NN'), (')', ')'), ('In', 'IN'), ('polluted', 'JJ'), ('area', 'NN'), ('survive', 'NN'), ('due', 'JJ'), ('to', 'TO'), ('predators', 'NNS'), (',', ','), ('dark-winged', 'JJ'), ('or', 'CC'), ('melanised', 'VBN'), ('moth', 'DT'), ('survived', 'VBN'), ('.', '.'), ('Before', 'IN'), ('industrialisation', 'NN'), ('set', 'VBN'), ('in', 'IN'), (',', ','), ('thick', 'JJ'), ('growth', 'NN'), ('of', 'IN'), ('almost', 'RB'), ('white-coloured', 'JJ'), ('lichen', 'NN'), ('covered', 'VBD'), ('the', 'DT'), ('trees', 'NNS'), ('-', ':'), ('in', 'IN'), ('that', 'DT'), ('background', 'VBD'), ('the', 'DT'), ('white', 'JJ'), ('winged', 'VBD'), ('moth', 'DT'), ('survived', 'VBN'), ('but', 'CC'), ('the', 'DT'), ('dark-coloured', 'JJ'), ('moth', 'NN'), ('were', 'VBD'), ('picked', 'VBN'), ('out', 'RP'), ('by', 'IN'), ('predators', 'NNS'), ('.', '.'), ('Do', 'VBP'), ('you', 'PRP'), ('know', 'VB'), ('that', 'IN'), ('lichens', 'NNS'), ('can', 'MD'), ('be', 'VB'), ('used', 'VBN'), ('as', 'IN'), ('industrial', 'JJ'), ('pollution', 'NN'), ('indicators', 'NNS'), ('?', '.'), ('They', 'PRP'), ('will', 'MD'), ('not', 'RB'), ('grow', 'VB'), ('in', 'IN'), ('areas', 'NNS'), ('that', 'WDT'), ('are', 'VBP'), ('polluted', 'VBN'), ('.', '.'), ('Hence', 'NNP'), (',', ','), ('moths', 'NNS'), ('that', 'WDT'), ('were', 'VBD'), ('able', 'JJ'), ('to', 'TO'), ('camouflage', 'VB'), ('themselves', 'PRP'), (',', ','), ('i.e.', 'FW'), (',', ','), ('hide', 'NN'), ('in', 'IN'), ('the', 'DT'), ('background', 'NN'), (',', ','), ('survived', 'VBN'), ('(', '('), ('Figure', 'NNP'), ('7.4', 'CD'), (')', ')'), ('.', '.'), ('This', 'DT'), ('understanding', 'NN'), ('is', 'VBZ'), ('supported', 'VBN'), ('by', 'IN'), ('the', 'DT'), ('fact', 'NN'), ('that', 'IN'), ('in', 'IN'), ('areas', 'NNS'), ('where', 'WRB'), ('industrialisation', 'NN'), ('did', 'VBD'), ('not', 'RB'), ('occur', 'VB'), ('e.g.', 'NN'), (',', ','), ('in', 'IN'), ('rural', 'JJ'), ('areas', 'NNS'), (',', ','), ('the', 'DT'), ('count', 'NN'), ('of', 'IN'), ('melanic', 'JJ'), ('moths', 'NNS'), ('was', 'VBD'), ('low', 'JJ'), ('.', '.'), ('This', 'DT'), ('showed', 'VBD'), ('that', 'IN'), ('in', 'IN'), ('a', 'DT'), ('mixed', 'JJ'), ('population', 'NN'), (',', ','), ('those', 'DT'), ('that', 'WDT'), ('can', 'MD'), ('better-adapt', 'VB'), (',', ','), ('survive', 'JJ'), ('and', 'CC'), ('increase', 'VB'), ('in', 'IN'), ('population', 'NN'), ('size', 'NN'), ('.', '.'), ('Remember', 'NNP'), ('that', 'IN'), ('no', 'DT'), ('variant', 'NN'), ('is', 'VBZ'), ('completely', 'RB'), ('wiped', 'VBN'), ('out', 'RP'), ('.', '.'), ('Similarly', 'RB'), (',', ','), ('excess', 'JJ'), ('use', 'NN'), ('of', 'IN'), ('herbicides', 'NNS'), (',', ','), ('pesticides', 'NNS'), (',', ','), ('etc.', 'NN'), (',', ','), ('has', 'VBZ'), ('only', 'RB'), ('resulted', 'VBN'), ('in', 'IN'), ('selection', 'NN'), ('of', 'IN'), ('resistant', 'JJ'), ('varieties', 'NNS'), ('in', 'IN'), ('a', 'DT'), ('much', 'RB'), ('lesser', 'JJR'), ('time', 'NN'), ('scale', 'NN'), ('.', '.'), ('This', 'DT'), ('is', 'VBZ'), ('also', 'RB'), ('true', 'JJ'), ('for', 'IN'), ('microbes', 'NNS'), ('against', 'IN'), ('which', 'WDT'), ('we', 'PRP'), ('employ', 'VBP'), ('antibiotics', 'NNS'), ('or', 'CC'), ('drugs', 'NNS'), ('against', 'IN'), ('eukaryotic', 'JJ'), ('organisms/cell', 'NN'), ('.', '.'), ('Hence', 'NNP'), (',', ','), ('resistant', 'JJ'), ('organisms/cells', 'NNS'), ('are', 'VBP'), ('appearing', 'VBG'), ('in', 'IN'), ('a', 'DT'), ('time', 'NN'), ('scale', 'NN'), ('of', 'IN'), ('months', 'NNS'), ('or', 'CC'), ('years', 'NNS'), ('and', 'CC'), ('not', 'RB'), ('centuries', 'NNS'), ('.', '.'), ('These', 'DT'), ('are', 'VBP'), ('examples', 'NNS'), ('of', 'IN'), ('evolution', 'NN'), ('by', 'IN'), ('anthropogenic', 'JJ'), ('action', 'NN'), ('.', '.'), ('This', 'DT'), ('also', 'RB'), ('tells', 'VBZ'), ('us', 'PRP'), ('that', 'IN'), ('evolution', 'NN'), ('is', 'VBZ'), ('not', 'RB'), ('a', 'DT'), ('direct', 'JJ'), ('process', 'NN'), ('in', 'IN'), ('the', 'DT'), ('sense', 'NN'), ('of', 'IN'), ('determinism', 'NN'), ('.', '.'), ('It', 'PRP'), ('is', 'VBZ'), ('a', 'DT'), ('stochastic', 'JJ'), ('process', 'NN'), ('based', 'VBN'), ('on', 'IN'), ('chance', 'NN'), ('events', 'NNS'), ('in', 'IN'), ('nature', 'NN'), ('and', 'CC'), ('chance', 'NN'), ('mutation', 'NN'), ('in', 'IN'), ('the', 'DT'), ('organisms', 'NNS'), ('.', '.'), ('7.4', 'CD'), ('WHAT', 'WP'), ('132', 'CD'), ('IS', 'NNP'), ('ADAPTIVE', 'NNP'), ('RADIATION', 'NNP'), ('?', '.'), ('During', 'IN'), ('his', 'PRP$'), ('journey', 'NN'), ('Darwin', 'NNP'), ('went', 'VBD'), ('to', 'TO'), ('Galapagos', 'NNP'), ('Islands', 'NNP'), ('.', '.'), ('There', 'EX'), ('he', 'PRP'), ('observed', 'VBD'), ('an', 'DT'), ('amazing', 'JJ'), ('diversity', 'NN'), ('of', 'IN'), ('creatures', 'NNS'), ('.', '.'), ('Of', 'IN'), ('particular', 'JJ'), ('interest', 'NN'), (',', ','), ('small', 'JJ'), ('black', 'JJ'), ('birds', 'NNS'), ('later', 'RB'), ('called', 'VBD'), ('Darwin', 'NNP'), ('’', 'NNP'), ('s', 'NN'), ('Finches', 'NNP'), ('amazed', 'VBD'), ('him', 'PRP'), ('.', '.'), ('He', 'PRP'), ('realised', 'VBD'), ('that', 'IN'), ('there', 'EX'), ('were', 'VBD'), ('many', 'JJ'), ('varieties', 'NNS'), ('of', 'IN'), ('finches', 'NNS'), ('in', 'IN'), ('the', 'DT'), ('same', 'JJ'), ('island', 'NN'), ('.', '.'), ('All', 'PDT'), ('the', 'DT'), ('varieties', 'NNS'), (',', ','), ('he', 'PRP'), ('conjectured', 'VBD'), (',', ','), ('evolved', 'VBN'), ('on', 'IN'), ('the', 'DT'), ('island', 'NN'), ('itself', 'PRP'), ('.', '.'), ('From', 'IN'), ('the', 'DT'), ('original', 'JJ'), ('seed-eating', 'NN'), ('features', 'NNS'), (',', ','), ('many', 'JJ'), ('other', 'JJ'), ('forms', 'NNS'), ('with', 'IN'), ('altered', 'JJ'), ('beaks', 'NNS'), ('arose', 'RB'), (',', ','), ('enabling', 'VBG'), ('them', 'PRP'), ('to', 'TO'), ('become', 'VB'), ('insectivorous', 'JJ'), ('EVOLUTION', 'NNP'), ('Figure', 'NNP'), ('7.5', 'CD'), ('Variety', 'NNP'), ('of', 'IN'), ('beaks', 'NNS'), ('of', 'IN'), ('finches', 'NNS'), ('that', 'WDT'), ('Darwin', 'NNP'), ('found', 'VBD'), ('in', 'IN'), ('Galapagos', 'NNP'), ('Island', 'NNP'), ('and', 'CC'), ('vegetarian', 'JJ'), ('finches', 'NNS'), ('(', '('), ('Figure', 'NNP'), ('7.5', 'CD'), (')', ')'), ('.', '.'), ('This', 'DT'), ('process', 'NN'), ('of', 'IN'), ('evolution', 'NN'), ('of', 'IN'), ('different', 'JJ'), ('species', 'NNS'), ('in', 'IN'), ('a', 'DT'), ('given', 'VBN'), ('geographical', 'JJ'), ('area', 'NN'), ('starting', 'VBG'), ('from', 'IN'), ('a', 'DT'), ('point', 'NN'), ('and', 'CC'), ('literally', 'RB'), ('radiating', 'VBG'), ('to', 'TO'), ('other', 'JJ'), ('areas', 'NNS'), ('of', 'IN'), ('geography', 'NN'), ('(', '('), ('habitats', 'NNS'), (')', ')'), ('is', 'VBZ'), ('called', 'VBN'), ('adaptive', 'JJ'), ('radiation', 'NN'), ('.', '.'), ('Darwin', 'NNP'), ('’', 'NNP'), ('s', 'NN'), ('finches', 'NNS'), ('represent', 'VBP'), ('one', 'CD'), ('of', 'IN'), ('the', 'DT'), ('best', 'JJS'), ('examples', 'NNS'), ('of', 'IN'), ('this', 'DT'), ('phenomenon', 'NN'), ('.', '.'), ('Another', 'DT'), ('example', 'NN'), ('is', 'VBZ'), ('Australian', 'JJ'), ('marsupials', 'NNS'), ('.', '.'), ('A', 'DT'), ('number', 'NN'), ('of', 'IN'), ('marsupials', 'NNS'), (',', ','), ('each', 'DT'), ('different', 'JJ'), ('from', 'IN'), ('the', 'DT'), ('other', 'JJ'), ('(', '('), ('Figure', 'NNP'), ('7.6', 'CD'), (')', ')'), ('evolved', 'VBN'), ('from', 'IN'), ('an', 'DT'), ('ancestral', 'JJ'), ('stock', 'NN'), (',', ','), ('but', 'CC'), ('all', 'DT'), ('within', 'IN'), ('the', 'DT'), ('Australian', 'JJ'), ('island', 'NN'), ('continent', 'NN'), ('.', '.'), ('When', 'WRB'), ('more', 'JJR'), ('than', 'IN'), ('one', 'CD'), ('adaptive', 'JJ'), ('radiation', 'NN'), ('appeared', 'VBD'), ('to', 'TO'), ('have', 'VB'), ('occurred', 'VBN'), ('in', 'IN'), ('an', 'DT'), ('isolated', 'JJ'), ('geographical', 'JJ'), ('area', 'NN'), ('(', '('), ('representing', 'VBG'), ('different', 'JJ'), ('habitats', 'NNS'), (')', ')'), (',', ','), ('one', 'CD'), ('can', 'MD'), ('call', 'VB'), ('this', 'DT'), ('convergent', 'NN'), ('evolution', 'NN'), ('.', '.'), ('133', 'CD'), ('Figure', 'NN'), ('7.6', 'CD'), ('Adaptive', 'NNP'), ('radiation', 'NN'), ('of', 'IN'), ('marsupials', 'NNS'), ('of', 'IN'), ('Australia', 'NNP'), ('BIOLOGY', 'NNP'), ('Placental', 'NNP'), ('mammals', 'NNS'), ('in', 'IN'), ('Australia', 'NNP'), ('also', 'RB'), ('exhibit', 'VBP'), ('adaptive', 'JJ'), ('radiation', 'NN'), ('in', 'IN'), ('evolving', 'VBG'), ('into', 'IN'), ('varieties', 'NNS'), ('of', 'IN'), ('such', 'JJ'), ('placental', 'JJ'), ('mammals', 'NNS'), ('each', 'DT'), ('of', 'IN'), ('which', 'WDT'), ('appears', 'VBZ'), ('to', 'TO'), ('be', 'VB'), ('‘', 'JJ'), ('similar', 'JJ'), ('’', 'NN'), ('to', 'TO'), ('a', 'DT'), ('corresponding', 'JJ'), ('marsupial', 'NN'), ('(', '('), ('e.g.', 'JJ'), (',', ','), ('Placental', 'NNP'), ('wolf', 'NN'), ('and', 'CC'), ('Tasmanian', 'NNP'), ('wolfmarsupial', 'NN'), (')', ')'), ('.', '.'), ('(', '('), ('Figure', 'NNP'), ('7.7', 'CD'), (')', ')'), ('.', '.'), ('7.5', 'CD'), ('BIOLOGICAL', 'JJ'), ('EVOLUTION', 'NNP'), ('Figure', 'NNP'), ('7.7', 'CD'), ('134', 'CD'), ('Evolution', 'NN'), ('by', 'IN'), ('natural', 'JJ'), ('selection', 'NN'), (',', ','), ('in', 'IN'), ('a', 'DT'), ('true', 'JJ'), ('sense', 'NN'), ('would', 'MD'), ('have', 'VB'), ('started', 'VBN'), ('when', 'WRB'), ('cellular', 'JJ'), ('forms', 'NNS'), ('of', 'IN'), ('life', 'NN'), ('with', 'IN'), ('differences', 'NNS'), ('in', 'IN'), ('metabolic', 'JJ'), ('capability', 'NN'), ('originated', 'VBN'), ('on', 'IN'), ('earth', 'NN'), ('.', '.'), ('The', 'DT'), ('essence', 'NN'), ('of', 'IN'), ('Darwinian', 'JJ'), ('theory', 'NN'), ('about', 'IN'), ('evolution', 'NN'), ('is', 'VBZ'), ('natural', 'JJ'), ('selection', 'NN'), ('.', '.'), ('The', 'DT'), ('rate', 'NN'), ('of', 'IN'), ('appearance', 'NN'), ('of', 'IN'), ('new', 'JJ'), ('forms', 'NNS'), ('is', 'VBZ'), ('linked', 'VBN'), ('to', 'TO'), ('the', 'DT'), ('life', 'NN'), ('cycle', 'NN'), ('or', 'CC'), ('the', 'DT'), ('life', 'NN'), ('span', 'NN'), ('.', '.'), ('Microbes', 'NNP'), ('that', 'IN'), ('divide', 'VBP'), ('fast', 'RB'), ('have', 'VBP'), ('the', 'DT'), ('ability', 'NN'), ('to', 'TO'), ('multiply', 'VB'), ('and', 'CC'), ('become', 'VB'), ('millions', 'NNS'), ('of', 'IN'), ('individuals', 'NNS'), ('within', 'IN'), ('hours', 'NNS'), ('.', '.'), ('A', 'DT'), ('colony', 'NN'), ('of', 'IN'), ('bacteria', 'NNS'), ('(', '('), ('say', 'VB'), ('A', 'NNP'), (')', ')'), ('growing', 'VBG'), ('on', 'IN'), ('a', 'DT'), ('given', 'VBN'), ('medium', 'NN'), ('has', 'VBZ'), ('builtin', 'VBN'), ('variation', 'NN'), ('in', 'IN'), ('terms', 'NNS'), ('of', 'IN'), ('ability', 'NN'), ('to', 'TO'), ('utilise', 'VB'), ('a', 'DT'), ('feed', 'NN'), ('component', 'NN'), ('.', '.'), ('A', 'DT'), ('change', 'NN'), ('in', 'IN'), ('the', 'DT'), ('medium', 'NN'), ('composition', 'NN'), ('would', 'MD'), ('bring', 'VB'), ('out', 'RP'), ('only', 'RB'), ('that', 'IN'), ('part', 'NN'), ('of', 'IN'), ('the', 'DT'), ('population', 'NN'), ('(', '('), ('say', 'VBP'), ('B', 'NNP'), (')', ')'), ('that', 'WDT'), ('can', 'MD'), ('survive', 'VB'), ('under', 'IN'), ('the', 'DT'), ('new', 'JJ'), ('conditions', 'NNS'), ('.', '.'), ('In', 'IN'), ('due', 'JJ'), ('course', 'NN'), ('of', 'IN'), ('time', 'NN'), ('this', 'DT'), ('variant', 'JJ'), ('population', 'NN'), ('outgrows', 'VBZ'), ('the', 'DT'), ('others', 'NNS'), ('and', 'CC'), ('appears', 'VBZ'), ('as', 'IN'), ('new', 'JJ'), ('species', 'NNS'), ('.', '.'), ('This', 'DT'), ('would', 'MD'), ('happen', 'VB'), ('within', 'IN'), ('days', 'NNS'), ('.', '.'), ('For', 'IN'), ('the', 'DT'), ('same', 'JJ'), ('thing', 'NN'), ('to', 'TO'), ('happen', 'VB'), ('in', 'IN'), ('a', 'DT'), ('fish', 'NN'), ('or', 'CC'), ('fowl', 'NN'), ('would', 'MD'), ('take', 'VB'), ('million', 'CD'), ('of', 'IN'), ('years', 'NNS'), ('as', 'IN'), ('life', 'NN'), ('spans', 'NNS'), ('of', 'IN'), ('these', 'DT'), ('animals', 'NNS'), ('are', 'VBP'), ('in', 'IN'), ('years', 'NNS'), ('.', '.'), ('Here', 'RB'), ('we', 'PRP'), ('say', 'VBP'), ('that', 'IN'), ('fitness', 'NN'), ('of', 'IN'), ('B', 'NNP'), ('is', 'VBZ'), ('better', 'JJR'), ('than', 'IN'), ('that', 'DT'), ('of', 'IN'), ('A', 'NNP'), ('under', 'IN'), ('the', 'DT'), ('new', 'JJ'), ('conditions', 'NNS'), ('.', '.'), ('Nature', 'NN'), ('selects', 'VBZ'), ('for', 'IN'), ('fitness', 'NN'), ('.', '.'), ('Picture', 'NN'), ('showing', 'VBG'), ('convergent', 'JJ'), ('evolution', 'NN'), ('One', 'CD'), ('must', 'MD'), ('remember', 'VB'), ('that', 'IN'), ('the', 'DT'), ('so-called', 'JJ'), ('fitness', 'NN'), ('of', 'IN'), ('Australian', 'JJ'), ('Marsupials', 'NNP'), ('and', 'CC'), ('is', 'VBZ'), ('based', 'VBN'), ('on', 'IN'), ('characteristics', 'NNS'), ('which', 'WDT'), ('are', 'VBP'), ('inherited', 'VBN'), ('.', '.'), ('placental', 'JJ'), ('mammals', 'NNS'), ('Hence', 'NNP'), (',', ','), ('there', 'EX'), ('must', 'MD'), ('be', 'VB'), ('a', 'DT'), ('genetic', 'JJ'), ('basis', 'NN'), ('for', 'IN'), ('getting', 'VBG'), ('selected', 'VBN'), ('and', 'CC'), ('to', 'TO'), ('evolve', 'VB'), ('.', '.'), ('Another', 'DT'), ('way', 'NN'), ('of', 'IN'), ('saying', 'VBG'), ('the', 'DT'), ('same', 'JJ'), ('thing', 'NN'), ('is', 'VBZ'), ('that', 'IN'), ('some', 'DT'), ('organisms', 'NNS'), ('are', 'VBP'), ('better', 'RB'), ('adapted', 'VBN'), ('to', 'TO'), ('survive', 'VB'), ('in', 'IN'), ('an', 'DT'), ('otherwise', 'RB'), ('hostile', 'JJ'), ('environment', 'NN'), ('.', '.'), ('Adaptive', 'JJ'), ('ability', 'NN'), ('is', 'VBZ'), ('inherited', 'VBN'), ('.', '.'), ('It', 'PRP'), ('has', 'VBZ'), ('a', 'DT'), ('genetic', 'JJ'), ('basis', 'NN'), ('.', '.'), ('Fitness', 'NNP'), ('is', 'VBZ'), ('the', 'DT'), ('end', 'NN'), ('result', 'NN'), ('of', 'IN'), ('the', 'DT'), ('ability', 'NN'), ('to', 'TO'), ('adapt', 'VB'), ('and', 'CC'), ('get', 'VB'), ('selected', 'VBN'), ('by', 'IN'), ('nature', 'NN'), ('.', '.'), ('Branching', 'NNP'), ('descent', 'NN'), ('and', 'CC'), ('natural', 'JJ'), ('selection', 'NN'), ('are', 'VBP'), ('the', 'DT'), ('two', 'CD'), ('key', 'JJ'), ('concepts', 'NNS'), ('of', 'IN'), ('Darwinian', 'JJ'), ('Theory', 'NNP'), ('of', 'IN'), ('Evolution', 'NNP'), ('(', '('), ('Figures', 'NNS'), ('7.7', 'CD'), ('and', 'CC'), ('7.8', 'CD'), (')', ')'), ('.', '.'), ('Even', 'RB'), ('before', 'IN'), ('Darwin', 'NNP'), (',', ','), ('a', 'DT'), ('French', 'JJ'), ('naturalist', 'NN'), ('Lamarck', 'NNP'), ('had', 'VBD'), ('said', 'VBD'), ('that', 'IN'), ('evolution', 'NN'), ('of', 'IN'), ('life', 'NN'), ('forms', 'NNS'), ('had', 'VBD'), ('occurred', 'VBN'), ('but', 'CC'), ('driven', 'VBN'), ('by', 'IN'), ('use', 'NN'), ('and', 'CC'), ('disuse', 'NN'), ('of', 'IN'), ('organs', 'NNS'), ('.', '.'), ('He', 'PRP'), ('gave', 'VBD'), ('the', 'DT'), ('examples', 'NNS'), ('of', 'IN'), ('Giraffes', 'NNP'), ('who', 'WP'), ('in', 'IN'), ('an', 'DT'), ('attempt', 'NN'), ('to', 'TO'), ('forage', 'VB'), ('EVOLUTION', 'NNP'), ('leaves', 'VBZ'), ('on', 'IN'), ('tall', 'NN'), ('trees', 'NNS'), ('had', 'VBD'), ('to', 'TO'), ('adapt', 'VB'), ('by', 'IN'), ('elongation', 'NN'), ('of', 'IN'), ('their', 'PRP$'), ('necks', 'NNS'), ('.', '.'), ('As', 'IN'), ('they', 'PRP'), ('passed', 'VBD'), ('on', 'IN'), ('this', 'DT'), ('acquired', 'VBN'), ('character', 'NN'), ('of', 'IN'), ('elongated', 'JJ'), ('neck', 'NN'), ('to', 'TO'), ('succeeding', 'VBG'), ('generations', 'NNS'), (',', ','), ('Giraffes', 'NNP'), (',', ','), ('slowly', 'RB'), (',', ','), ('over', 'IN'), ('the', 'DT'), ('years', 'NNS'), (',', ','), ('came', 'VBD'), ('to', 'TO'), ('acquire', 'VB'), ('long', 'JJ'), ('necks', 'NNS'), ('.', '.'), ('Nobody', 'NN'), ('believes', 'VBZ'), ('this', 'DT'), ('conjecture', 'NN'), ('any', 'DT'), ('more', 'JJR'), ('.', '.'), ('Is', 'VBZ'), ('evolution', 'VBG'), ('a', 'DT'), ('process', 'NN'), ('or', 'CC'), ('the', 'DT'), ('result', 'NN'), ('of', 'IN'), ('a', 'DT'), ('process', 'NN'), ('?', '.'), ('The', 'DT'), ('world', 'NN'), ('we', 'PRP'), ('see', 'VBP'), (',', ','), ('inanimate', 'JJ'), ('and', 'CC'), ('animate', 'NN'), (',', ','), ('is', 'VBZ'), ('only', 'RB'), ('the', 'DT'), ('success', 'NN'), ('stories', 'NNS'), ('of', 'IN'), ('evolution', 'NN'), ('.', '.'), ('When', 'WRB'), ('we', 'PRP'), ('describe', 'VBP'), ('the', 'DT'), ('story', 'NN'), ('of', 'IN'), ('this', 'DT'), ('world', 'NN'), ('we', 'PRP'), ('describe', 'VBP'), ('evolution', 'NN'), ('as', 'IN'), ('a', 'DT'), ('process', 'NN'), ('.', '.'), ('On', 'IN'), ('the', 'DT'), ('other', 'JJ'), ('hand', 'NN'), ('when', 'WRB'), ('we', 'PRP'), ('describe', 'VBP'), ('the', 'DT'), ('story', 'NN'), ('of', 'IN'), ('life', 'NN'), ('on', 'IN'), ('earth', 'NN'), (',', ','), ('we', 'PRP'), ('treat', 'VBP'), ('evolution', 'NN'), ('as', 'IN'), ('a', 'DT'), ('consequence', 'NN'), ('of', 'IN'), ('a', 'DT'), ('process', 'NN'), ('called', 'VBN'), ('natural', 'JJ'), ('selection', 'NN'), ('.', '.'), ('We', 'PRP'), ('are', 'VBP'), ('still', 'RB'), ('not', 'RB'), ('very', 'RB'), ('clear', 'JJ'), ('whether', 'IN'), ('to', 'TO'), ('regard', 'VB'), ('evolution', 'NN'), ('and', 'CC'), ('natural', 'JJ'), ('selection', 'NN'), ('as', 'IN'), ('processes', 'NNS'), ('or', 'CC'), ('end', 'VB'), ('result', 'NN'), ('of', 'IN'), ('unknown', 'JJ'), ('processes', 'NNS'), ('.', '.'), ('It', 'PRP'), ('is', 'VBZ'), ('possible', 'JJ'), ('that', 'IN'), ('the', 'DT'), ('work', 'NN'), ('of', 'IN'), ('Thomas', 'NNP'), ('Malthus', 'NNP'), ('on', 'IN'), ('populations', 'NNS'), ('influenced', 'VBN'), ('Darwin', 'NNP'), ('.', '.'), ('Natural', 'NNP'), ('selection', 'NN'), ('is', 'VBZ'), ('based', 'VBN'), ('on', 'IN'), ('certain', 'JJ'), ('observations', 'NNS'), ('which', 'WDT'), ('are', 'VBP'), ('factual', 'JJ'), ('.', '.'), ('For', 'IN'), ('example', 'NN'), (',', ','), ('natural', 'JJ'), ('resources', 'NNS'), ('are', 'VBP'), ('limited', 'VBN'), (',', ','), ('populations', 'NNS'), ('are', 'VBP'), ('stable', 'JJ'), ('in', 'IN'), ('size', 'NN'), ('except', 'IN'), ('for', 'IN'), ('seasonal', 'JJ'), ('fluctuation', 'NN'), (',', ','), ('members', 'NNS'), ('of', 'IN'), ('a', 'DT'), ('population', 'NN'), ('vary', 'NN'), ('in', 'IN'), ('characteristics', 'NNS'), ('(', '('), ('infact', 'JJ'), ('no', 'DT'), ('two', 'CD'), ('individuals', 'NNS'), ('are', 'VBP'), ('alike', 'RB'), (')', ')'), ('even', 'RB'), ('though', 'IN'), ('they', 'PRP'), ('look', 'VBP'), ('superficially', 'RB'), ('similar', 'JJ'), (',', ','), ('most', 'JJS'), ('of', 'IN'), ('variations', 'NNS'), ('are', 'VBP'), ('inherited', 'VBN'), ('etc', 'NN'), ('.', '.'), ('The', 'DT'), ('fact', 'NN'), ('that', 'IN'), ('theoretically', 'RB'), ('population', 'NN'), ('size', 'NN'), ('will', 'MD'), ('grow', 'VB'), ('exponentially', 'RB'), ('if', 'IN'), ('everybody', 'NN'), ('reproduced', 'VBD'), ('maximally', 'RB'), ('(', '('), ('this', 'DT'), ('fact', 'NN'), ('can', 'MD'), ('be', 'VB'), ('seen', 'VBN'), ('in', 'IN'), ('a', 'DT'), ('growing', 'VBG'), ('bacterial', 'JJ'), ('population', 'NN'), (')', ')'), ('and', 'CC'), ('the', 'DT'), ('fact', 'NN'), ('that', 'IN'), ('population', 'NN'), ('sizes', 'NNS'), ('in', 'IN'), ('reality', 'NN'), ('are', 'VBP'), ('limited', 'VBN'), (',', ','), ('means', 'VBZ'), ('that', 'IN'), ('there', 'EX'), ('had', 'VBD'), ('been', 'VBN'), ('competition', 'NN'), ('for', 'IN'), ('resources', 'NNS'), ('.', '.'), ('Only', 'RB'), ('some', 'DT'), ('survived', 'VBN'), ('and', 'CC'), ('grew', 'VBD'), ('at', 'IN'), ('the', 'DT'), ('cost', 'NN'), ('of', 'IN'), ('others', 'NNS'), ('that', 'WDT'), ('could', 'MD'), ('not', 'RB'), ('flourish', 'VB'), ('.', '.'), ('The', 'DT'), ('novelty', 'NN'), ('and', 'CC'), ('brilliant', 'JJ'), ('insight', 'NN'), ('of', 'IN'), ('Darwin', 'NNP'), ('was', 'VBD'), ('this', 'DT'), (':', ':'), ('he', 'PRP'), ('asserted', 'VBD'), ('that', 'IN'), ('variations', 'NNS'), (',', ','), ('which', 'WDT'), ('are', 'VBP'), ('heritable', 'JJ'), ('and', 'CC'), ('which', 'WDT'), ('make', 'VBP'), ('resource', 'NN'), ('utilisation', 'NN'), ('better', 'RBR'), ('for', 'IN'), ('few', 'JJ'), ('(', '('), ('adapted', 'VBN'), ('to', 'TO'), ('habitat', 'VB'), ('better', 'JJR'), (')', ')'), ('will', 'MD'), ('enable', 'VB'), ('only', 'RB'), ('those', 'DT'), ('to', 'TO'), ('reproduce', 'VB'), ('and', 'CC'), ('leave', 'VB'), ('more', 'JJR'), ('progeny', 'NN'), ('.', '.'), ('Hence', 'NNP'), ('for', 'IN'), ('a', 'DT'), ('period', 'NN'), ('of', 'IN'), ('time', 'NN'), (',', ','), ('over', 'IN'), ('many', 'JJ'), ('generations', 'NNS'), (',', ','), ('survivors', 'NNS'), ('will', 'MD'), ('leave', 'VB'), ('more', 'JJR'), ('progeny', 'NN'), ('and', 'CC'), ('there', 'EX'), ('would', 'MD'), ('be', 'VB'), ('a', 'DT'), ('change', 'NN'), ('in', 'IN'), ('population', 'NN'), ('characteristic', 'NN'), ('and', 'CC'), ('hence', 'RB'), ('new', 'JJ'), ('forms', 'NNS'), ('appear', 'VBP'), ('to', 'TO'), ('arise', 'VB'), ('.', '.'), ('7.6', 'CD'), ('MECHANISM', 'NNP'), ('OF', 'NNP'), ('EVOLUTION', 'NNP'), ('What', 'WP'), ('is', 'VBZ'), ('the', 'DT'), ('origin', 'NN'), ('of', 'IN'), ('this', 'DT'), ('variation', 'NN'), ('and', 'CC'), ('how', 'WRB'), ('does', 'VBZ'), ('speciation', 'VB'), ('occur', 'VB'), ('?', '.'), ('Even', 'RB'), ('though', 'IN'), ('Mendel', 'NNP'), ('had', 'VBD'), ('talked', 'VBN'), ('of', 'IN'), ('inheritable', 'JJ'), (\"'factors\", 'NNS'), (\"'\", 'POS'), ('influencing', 'VBG'), ('phenotype', 'NN'), (',', ','), ('Darwin', 'NNP'), ('either', 'CC'), ('ignored', 'VBN'), ('these', 'DT'), ('observations', 'NNS'), ('or', 'CC'), ('kept', 'VB'), ('silence', 'NN'), ('.', '.'), ('In', 'IN'), ('the', 'DT'), ('first', 'JJ'), ('decade', 'NN'), ('of', 'IN'), ('twentieeth', 'JJ'), ('century', 'NN'), (',', ','), ('Hugo', 'NNP'), ('deVries', 'NNS'), ('based', 'VBN'), ('on', 'IN'), ('his', 'PRP$'), ('work', 'NN'), ('on', 'IN'), ('evening', 'VBG'), ('primrose', 'JJ'), ('brought', 'JJ'), ('forth', 'NN'), ('the', 'DT'), ('idea', 'NN'), ('of', 'IN'), ('mutations', 'NNS'), ('–', 'NNP'), ('large', 'JJ'), ('difference', 'NN'), ('arising', 'VBG'), ('suddenly', 'RB'), ('in', 'IN'), ('a', 'DT'), ('population', 'NN'), ('.', '.'), ('He', 'PRP'), ('believed', 'VBD'), ('that', 'IN'), ('it', 'PRP'), ('is', 'VBZ'), ('mutation', 'NN'), ('which', 'WDT'), ('causes', 'VBZ'), ('evolution', 'NN'), ('and', 'CC'), ('not', 'RB'), ('the', 'DT'), ('minor', 'JJ'), ('variations', 'NNS'), ('(', '('), ('heritable', 'JJ'), (')', ')'), ('that', 'IN'), ('Darwin', 'NNP'), ('talked', 'VBD'), ('about', 'IN'), ('.', '.'), ('Mutations', 'NNS'), ('are', 'VBP'), ('random', 'JJ'), ('and', 'CC'), ('directionless', 'NN'), ('while', 'IN'), ('Darwinian', 'JJ'), ('variations', 'NNS'), ('are', 'VBP'), ('small', 'JJ'), ('and', 'CC'), ('directional', 'JJ'), ('.', '.'), ('Evolution', 'NN'), ('for', 'IN'), ('Darwin', 'NNP'), ('was', 'VBD'), ('gradual', 'JJ'), ('while', 'IN'), ('deVries', 'NNS'), ('believed', 'VBN'), ('mutation', 'NN'), ('caused', 'VBN'), ('speciation', 'NN'), ('and', 'CC'), ('hence', 'NN'), ('called', 'VBD'), ('it', 'PRP'), ('saltation', 'NN'), ('(', '('), ('single', 'JJ'), ('step', 'NN'), ('large', 'JJ'), ('mutation', 'NN'), (')', ')'), ('.', '.'), ('Studies', 'NNPS'), ('in', 'IN'), ('population', 'NN'), ('genetics', 'NNS'), (',', ','), ('later', 'RB'), (',', ','), ('brought', 'VBD'), ('out', 'RP'), ('some', 'DT'), ('clarity', 'NN'), ('.', '.'), ('135', 'CD'), ('BIOLOGY', 'NNP'), ('7.7', 'CD'), ('HARDY-WEINBERG', 'NNP'), ('PRINCIPLE', 'NNP'), ('In', 'IN'), ('a', 'DT'), ('given', 'VBN'), ('population', 'NN'), ('one', 'CD'), ('can', 'MD'), ('find', 'VB'), ('out', 'RP'), ('the', 'DT'), ('frequency', 'NN'), ('of', 'IN'), ('occurrence', 'NN'), ('of', 'IN'), ('alleles', 'NNS'), ('of', 'IN'), ('a', 'DT'), ('gene', 'NN'), ('or', 'CC'), ('a', 'DT'), ('locus', 'NN'), ('.', '.'), ('This', 'DT'), ('frequency', 'NN'), ('is', 'VBZ'), ('supposed', 'VBN'), ('to', 'TO'), ('remain', 'VB'), ('fixed', 'JJ'), ('and', 'CC'), ('even', 'RB'), ('remain', 'VBP'), ('the', 'DT'), ('same', 'JJ'), ('through', 'IN'), ('generations', 'NNS'), ('.', '.'), ('Hardy-Weinberg', 'NNP'), ('principle', 'NN'), ('stated', 'VBD'), ('it', 'PRP'), ('using', 'VBG'), ('algebraic', 'JJ'), ('equations', 'NNS'), ('.', '.'), ('This', 'DT'), ('principle', 'NN'), ('says', 'VBZ'), ('that', 'IN'), ('allele', 'JJ'), ('frequencies', 'NNS'), ('in', 'IN'), ('a', 'DT'), ('population', 'NN'), ('are', 'VBP'), ('stable', 'JJ'), ('and', 'CC'), ('is', 'VBZ'), ('constant', 'JJ'), ('from', 'IN'), ('generation', 'NN'), ('to', 'TO'), ('generation', 'NN'), ('.', '.'), ('The', 'DT'), ('gene', 'NN'), ('pool', 'NN'), ('(', '('), ('total', 'JJ'), ('genes', 'NNS'), ('and', 'CC'), ('their', 'PRP$'), ('alleles', 'NNS'), ('in', 'IN'), ('a', 'DT'), ('population', 'NN'), (')', ')'), ('remains', 'VBZ'), ('a', 'DT'), ('constant', 'JJ'), ('.', '.'), ('This', 'DT'), ('is', 'VBZ'), ('called', 'VBN'), ('genetic', 'JJ'), ('equilibrium', 'NN'), ('.', '.'), ('Sum', 'NNP'), ('total', 'NN'), ('of', 'IN'), ('all', 'PDT'), ('the', 'DT'), ('allelic', 'JJ'), ('frequencies', 'NNS'), ('is', 'VBZ'), ('1', 'CD'), ('.', '.'), ('Individual', 'NNP'), ('(', '('), ('a', 'DT'), (')', ')'), ('(', '('), ('b', 'NN'), (')', ')'), ('136', 'CD'), ('(', '('), ('c', 'NN'), (')', ')'), ('Figure', 'NN'), ('7.8', 'CD'), ('Diagrammatic', 'NNP'), ('representation', 'NN'), ('of', 'IN'), ('the', 'DT'), ('operation', 'NN'), ('of', 'IN'), ('natural', 'JJ'), ('selection', 'NN'), ('on', 'IN'), ('different', 'JJ'), ('traits', 'NNS'), (':', ':'), ('(', '('), ('a', 'DT'), (')', ')'), ('Stabilising', 'NNP'), ('(', '('), ('b', 'NN'), (')', ')'), ('Directional', 'NNP'), ('and', 'CC'), ('(', '('), ('c', 'NN'), (')', ')'), ('Disruptive', 'NNP'), ('EVOLUTION', 'NNP'), ('frequencies', 'NNS'), (',', ','), ('for', 'IN'), ('example', 'NN'), (',', ','), ('can', 'MD'), ('be', 'VB'), ('named', 'VBN'), ('p', 'NN'), (',', ','), ('q', 'NN'), (',', ','), ('etc', 'FW'), ('.', '.'), ('In', 'IN'), ('a', 'DT'), ('diploid', 'NN'), (',', ','), ('p', 'NN'), ('and', 'CC'), ('q', 'JJ'), ('represent', 'NN'), ('the', 'DT'), ('frequency', 'NN'), ('of', 'IN'), ('allele', 'NN'), ('A', 'NNP'), ('and', 'CC'), ('allele', 'VB'), ('a', 'DT'), ('.', '.'), ('The', 'DT'), ('frequency', 'NN'), ('of', 'IN'), ('AA', 'NNP'), ('individuals', 'NNS'), ('in', 'IN'), ('a', 'DT'), ('population', 'NN'), ('is', 'VBZ'), ('simply', 'RB'), ('p2', 'JJ'), ('.', '.'), ('This', 'DT'), ('is', 'VBZ'), ('simply', 'RB'), ('stated', 'VBN'), ('in', 'IN'), ('another', 'DT'), ('ways', 'NNS'), (',', ','), ('i.e.', 'NN'), (',', ','), ('the', 'DT'), ('probability', 'NN'), ('that', 'IN'), ('an', 'DT'), ('allele', 'NN'), ('A', 'NN'), ('with', 'IN'), ('a', 'DT'), ('frequency', 'NN'), ('of', 'IN'), ('p', 'NN'), ('appear', 'NN'), ('on', 'IN'), ('both', 'DT'), ('the', 'DT'), ('chromosomes', 'NNS'), ('of', 'IN'), ('a', 'DT'), ('diploid', 'JJ'), ('individual', 'NN'), ('is', 'VBZ'), ('simply', 'RB'), ('the', 'DT'), ('product', 'NN'), ('of', 'IN'), ('the', 'DT'), ('probabilities', 'NNS'), (',', ','), ('i.e.', 'FW'), (',', ','), ('p2', 'NN'), ('.', '.'), ('Similarly', 'NNP'), ('of', 'IN'), ('aa', 'NN'), ('is', 'VBZ'), ('q2', 'JJ'), (',', ','), ('of', 'IN'), ('Aa', 'NNP'), ('2pq', 'CD'), ('.', '.'), ('Hence', 'NNP'), (',', ','), ('p2+2pq+q2=1', 'NN'), ('.', '.'), ('This', 'DT'), ('is', 'VBZ'), ('a', 'DT'), ('binomial', 'JJ'), ('expansion', 'NN'), ('of', 'IN'), ('(', '('), ('p+q', 'NN'), (')', ')'), ('2', 'CD'), ('.', '.'), ('When', 'WRB'), ('frequency', 'NN'), ('measured', 'VBD'), (',', ','), ('differs', 'NNS'), ('from', 'IN'), ('expected', 'VBN'), ('values', 'NNS'), (',', ','), ('the', 'DT'), ('difference', 'NN'), ('(', '('), ('direction', 'NN'), (')', ')'), ('indicates', 'VBZ'), ('the', 'DT'), ('extent', 'NN'), ('of', 'IN'), ('evolutionary', 'JJ'), ('change', 'NN'), ('.', '.'), ('Disturbance', 'NN'), ('in', 'IN'), ('genetic', 'JJ'), ('equilibrium', 'NN'), (',', ','), ('or', 'CC'), ('Hardy-', 'NNP'), ('Weinberg', 'NNP'), ('equilibrium', 'NN'), (',', ','), ('i.e.', 'FW'), (',', ','), ('change', 'NN'), ('of', 'IN'), ('frequency', 'NN'), ('of', 'IN'), ('alleles', 'NNS'), ('in', 'IN'), ('a', 'DT'), ('population', 'NN'), ('would', 'MD'), ('then', 'RB'), ('be', 'VB'), ('interpreted', 'VBN'), ('as', 'IN'), ('resulting', 'VBG'), ('in', 'IN'), ('evolution', 'NN'), ('.', '.'), ('Five', 'CD'), ('factors', 'NNS'), ('are', 'VBP'), ('known', 'VBN'), ('to', 'TO'), ('affect', 'VB'), ('Hardy-Weinberg', 'NNP'), ('equilibrium', 'NN'), ('.', '.'), ('These', 'DT'), ('are', 'VBP'), ('gene', 'NN'), ('migration', 'NN'), ('or', 'CC'), ('gene', 'NN'), ('flow', 'NN'), (',', ','), ('genetic', 'JJ'), ('drift', 'NN'), (',', ','), ('mutation', 'NN'), (',', ','), ('genetic', 'JJ'), ('recombination', 'NN'), ('and', 'CC'), ('natural', 'JJ'), ('selection', 'NN'), ('.', '.'), ('When', 'WRB'), ('migration', 'NN'), ('of', 'IN'), ('a', 'DT'), ('section', 'NN'), ('of', 'IN'), ('population', 'NN'), ('to', 'TO'), ('another', 'DT'), ('place', 'NN'), ('and', 'CC'), ('population', 'NN'), ('occurs', 'NNS'), (',', ','), ('gene', 'NN'), ('frequencies', 'NNS'), ('change', 'VBP'), ('in', 'IN'), ('the', 'DT'), ('original', 'JJ'), ('as', 'RB'), ('well', 'RB'), ('as', 'IN'), ('in', 'IN'), ('the', 'DT'), ('new', 'JJ'), ('population', 'NN'), ('.', '.'), ('New', 'NNP'), ('genes/alleles', 'NNS'), ('are', 'VBP'), ('added', 'VBN'), ('to', 'TO'), ('the', 'DT'), ('new', 'JJ'), ('population', 'NN'), ('and', 'CC'), ('these', 'DT'), ('are', 'VBP'), ('lost', 'VBN'), ('from', 'IN'), ('the', 'DT'), ('old', 'JJ'), ('population', 'NN'), ('.', '.'), ('There', 'EX'), ('would', 'MD'), ('be', 'VB'), ('a', 'DT'), ('gene', 'NN'), ('flow', 'NN'), ('if', 'IN'), ('this', 'DT'), ('gene', 'NN'), ('migration', 'NN'), (',', ','), ('happens', 'VBZ'), ('multiple', 'JJ'), ('times', 'NNS'), ('.', '.'), ('If', 'IN'), ('the', 'DT'), ('same', 'JJ'), ('change', 'NN'), ('occurs', 'NNS'), ('by', 'IN'), ('chance', 'NN'), (',', ','), ('it', 'PRP'), ('is', 'VBZ'), ('called', 'VBN'), ('genetic', 'JJ'), ('drift', 'NN'), ('.', '.'), ('Sometimes', 'RB'), ('the', 'DT'), ('change', 'NN'), ('in', 'IN'), ('allele', 'JJ'), ('frequency', 'NN'), ('is', 'VBZ'), ('so', 'RB'), ('different', 'JJ'), ('in', 'IN'), ('the', 'DT'), ('new', 'JJ'), ('sample', 'NN'), ('of', 'IN'), ('population', 'NN'), ('that', 'IN'), ('they', 'PRP'), ('become', 'VBP'), ('a', 'DT'), ('different', 'JJ'), ('species', 'NNS'), ('.', '.'), ('The', 'DT'), ('original', 'JJ'), ('drifted', 'JJ'), ('population', 'NN'), ('becomes', 'VBZ'), ('founders', 'NNS'), ('and', 'CC'), ('the', 'DT'), ('effect', 'NN'), ('is', 'VBZ'), ('called', 'VBN'), ('founder', 'NN'), ('effect', 'NN'), ('.', '.'), ('Microbial', 'JJ'), ('experiments', 'NNS'), ('show', 'VBP'), ('that', 'IN'), ('pre-existing', 'JJ'), ('advantageous', 'JJ'), ('mutations', 'NNS'), ('when', 'WRB'), ('selected', 'VBN'), ('will', 'MD'), ('result', 'VB'), ('in', 'IN'), ('observation', 'NN'), ('of', 'IN'), ('new', 'JJ'), ('phenotypes', 'NNS'), ('.', '.'), ('Over', 'IN'), ('few', 'JJ'), ('generations', 'NNS'), (',', ','), ('this', 'DT'), ('would', 'MD'), ('result', 'VB'), ('in', 'IN'), ('Speciation', 'NNP'), ('.', '.'), ('Natural', 'NNP'), ('selection', 'NN'), ('is', 'VBZ'), ('a', 'DT'), ('process', 'NN'), ('in', 'IN'), ('which', 'WDT'), ('heritable', 'JJ'), ('variations', 'NNS'), ('enabling', 'VBG'), ('better', 'JJR'), ('survival', 'NN'), ('are', 'VBP'), ('enabled', 'VBN'), ('to', 'TO'), ('reproduce', 'VB'), ('and', 'CC'), ('leave', 'VB'), ('greater', 'JJR'), ('number', 'NN'), ('of', 'IN'), ('progeny', 'NN'), ('.', '.'), ('A', 'DT'), ('critical', 'JJ'), ('analysis', 'NN'), ('makes', 'VBZ'), ('us', 'PRP'), ('believe', 'VBP'), ('that', 'IN'), ('variation', 'NN'), ('due', 'JJ'), ('to', 'TO'), ('mutation', 'NN'), ('or', 'CC'), ('variation', 'NN'), ('due', 'JJ'), ('to', 'TO'), ('recombination', 'NN'), ('during', 'IN'), ('gametogenesis', 'NN'), (',', ','), ('or', 'CC'), ('due', 'JJ'), ('to', 'TO'), ('gene', 'NN'), ('flow', 'NN'), ('or', 'CC'), ('genetic', 'JJ'), ('drift', 'NN'), ('results', 'NNS'), ('in', 'IN'), ('changed', 'JJ'), ('frequency', 'NN'), ('of', 'IN'), ('genes', 'NNS'), ('and', 'CC'), ('alleles', 'NNS'), ('in', 'IN'), ('future', 'JJ'), ('generation', 'NN'), ('.', '.'), ('Coupled', 'VBN'), ('to', 'TO'), ('enhance', 'VB'), ('reproductive', 'JJ'), ('success', 'NN'), (',', ','), ('natural', 'JJ'), ('selection', 'NN'), ('makes', 'VBZ'), ('it', 'PRP'), ('look', 'VB'), ('like', 'IN'), ('different', 'JJ'), ('population', 'NN'), ('.', '.'), ('Natural', 'JJ'), ('selection', 'NN'), ('can', 'MD'), ('lead', 'VB'), ('to', 'TO'), ('stabilisation', 'NN'), ('(', '('), ('in', 'IN'), ('which', 'WDT'), ('more', 'RBR'), ('individuals', 'NNS'), ('acquire', 'VB'), ('mean', 'NN'), ('character', 'NN'), ('value', 'NN'), (')', ')'), (',', ','), ('directional', 'JJ'), ('change', 'NN'), ('(', '('), ('more', 'RBR'), ('individuals', 'NNS'), ('acquire', 'VB'), ('value', 'NN'), ('other', 'JJ'), ('than', 'IN'), ('the', 'DT'), ('mean', 'JJ'), ('character', 'NN'), ('value', 'NN'), (')', ')'), ('or', 'CC'), ('disruption', 'NN'), ('(', '('), ('more', 'RBR'), ('individuals', 'NNS'), ('acquire', 'VB'), ('peripheral', 'JJ'), ('character', 'NN'), ('value', 'NN'), ('at', 'IN'), ('both', 'DT'), ('ends', 'NNS'), ('of', 'IN'), ('the', 'DT'), ('distribution', 'NN'), ('curve', 'NN'), (')', ')'), ('(', '('), ('Figure', 'NNP'), ('7.8', 'CD'), (')', ')'), ('.', '.'), ('137', 'CD'), ('7.8', 'CD'), ('A', 'NNP'), ('BRIEF', 'NNP'), ('ACCOUNT', 'NNP'), ('OF', 'NNP'), ('EVOLUTION', 'NNP'), ('About', 'IN'), ('2000', 'CD'), ('million', 'CD'), ('years', 'NNS'), ('ago', 'RB'), ('(', '('), ('mya', 'NN'), (')', ')'), ('the', 'DT'), ('first', 'JJ'), ('cellular', 'JJ'), ('forms', 'NNS'), ('of', 'IN'), ('life', 'NN'), ('appeared', 'VBN'), ('on', 'IN'), ('earth', 'NN'), ('.', '.'), ('The', 'DT'), ('mechanism', 'NN'), ('of', 'IN'), ('how', 'WRB'), ('non-cellular', 'JJ'), ('aggregates', 'NNS'), ('of', 'IN'), ('giant', 'JJ'), ('macromolecules', 'NNS'), ('could', 'MD'), ('evolve', 'VB'), ('into', 'IN'), ('cells', 'NNS'), ('with', 'IN'), ('membranous', 'JJ'), ('envelop', 'NN'), ('is', 'VBZ'), ('not', 'RB'), ('known', 'VBN'), ('.', '.'), ('Some', 'DT'), ('of', 'IN'), ('these', 'DT'), ('cells', 'NNS'), ('had', 'VBD'), ('the', 'DT'), ('ability', 'NN'), ('to', 'TO'), ('release', 'VB'), ('O2', 'NNP'), ('.', '.'), ('The', 'DT'), ('reaction', 'NN'), ('BIOLOGY', 'NNP'), ('Figure', 'NNP'), ('7.9', 'CD'), ('A', 'NNP'), ('sketch', 'NN'), ('of', 'IN'), ('the', 'DT'), ('evolution', 'NN'), ('of', 'IN'), ('plant', 'NN'), ('forms', 'NNS'), ('through', 'IN'), ('geological', 'JJ'), ('periods', 'NNS'), ('138', 'CD'), ('could', 'MD'), ('have', 'VB'), ('been', 'VBN'), ('similar', 'JJ'), ('to', 'TO'), ('the', 'DT'), ('light', 'JJ'), ('reaction', 'NN'), ('in', 'IN'), ('photosynthesis', 'NN'), ('where', 'WRB'), ('water', 'NN'), ('is', 'VBZ'), ('split', 'VBN'), ('with', 'IN'), ('the', 'DT'), ('help', 'NN'), ('of', 'IN'), ('solar', 'JJ'), ('energy', 'NN'), ('captured', 'VBD'), ('and', 'CC'), ('channelised', 'VBN'), ('by', 'IN'), ('appropriate', 'JJ'), ('light', 'JJ'), ('harvesting', 'VBG'), ('pigments', 'NNS'), ('.', '.'), ('Slowly', 'RB'), ('single-celled', 'JJ'), ('organisms', 'NNS'), ('became', 'VBD'), ('multi-cellular', 'JJ'), ('life', 'NN'), ('forms', 'NNS'), ('.', '.'), ('By', 'IN'), ('the', 'DT'), ('time', 'NN'), ('of', 'IN'), ('500', 'CD'), ('mya', 'NNS'), (',', ','), ('invertebrates', 'NNS'), ('were', 'VBD'), ('formed', 'VBN'), ('and', 'CC'), ('active', 'JJ'), ('.', '.'), ('Jawless', 'NNP'), ('fish', 'NN'), ('probably', 'RB'), ('evolved', 'VBD'), ('around', 'RB'), ('350', 'CD'), ('mya', 'NN'), ('.', '.'), ('Sea', 'NNP'), ('weeds', 'NNS'), ('and', 'CC'), ('few', 'JJ'), ('plants', 'NNS'), ('existed', 'VBD'), ('probably', 'RB'), ('around', 'IN'), ('320', 'CD'), ('mya', 'NN'), ('.', '.'), ('We', 'PRP'), ('are', 'VBP'), ('told', 'VBN'), ('that', 'IN'), ('the', 'DT'), ('first', 'JJ'), ('organisms', 'NNS'), ('that', 'WDT'), ('invaded', 'VBD'), ('land', 'NN'), ('were', 'VBD'), ('plants', 'NNS'), ('.', '.'), ('They', 'PRP'), ('were', 'VBD'), ('widespread', 'VBN'), ('on', 'IN'), ('land', 'NN'), ('when', 'WRB'), ('animals', 'NNS'), ('invaded', 'VBD'), ('land', 'NN'), ('.', '.'), ('Fish', 'JJ'), ('with', 'IN'), ('stout', 'NN'), ('and', 'CC'), ('strong', 'JJ'), ('fins', 'NNS'), ('could', 'MD'), ('move', 'VB'), ('on', 'IN'), ('land', 'NN'), ('and', 'CC'), ('go', 'VB'), ('back', 'RB'), ('to', 'TO'), ('water', 'NN'), ('.', '.'), ('This', 'DT'), ('was', 'VBD'), ('about', 'IN'), ('350', 'CD'), ('mya', 'NN'), ('.', '.'), ('In', 'IN'), ('1938', 'CD'), (',', ','), ('a', 'DT'), ('fish', 'JJ'), ('caught', 'NN'), ('in', 'IN'), ('South', 'NNP'), ('Africa', 'NNP'), ('happened', 'VBD'), ('to', 'TO'), ('be', 'VB'), ('a', 'DT'), ('Coelacanth', 'NNP'), ('which', 'WDT'), ('was', 'VBD'), ('thought', 'VBN'), ('to', 'TO'), ('be', 'VB'), ('extinct', 'JJ'), ('.', '.'), ('These', 'DT'), ('animals', 'NNS'), ('called', 'VBD'), ('lobefins', 'NNS'), ('evolved', 'VBD'), ('into', 'IN'), ('the', 'DT'), ('EVOLUTION', 'NNP'), ('Figure', 'NNP'), ('7.10', 'CD'), ('Representative', 'NNP'), ('evolutionary', 'JJ'), ('history', 'NN'), ('of', 'IN'), ('vertebrates', 'NNS'), ('through', 'IN'), ('geological', 'JJ'), ('period', 'NN'), ('first', 'RB'), ('amphibians', 'VBZ'), ('that', 'IN'), ('lived', 'VBD'), ('on', 'IN'), ('both', 'DT'), ('land', 'NN'), ('and', 'CC'), ('water', 'NN'), ('.', '.'), ('There', 'EX'), ('are', 'VBP'), ('no', 'DT'), ('specimens', 'NNS'), ('of', 'IN'), ('these', 'DT'), ('left', 'VBN'), ('with', 'IN'), ('us', 'PRP'), ('.', '.'), ('However', 'RB'), (',', ','), ('these', 'DT'), ('were', 'VBD'), ('ancestors', 'NNS'), ('of', 'IN'), ('modern', 'JJ'), ('day', 'NN'), ('frogs', 'NNS'), ('and', 'CC'), ('salamanders', 'NNS'), ('.', '.'), ('The', 'DT'), ('amphibians', 'NNS'), ('evolved', 'VBD'), ('into', 'IN'), ('reptiles', 'NNS'), ('.', '.'), ('They', 'PRP'), ('lay', 'VBD'), ('thickshelled', 'VBN'), ('eggs', 'NNS'), ('which', 'WDT'), ('do', 'VBP'), ('not', 'RB'), ('dry', 'VB'), ('up', 'RP'), ('in', 'IN'), ('sun', 'NN'), ('unlike', 'IN'), ('those', 'DT'), ('of', 'IN'), ('amphibians', 'NNS'), ('.', '.'), ('Again', 'VBP'), ('we', 'PRP'), ('only', 'RB'), ('see', 'VBP'), ('their', 'PRP$'), ('modern', 'JJ'), ('day', 'NN'), ('descendents', 'NNS'), (',', ','), ('the', 'DT'), ('turtles', 'NNS'), (',', ','), ('tortoises', 'NNS'), ('and', 'CC'), ('crocodiles', 'NNS'), ('.', '.'), ('In', 'IN'), ('the', 'DT'), ('next', 'JJ'), ('200', 'CD'), ('millions', 'NNS'), ('years', 'NNS'), ('or', 'CC'), ('so', 'RB'), (',', ','), ('reptiles', 'NNS'), ('of', 'IN'), ('different', 'JJ'), ('139', 'CD'), ('BIOLOGY', 'NNP'), ('shapes', 'NNS'), ('and', 'CC'), ('sizes', 'NNS'), ('dominated', 'VBN'), ('on', 'IN'), ('earth', 'NN'), ('.', '.'), ('Giant', 'JJ'), ('ferns', 'NNS'), ('(', '('), ('pteridophytes', 'NNS'), (')', ')'), ('were', 'VBD'), ('present', 'JJ'), ('but', 'CC'), ('they', 'PRP'), ('all', 'DT'), ('fell', 'VBD'), ('to', 'TO'), ('form', 'VB'), ('coal', 'NN'), ('deposits', 'NNS'), ('slowly', 'RB'), ('.', '.'), ('Some', 'DT'), ('of', 'IN'), ('these', 'DT'), ('land', 'NN'), ('reptiles', 'NNS'), ('went', 'VBD'), ('back', 'RB'), ('into', 'IN'), ('water', 'NN'), ('to', 'TO'), ('evolve', 'VB'), ('into', 'IN'), ('fish', 'JJ'), ('like', 'IN'), ('reptiles', 'NNS'), ('probably', 'RB'), ('200', 'CD'), ('mya', 'NNS'), ('(', '('), ('e.g', 'NN'), ('.', '.'), ('Ichthyosaurs', 'NNP'), (')', ')'), ('.', '.'), ('The', 'DT'), ('land', 'NN'), ('reptiles', 'NNS'), ('were', 'VBD'), (',', ','), ('of', 'IN'), ('course', 'NN'), (',', ','), ('the', 'DT'), ('dinosaurs', 'NNS'), ('.', '.'), ('The', 'DT'), ('biggest', 'JJS'), ('of', 'IN'), ('them', 'PRP'), (',', ','), ('i.e.', 'FW'), (',', ','), ('Tyrannosaurus', 'NNP'), ('rex', 'NN'), ('was', 'VBD'), ('about', 'IN'), ('20', 'CD'), ('feet', 'NNS'), ('in', 'IN'), ('height', 'NN'), ('and', 'CC'), ('had', 'VBD'), ('huge', 'JJ'), ('fearsome', 'JJ'), ('dagger', 'NN'), ('like', 'IN'), ('teeth', 'NNS'), ('.', '.'), ('About', 'IN'), ('65', 'CD'), ('mya', 'NNS'), (',', ','), ('the', 'DT'), ('dinosaurs', 'NNS'), ('suddenly', 'RB'), ('disappeared', 'VBD'), ('from', 'IN'), ('the', 'DT'), ('earth', 'NN'), ('.', '.'), ('We', 'PRP'), ('do', 'VBP'), ('not', 'RB'), ('know', 'VB'), ('the', 'DT'), ('true', 'JJ'), ('reason', 'NN'), ('.', '.'), ('Some', 'DT'), ('say', 'VBP'), ('climatic', 'JJ'), ('changes', 'NNS'), ('killed', 'VBD'), ('them', 'PRP'), ('.', '.'), ('Some', 'DT'), ('say', 'VBP'), ('most', 'JJS'), ('of', 'IN'), ('them', 'PRP'), ('evolved', 'VBD'), ('into', 'IN'), ('birds', 'NNS'), ('.', '.'), ('The', 'DT'), ('truth', 'NN'), ('may', 'MD'), ('live', 'VB'), ('in', 'IN'), ('between', 'IN'), ('.', '.'), ('Small', 'NNP'), ('sized', 'VBD'), ('reptiles', 'NNS'), ('of', 'IN'), ('that', 'DT'), ('era', 'NN'), ('still', 'RB'), ('exist', 'VBP'), ('today', 'NN'), ('.', '.'), ('The', 'DT'), ('first', 'JJ'), ('mammals', 'NNS'), ('were', 'VBD'), ('like', 'JJ'), ('shrews', 'NNS'), ('.', '.'), ('Their', 'PRP$'), ('fossils', 'NNS'), ('are', 'VBP'), ('small', 'JJ'), ('sized', 'VBN'), ('.', '.'), ('Mammals', 'NNS'), ('were', 'VBD'), ('viviparous', 'JJ'), ('and', 'CC'), ('protected', 'VBD'), ('their', 'PRP$'), ('unborn', 'JJ'), ('young', 'JJ'), ('inside', 'IN'), ('the', 'DT'), ('mother', 'NN'), ('’', 'NNP'), ('s', 'NN'), ('body', 'NN'), ('.', '.'), ('Mammals', 'NNS'), ('were', 'VBD'), ('more', 'RBR'), ('intelligent', 'JJ'), ('in', 'IN'), ('sensing', 'VBG'), ('and', 'CC'), ('avoiding', 'VBG'), ('danger', 'NN'), ('at', 'IN'), ('least', 'JJS'), ('.', '.'), ('When', 'WRB'), ('reptiles', 'NNS'), ('came', 'VBD'), ('down', 'RB'), ('mammals', 'NNS'), ('took', 'VBD'), ('over', 'RP'), ('this', 'DT'), ('earth', 'NN'), ('.', '.'), ('There', 'EX'), ('were', 'VBD'), ('in', 'IN'), ('South', 'NNP'), ('America', 'NNP'), ('mammals', 'NNS'), ('resembling', 'VBG'), ('horse', 'NN'), (',', ','), ('hippopotamus', 'NN'), (',', ','), ('bear', 'NN'), (',', ','), ('rabbit', 'NN'), (',', ','), ('etc', 'FW'), ('.', '.'), ('Due', 'NNP'), ('to', 'TO'), ('continental', 'JJ'), ('drift', 'NN'), (',', ','), ('when', 'WRB'), ('South', 'NNP'), ('America', 'NNP'), ('joined', 'VBD'), ('North', 'NNP'), ('America', 'NNP'), (',', ','), ('these', 'DT'), ('animals', 'NNS'), ('were', 'VBD'), ('overridden', 'VBN'), ('by', 'IN'), ('North', 'JJ'), ('American', 'JJ'), ('fauna', 'NN'), ('.', '.'), ('Due', 'NNP'), ('to', 'TO'), ('the', 'DT'), ('same', 'JJ'), ('continental', 'JJ'), ('drift', 'NN'), ('pouched', 'VBD'), ('mammals', 'NNS'), ('of', 'IN'), ('Australia', 'NNP'), ('survived', 'VBD'), ('because', 'IN'), ('of', 'IN'), ('lack', 'NN'), ('of', 'IN'), ('competition', 'NN'), ('from', 'IN'), ('any', 'DT'), ('other', 'JJ'), ('mammal', 'NN'), ('.', '.'), ('Lest', 'NNP'), ('we', 'PRP'), ('forget', 'VBP'), (',', ','), ('some', 'DT'), ('mammals', 'NNS'), ('live', 'VBP'), ('wholly', 'RB'), ('in', 'IN'), ('water', 'NN'), ('.', '.'), ('Whales', 'NNP'), (',', ','), ('dolphins', 'VBZ'), (',', ','), ('seals', 'NNS'), ('and', 'CC'), ('sea', 'NN'), ('cows', 'NNS'), ('are', 'VBP'), ('some', 'DT'), ('examples', 'NNS'), ('.', '.'), ('Evolution', 'NN'), ('of', 'IN'), ('horse', 'NN'), (',', ','), ('elephant', 'NN'), (',', ','), ('dog', 'NN'), (',', ','), ('etc.', 'NN'), (',', ','), ('are', 'VBP'), ('special', 'JJ'), ('stories', 'NNS'), ('of', 'IN'), ('evolution', 'NN'), ('.', '.'), ('You', 'PRP'), ('will', 'MD'), ('learn', 'VB'), ('about', 'IN'), ('these', 'DT'), ('in', 'IN'), ('higher', 'JJR'), ('classes', 'NNS'), ('.', '.'), ('The', 'DT'), ('most', 'RBS'), ('successful', 'JJ'), ('story', 'NN'), ('is', 'VBZ'), ('the', 'DT'), ('evolution', 'NN'), ('of', 'IN'), ('man', 'NN'), ('with', 'IN'), ('language', 'NN'), ('skills', 'NNS'), ('and', 'CC'), ('self-consciousness', 'NN'), ('.', '.'), ('A', 'DT'), ('rough', 'JJ'), ('sketch', 'NN'), ('of', 'IN'), ('the', 'DT'), ('evolution', 'NN'), ('of', 'IN'), ('life', 'NN'), ('forms', 'NNS'), (',', ','), ('their', 'PRP$'), ('times', 'NNS'), ('on', 'IN'), ('a', 'DT'), ('geological', 'JJ'), ('scale', 'NN'), ('are', 'VBP'), ('indicated', 'VBN'), ('in', 'IN'), ('(', '('), ('Figure', 'NNP'), ('7.9', 'CD'), ('and', 'CC'), ('7.10', 'CD'), (')', ')'), ('.', '.'), ('7.9', 'CD'), ('ORIGIN', 'NNP'), ('140', 'CD'), ('AND', 'NNP'), ('EVOLUTION', 'NNP'), ('OF', 'NNP'), ('MAN', 'NNP'), ('About', 'IN'), ('15', 'CD'), ('mya', 'NNS'), (',', ','), ('primates', 'NNS'), ('called', 'VBD'), ('Dryopithecus', 'NNP'), ('and', 'CC'), ('Ramapithecus', 'NNP'), ('were', 'VBD'), ('existing', 'VBG'), ('.', '.'), ('They', 'PRP'), ('were', 'VBD'), ('hairy', 'NNS'), ('and', 'CC'), ('walked', 'VBD'), ('like', 'IN'), ('gorillas', 'NNS'), ('and', 'CC'), ('chimpanzees', 'NNS'), ('.', '.'), ('Ramapithecus', 'NNP'), ('was', 'VBD'), ('more', 'RBR'), ('man-like', 'JJ'), ('while', 'IN'), ('Dryopithecus', 'NNP'), ('was', 'VBD'), ('more', 'RBR'), ('ape-like', 'JJ'), ('.', '.'), ('Few', 'JJ'), ('fossils', 'NNS'), ('of', 'IN'), ('man-like', 'JJ'), ('bones', 'NNS'), ('have', 'VBP'), ('been', 'VBN'), ('discovered', 'VBN'), ('in', 'IN'), ('Ethiopia', 'NNP'), ('and', 'CC'), ('Tanzania', 'NNP'), ('(', '('), ('Figure', 'NNP'), ('7.11', 'CD'), (')', ')'), ('.', '.'), ('These', 'DT'), ('revealed', 'VBD'), ('hominid', 'NN'), ('features', 'NNS'), ('leading', 'VBG'), ('to', 'TO'), ('the', 'DT'), ('belief', 'NN'), ('that', 'IN'), ('about', 'IN'), ('3-4', 'JJ'), ('mya', 'NN'), (',', ','), ('man-like', 'JJ'), ('primates', 'NNS'), ('walked', 'VBD'), ('in', 'IN'), ('eastern', 'JJ'), ('Africa', 'NNP'), ('.', '.'), ('They', 'PRP'), ('were', 'VBD'), ('probably', 'RB'), ('not', 'RB'), ('taller', 'VB'), ('than', 'IN'), ('4', 'CD'), ('feet', 'NNS'), ('but', 'CC'), ('walked', 'VBD'), ('up', 'RB'), ('right', 'RB'), ('.', '.'), ('Two', 'CD'), ('mya', 'NN'), (',', ','), ('Australopithecines', 'NNP'), ('probably', 'RB'), ('lived', 'VBD'), ('in', 'IN'), ('East', 'NNP'), ('African', 'JJ'), ('grasslands', 'NNS'), ('.', '.'), ('Evidence', 'NN'), ('shows', 'VBZ'), ('they', 'PRP'), ('hunted', 'VBD'), ('with', 'IN'), ('stone', 'NN'), ('weapons', 'NNS'), ('but', 'CC'), ('essentially', 'RB'), ('ate', 'JJ'), ('fruit', 'NN'), ('.', '.'), ('Some', 'DT'), ('of', 'IN'), ('the', 'DT'), ('bones', 'NNS'), ('among', 'IN'), ('the', 'DT'), ('bones', 'NNS'), ('discovered', 'VBN'), ('were', 'VBD'), ('different', 'JJ'), ('.', '.'), ('This', 'DT'), ('creature', 'NN'), ('was', 'VBD'), ('called', 'VBN'), ('the', 'DT'), ('first', 'JJ'), ('human-like', 'NN'), ('being', 'VBG'), ('the', 'DT'), ('hominid', 'NN'), ('and', 'CC'), ('was', 'VBD'), ('called', 'VBN'), ('Homo', 'NNP'), ('habilis', 'NN'), ('.', '.'), ('The', 'DT'), ('brain', 'NN'), ('capacities', 'NNS'), ('were', 'VBD'), ('between', 'IN'), ('650-800cc', 'JJ'), ('.', '.'), ('They', 'PRP'), ('probably', 'RB'), ('did', 'VBD'), ('not', 'RB'), ('eat', 'VB'), ('meat', 'NN'), ('.', '.'), ('Fossils', 'NNS'), ('discovered', 'VBD'), ('in', 'IN'), ('Java', 'NNP'), ('in', 'IN'), ('1891', 'CD'), ('revealed', 'VBD'), ('the', 'DT'), ('next', 'JJ'), ('stage', 'NN'), (',', ','), ('i.e.', 'FW'), (',', ','), ('Homo', 'NNP'), ('EVOLUTION', 'NNP'), ('Figure', 'NNP'), ('7.11', 'CD'), ('A', 'NNP'), ('comparison', 'NN'), ('of', 'IN'), ('the', 'DT'), ('skulls', 'NNS'), ('of', 'IN'), ('adult', 'NN'), ('modern', 'JJ'), ('human', 'JJ'), ('being', 'VBG'), (',', ','), ('baby', 'NN'), ('chimpanzee', 'NN'), ('and', 'CC'), ('adult', 'NN'), ('chimpanzee', 'NN'), ('.', '.'), ('The', 'DT'), ('skull', 'NN'), ('of', 'IN'), ('baby', 'NN'), ('chimpanzee', 'NN'), ('is', 'VBZ'), ('more', 'RBR'), ('like', 'IN'), ('adult', 'NN'), ('human', 'JJ'), ('skull', 'NN'), ('than', 'IN'), ('adult', 'NN'), ('chimpanzee', 'NN'), ('skull', 'NN'), ('erectus', 'NN'), ('about', 'IN'), ('1.5', 'CD'), ('mya', 'NN'), ('.', '.'), ('Homo', 'NNP'), ('erectus', 'NN'), ('had', 'VBD'), ('a', 'DT'), ('large', 'JJ'), ('brain', 'NN'), ('around', 'IN'), ('900cc', 'CD'), ('.', '.'), ('Homo', 'NNP'), ('erectus', 'NN'), ('probably', 'RB'), ('ate', 'JJ'), ('meat', 'NN'), ('.', '.'), ('The', 'DT'), ('Neanderthal', 'NNP'), ('man', 'NN'), ('with', 'IN'), ('a', 'DT'), ('brain', 'NN'), ('size', 'NN'), ('of', 'IN'), ('1400cc', 'CD'), ('lived', 'VBD'), ('in', 'IN'), ('near', 'IN'), ('east', 'NN'), ('and', 'CC'), ('central', 'JJ'), ('Asia', 'NNP'), ('between', 'IN'), ('1,00,000-40,000', 'CD'), ('years', 'NNS'), ('back', 'RB'), ('.', '.'), ('They', 'PRP'), ('used', 'VBD'), ('hides', 'NNS'), ('to', 'TO'), ('protect', 'VB'), ('their', 'PRP$'), ('body', 'NN'), ('and', 'CC'), ('buried', 'VBD'), ('their', 'PRP$'), ('dead', 'JJ'), ('.', '.'), ('Homo', 'NN'), ('sapiens', 'NNS'), ('arose', 'VBP'), ('in', 'IN'), ('Africa', 'NNP'), ('and', 'CC'), ('moved', 'VBN'), ('across', 'IN'), ('continents', 'NNS'), ('and', 'CC'), ('developed', 'VBD'), ('into', 'IN'), ('distinct', 'JJ'), ('races', 'NNS'), ('.', '.'), ('During', 'IN'), ('ice', 'JJ'), ('age', 'NN'), ('between', 'IN'), ('75,000-10,000', 'CD'), ('years', 'NNS'), ('ago', 'RB'), ('modern', 'JJ'), ('Homo', 'NNP'), ('sapiens', 'NNS'), ('arose', 'RB'), ('.', '.'), ('Pre-historic', 'JJ'), ('cave', 'JJ'), ('art', 'NN'), ('developed', 'VBD'), ('about', 'IN'), ('18,000', 'CD'), ('years', 'NNS'), ('ago', 'RB'), ('.', '.'), ('Agriculture', 'NN'), ('came', 'VBD'), ('around', 'IN'), ('10,000', 'CD'), ('years', 'NNS'), ('back', 'RB'), ('and', 'CC'), ('human', 'JJ'), ('settlements', 'NNS'), ('started', 'VBD'), ('.', '.'), ('The', 'DT'), ('rest', 'NN'), ('of', 'IN'), ('what', 'WP'), ('happened', 'VBD'), ('is', 'VBZ'), ('part', 'NN'), ('of', 'IN'), ('human', 'JJ'), ('history', 'NN'), ('of', 'IN'), ('growth', 'NN'), ('and', 'CC'), ('decline', 'NN'), ('of', 'IN'), ('civilisations', 'NNS'), ('.', '.'), ('141', 'CD'), ('BIOLOGY', 'NNP'), ('SUMMARY', 'NNP'), ('The', 'DT'), ('origin', 'NN'), ('of', 'IN'), ('life', 'NN'), ('on', 'IN'), ('earth', 'NN'), ('can', 'MD'), ('be', 'VB'), ('understood', 'JJ'), ('only', 'RB'), ('against', 'IN'), ('the', 'DT'), ('background', 'NN'), ('of', 'IN'), ('origin', 'NN'), ('of', 'IN'), ('universe', 'JJ'), ('especially', 'RB'), ('earth', 'VBP'), ('.', '.'), ('Most', 'JJS'), ('scientists', 'NNS'), ('believe', 'VBP'), ('chemical', 'NN'), ('evolution', 'NN'), (',', ','), ('i.e.', 'FW'), (',', ','), ('formation', 'NN'), ('of', 'IN'), ('biomolecules', 'NNS'), ('preceded', 'VBD'), ('the', 'DT'), ('appearance', 'NN'), ('of', 'IN'), ('the', 'DT'), ('first', 'JJ'), ('cellular', 'JJ'), ('forms', 'NNS'), ('of', 'IN'), ('life', 'NN'), ('.', '.'), ('The', 'DT'), ('subsequent', 'JJ'), ('events', 'NNS'), ('as', 'IN'), ('to', 'TO'), ('what', 'WP'), ('happened', 'VBD'), ('to', 'TO'), ('the', 'DT'), ('first', 'JJ'), ('form', 'NN'), ('of', 'IN'), ('life', 'NN'), ('is', 'VBZ'), ('a', 'DT'), ('conjectured', 'JJ'), ('story', 'NN'), ('based', 'VBN'), ('on', 'IN'), ('Darwinian', 'JJ'), ('ideas', 'NNS'), ('of', 'IN'), ('organic', 'JJ'), ('evolution', 'NN'), ('by', 'IN'), ('natural', 'JJ'), ('selection', 'NN'), ('.', '.'), ('Diversity', 'NN'), ('of', 'IN'), ('life', 'NN'), ('forms', 'NNS'), ('on', 'IN'), ('earth', 'NN'), ('has', 'VBZ'), ('been', 'VBN'), ('changing', 'VBG'), ('over', 'IN'), ('millions', 'NNS'), ('of', 'IN'), ('years', 'NNS'), ('.', '.'), ('It', 'PRP'), ('is', 'VBZ'), ('generally', 'RB'), ('believed', 'VBN'), ('that', 'IN'), ('variations', 'NNS'), ('in', 'IN'), ('a', 'DT'), ('population', 'NN'), ('result', 'NN'), ('in', 'IN'), ('variable', 'JJ'), ('fitness', 'NN'), ('.', '.'), ('Other', 'JJ'), ('phenomena', 'NNS'), ('like', 'IN'), ('habitat', 'JJ'), ('fragmentation', 'NN'), ('and', 'CC'), ('genetic', 'JJ'), ('drift', 'NN'), ('may', 'MD'), ('accentuate', 'VB'), ('these', 'DT'), ('variations', 'NNS'), ('leading', 'VBG'), ('to', 'TO'), ('appearance', 'VB'), ('of', 'IN'), ('new', 'JJ'), ('species', 'NNS'), ('and', 'CC'), ('hence', 'NN'), ('evolution', 'NN'), ('.', '.'), ('Homology', 'NNP'), ('is', 'VBZ'), ('accounted', 'VBN'), ('for', 'IN'), ('by', 'IN'), ('the', 'DT'), ('idea', 'NN'), ('of', 'IN'), ('branching', 'VBG'), ('descent', 'NN'), ('.', '.'), ('Study', 'NNP'), ('of', 'IN'), ('comparative', 'JJ'), ('anatomy', 'NN'), (',', ','), ('fossils', 'NNS'), ('and', 'CC'), ('comparative', 'JJ'), ('biochemistry', 'NN'), ('provides', 'VBZ'), ('evidence', 'NN'), ('for', 'IN'), ('evolution', 'NN'), ('.', '.'), ('Among', 'IN'), ('the', 'DT'), ('stories', 'NNS'), ('of', 'IN'), ('evolution', 'NN'), ('of', 'IN'), ('individual', 'JJ'), ('species', 'NNS'), (',', ','), ('the', 'DT'), ('story', 'NN'), ('of', 'IN'), ('evolution', 'NN'), ('of', 'IN'), ('modern', 'JJ'), ('man', 'NN'), ('is', 'VBZ'), ('most', 'RBS'), ('interesting', 'JJ'), ('and', 'CC'), ('appears', 'VBZ'), ('to', 'TO'), ('parallel', 'VB'), ('evolution', 'NN'), ('of', 'IN'), ('human', 'JJ'), ('brain', 'NN'), ('and', 'CC'), ('language', 'NN'), ('.', '.'), ('EXERCISES', 'NNP'), ('142', 'CD'), ('1', 'CD'), ('.', '.'), ('Explain', 'NNP'), ('antibiotic', 'JJ'), ('resistance', 'NN'), ('observed', 'VBN'), ('in', 'IN'), ('bacteria', 'NNS'), ('in', 'IN'), ('light', 'NN'), ('of', 'IN'), ('Darwinian', 'JJ'), ('selection', 'NN'), ('theory', 'NN'), ('.', '.'), ('2', 'CD'), ('.', '.'), ('Find', 'VB'), ('out', 'RP'), ('from', 'IN'), ('newspapers', 'NNS'), ('and', 'CC'), ('popular', 'JJ'), ('science', 'NN'), ('articles', 'NNS'), ('any', 'DT'), ('new', 'JJ'), ('fossil', 'NN'), ('discoveries', 'NNS'), ('or', 'CC'), ('controversies', 'NNS'), ('about', 'IN'), ('evolution', 'NN'), ('.', '.'), ('3', 'CD'), ('.', '.'), ('Attempt', 'VB'), ('giving', 'VBG'), ('a', 'DT'), ('clear', 'JJ'), ('definition', 'NN'), ('of', 'IN'), ('the', 'DT'), ('term', 'NN'), ('species', 'NNS'), ('.', '.'), ('4', 'CD'), ('.', '.'), ('Try', 'VB'), ('to', 'TO'), ('trace', 'VB'), ('the', 'DT'), ('various', 'JJ'), ('components', 'NNS'), ('of', 'IN'), ('human', 'JJ'), ('evolution', 'NN'), ('(', '('), ('hint', 'NN'), (':', ':'), ('brain', 'NN'), ('size', 'NN'), ('and', 'CC'), ('function', 'NN'), (',', ','), ('skeletal', 'JJ'), ('structure', 'NN'), (',', ','), ('dietary', 'JJ'), ('preference', 'NN'), (',', ','), ('etc', 'FW'), ('.', '.'), (')', ')'), ('5', 'CD'), ('.', '.'), ('Find', 'VB'), ('out', 'RP'), ('through', 'IN'), ('internet', 'NN'), ('and', 'CC'), ('popular', 'JJ'), ('science', 'NN'), ('articles', 'NNS'), ('whether', 'IN'), ('animals', 'NNS'), ('other', 'JJ'), ('than', 'IN'), ('man', 'NN'), ('has', 'VBZ'), ('self-consciousness', 'NN'), ('.', '.'), ('6', 'CD'), ('.', '.'), ('List', 'VB'), ('10', 'CD'), ('modern-day', 'JJ'), ('animals', 'NNS'), ('and', 'CC'), ('using', 'VBG'), ('the', 'DT'), ('internet', 'JJ'), ('resources', 'NNS'), ('link', 'VBP'), ('it', 'PRP'), ('to', 'TO'), ('a', 'DT'), ('corresponding', 'JJ'), ('ancient', 'JJ'), ('fossil', 'NN'), ('.', '.'), ('Name', 'NNP'), ('both', 'DT'), ('.', '.'), ('7', 'CD'), ('.', '.'), ('Practise', 'VB'), ('drawing', 'VBG'), ('various', 'JJ'), ('animals', 'NNS'), ('and', 'CC'), ('plants', 'NNS'), ('.', '.'), ('8', 'CD'), ('.', '.'), ('Describe', 'VB'), ('one', 'CD'), ('example', 'NN'), ('of', 'IN'), ('adaptive', 'JJ'), ('radiation', 'NN'), ('.', '.'), ('9', 'CD'), ('.', '.'), ('Can', 'MD'), ('we', 'PRP'), ('call', 'VB'), ('human', 'JJ'), ('evolution', 'NN'), ('as', 'IN'), ('adaptive', 'JJ'), ('radiation', 'NN'), ('?', '.'), ('10', 'CD'), ('.', '.'), ('Using', 'VBG'), ('various', 'JJ'), ('resources', 'NNS'), ('such', 'JJ'), ('as', 'IN'), ('your', 'PRP$'), ('school', 'NN'), ('Library', 'NNP'), ('or', 'CC'), ('the', 'DT'), ('internet', 'NN'), ('and', 'CC'), ('discussions', 'NNS'), ('with', 'IN'), ('your', 'PRP$'), ('teacher', 'NN'), (',', ','), ('trace', 'VBP'), ('the', 'DT'), ('evolutionary', 'JJ'), ('stages', 'NNS'), ('of', 'IN'), ('any', 'DT'), ('one', 'CD'), ('animal', 'NN'), ('say', 'VBP'), ('horse', 'NN'), ('.', '.')]\n"
     ]
    }
   ],
   "source": [
    "#CHECKING POS TAG FOR THE WHOLE TEXT IN ONE GO\n",
    "text_tok = nltk.word_tokenize(text) \n",
    "\n",
    "pos_tagged = nltk.pos_tag(text_tok)\n",
    " \n",
    "print(pos_tagged)"
   ]
  },
  {
   "cell_type": "code",
   "execution_count": 165,
   "metadata": {
    "colab": {},
    "colab_type": "code",
    "id": "9NCnRqcnNCcQ"
   },
   "outputs": [],
   "source": [
    "\n",
    "#need to only take keywords of the form that are nouns"
   ]
  },
  {
   "cell_type": "code",
   "execution_count": 166,
   "metadata": {
    "colab": {},
    "colab_type": "code",
    "id": "Ubozj04PNFwG"
   },
   "outputs": [],
   "source": [
    "#simple function to check if tag in (message,tag) pair is of form noun\n",
    "def Noun_checker(x):\n",
    "  valid_pos_tags=['NN','NNS','NNP','NNPS']\n",
    "  if(x[1] in valid_pos_tags):\n",
    "    return 1\n"
   ]
  },
  {
   "cell_type": "code",
   "execution_count": 167,
   "metadata": {
    "colab": {},
    "colab_type": "code",
    "id": "LFeNWJAyNHnl"
   },
   "outputs": [],
   "source": [
    "def Pos_keyword_cleaner(pos_tagged_data,l_of_keyword):\n",
    "  pos_clean_list_of_keyword=[]\n",
    "  x=0\n",
    "  for i in pos_tagged_data:\n",
    "    if(i[0].lower() in l_of_keyword):\n",
    "      if(i[0].lower() not in pos_clean_list_of_keyword):\n",
    "        if(Noun_checker(i) == 1 ):\n",
    "          pos_clean_list_of_keyword.append(i[0].lower())\n",
    "  return pos_clean_list_of_keyword"
   ]
  },
  {
   "cell_type": "code",
   "execution_count": 168,
   "metadata": {
    "colab": {},
    "colab_type": "code",
    "id": "L1RbxLM_NKGs"
   },
   "outputs": [],
   "source": [
    "\n",
    "Pos_cleaned_kw=Pos_keyword_cleaner(pos_tagged,list_of_keywords)"
   ]
  },
  {
   "cell_type": "code",
   "execution_count": 169,
   "metadata": {
    "colab": {
     "base_uri": "https://localhost:8080/",
     "height": 54
    },
    "colab_type": "code",
    "id": "SgQKZSiXNMVG",
    "outputId": "c2cdca25-c386-4f59-f022-59120b51611e"
   },
   "outputs": [
    {
     "name": "stdout",
     "output_type": "stream",
     "text": [
      "['biology', 'evolution', 'origin', 'life', 'forms', 'theory', 'radiation', 'man', 'history', 'earth', 'millions', 'years', 'time', 'universe', 'water', 'form', 'organisms', 'figure', 'darwin', 'population', 'selection', 'fossils', 'mammals', 'animals', 'moth', 'adaptive', 'natural', 'frequency', 'gene', 'mya', 'due']\n"
     ]
    }
   ],
   "source": [
    "print(Pos_cleaned_kw)"
   ]
  },
  {
   "cell_type": "code",
   "execution_count": 170,
   "metadata": {
    "colab": {
     "base_uri": "https://localhost:8080/",
     "height": 34
    },
    "colab_type": "code",
    "id": "kgt5_rpVNPLw",
    "outputId": "bc95fd7c-7d9f-42c7-ee10-50688a9250b5"
   },
   "outputs": [
    {
     "name": "stdout",
     "output_type": "stream",
     "text": [
      "31\n"
     ]
    }
   ],
   "source": [
    "print(len(Pos_cleaned_kw))"
   ]
  },
  {
   "cell_type": "code",
   "execution_count": 171,
   "metadata": {
    "colab": {},
    "colab_type": "code",
    "id": "nggX570vNT6j"
   },
   "outputs": [],
   "source": [
    "############### WE HAVE SUCCESSFULLY EXTRACTED KEYWORDS OF FORM NOUN ####################"
   ]
  },
  {
   "cell_type": "code",
   "execution_count": 172,
   "metadata": {
    "colab": {},
    "colab_type": "code",
    "id": "QqNHVcYMNWgQ"
   },
   "outputs": [],
   "source": [
    "#################### MOVING ON TO NER ####################################(Named Entity Recognition)"
   ]
  },
  {
   "cell_type": "code",
   "execution_count": 173,
   "metadata": {
    "colab": {},
    "colab_type": "code",
    "id": "FwB2SRw5NYmP"
   },
   "outputs": [],
   "source": [
    "#making NER of entire document\n",
    "import spacy \n",
    "nlp_ner = spacy.load('en_core_web_sm') \n",
    "ner_doc = nlp_ner(text) "
   ]
  },
  {
   "cell_type": "code",
   "execution_count": 174,
   "metadata": {
    "colab": {
     "base_uri": "https://localhost:8080/",
     "height": 34
    },
    "colab_type": "code",
    "id": "RMAHHGYbNa0O",
    "outputId": "a55573ab-dd50-4f42-9517-f6dd2dc19787"
   },
   "outputs": [
    {
     "name": "stdout",
     "output_type": "stream",
     "text": [
      "6147\n"
     ]
    }
   ],
   "source": [
    "(print(len(ner_doc)))"
   ]
  },
  {
   "cell_type": "code",
   "execution_count": 175,
   "metadata": {
    "colab": {},
    "colab_type": "code",
    "id": "H7kK90eXNejb"
   },
   "outputs": [],
   "source": [
    "#creates a list of bad entities in the document ehich we will use later to eliminate\n",
    "def NER_bad_entty_checker(doc):\n",
    "  Ner_checked_doc=[]\n",
    "  list_of_bad_entities=['PERSON','NORP','FAC','GPE','DATE','TIME','MONEY','ORDINAL','CARDINAL']\n",
    "  for ent in doc.ents:\n",
    "    if(ent.label_ in list_of_bad_entities):\n",
    "      Ner_checked_doc.append(ent.text.lower())\n",
    "  return (Ner_checked_doc)\n"
   ]
  },
  {
   "cell_type": "code",
   "execution_count": 176,
   "metadata": {
    "colab": {},
    "colab_type": "code",
    "id": "6Zf6OKHfNguQ"
   },
   "outputs": [],
   "source": [
    "Ner_bad_entities=NER_bad_entty_checker(ner_doc)"
   ]
  },
  {
   "cell_type": "code",
   "execution_count": 177,
   "metadata": {
    "colab": {
     "base_uri": "https://localhost:8080/",
     "height": 34
    },
    "colab_type": "code",
    "id": "ezp5Sh99NjC7",
    "outputId": "684d09df-c5fe-4187-e69a-1aff32f9e577"
   },
   "outputs": [
    {
     "name": "stdout",
     "output_type": "stream",
     "text": [
      "230\n"
     ]
    }
   ],
   "source": [
    "print(len(Ner_bad_entities))"
   ]
  },
  {
   "cell_type": "code",
   "execution_count": 178,
   "metadata": {
    "colab": {},
    "colab_type": "code",
    "id": "QkTPnOWsNldv"
   },
   "outputs": [],
   "source": [
    "# print(Ner_bad_entities)"
   ]
  },
  {
   "cell_type": "code",
   "execution_count": 179,
   "metadata": {
    "colab": {},
    "colab_type": "code",
    "id": "D1hk3LACNny0"
   },
   "outputs": [],
   "source": [
    "#converting above unigram bad-entities to unigrams\n",
    "def bad_entity_cleaner(l):\n",
    "  my_string=\"\"\n",
    "  for i in l:\n",
    "    my_string=my_string+i+\" \"\n",
    "  # print()\n",
    "  holder=my_string.split(' ')\n",
    "  bad_set=set(holder)\n",
    "  return list(bad_set)"
   ]
  },
  {
   "cell_type": "code",
   "execution_count": 180,
   "metadata": {
    "colab": {},
    "colab_type": "code",
    "id": "NrWmZB0oNs4Z"
   },
   "outputs": [],
   "source": [
    "Ner_bad_entity=bad_entity_cleaner(Ner_bad_entities)"
   ]
  },
  {
   "cell_type": "code",
   "execution_count": 181,
   "metadata": {
    "colab": {},
    "colab_type": "code",
    "id": "DASwTDCyNu5r"
   },
   "outputs": [],
   "source": [
    "#removes the keywords which are named entities\n",
    "def Ner_cleaned_keywords(pos_clean_kw,ner_bad_entty):\n",
    "  list_of_ner_pos_clean_keywords=[]\n",
    "  for i in pos_clean_kw:\n",
    "    if(i not in ner_bad_entty):\n",
    "      list_of_ner_pos_clean_keywords.append(i)\n",
    "  return list_of_ner_pos_clean_keywords"
   ]
  },
  {
   "cell_type": "code",
   "execution_count": 182,
   "metadata": {
    "colab": {},
    "colab_type": "code",
    "id": "qGoJTZzaNxRp"
   },
   "outputs": [],
   "source": [
    "pos_ner_cleaned_keywords=Ner_cleaned_keywords(Pos_cleaned_kw,Ner_bad_entity)"
   ]
  },
  {
   "cell_type": "code",
   "execution_count": 183,
   "metadata": {
    "colab": {
     "base_uri": "https://localhost:8080/",
     "height": 34
    },
    "colab_type": "code",
    "id": "EieLujmKNzg4",
    "outputId": "559d6ee1-2b67-400d-c600-84e55d6a56fb"
   },
   "outputs": [
    {
     "name": "stdout",
     "output_type": "stream",
     "text": [
      "28\n"
     ]
    }
   ],
   "source": [
    "print(len(pos_ner_cleaned_keywords))"
   ]
  },
  {
   "cell_type": "code",
   "execution_count": 184,
   "metadata": {
    "colab": {},
    "colab_type": "code",
    "id": "5SXOWKmNN2C4"
   },
   "outputs": [],
   "source": [
    "# print(pos_ner_cleaned_keywords)"
   ]
  },
  {
   "cell_type": "code",
   "execution_count": 185,
   "metadata": {
    "colab": {
     "base_uri": "https://localhost:8080/",
     "height": 503
    },
    "colab_type": "code",
    "id": "qqN6IT6AOCN8",
    "outputId": "b0bb5451-ee9c-4a9e-e737-e39b4fdb12ec"
   },
   "outputs": [
    {
     "name": "stdout",
     "output_type": "stream",
     "text": [
      "biology\n",
      "evolution\n",
      "origin\n",
      "life\n",
      "forms\n",
      "theory\n",
      "radiation\n",
      "man\n",
      "history\n",
      "earth\n",
      "time\n",
      "universe\n",
      "water\n",
      "form\n",
      "organisms\n",
      "figure\n",
      "population\n",
      "selection\n",
      "fossils\n",
      "mammals\n",
      "animals\n",
      "moth\n",
      "adaptive\n",
      "natural\n",
      "frequency\n",
      "gene\n",
      "mya\n",
      "due\n"
     ]
    }
   ],
   "source": [
    "for i in pos_ner_cleaned_keywords:\n",
    "  print(i)"
   ]
  },
  {
   "cell_type": "code",
   "execution_count": 186,
   "metadata": {
    "colab": {},
    "colab_type": "code",
    "id": "OxFFDgCcOAKQ"
   },
   "outputs": [],
   "source": [
    "keyword_array=pos_ner_cleaned_keywords"
   ]
  },
  {
   "cell_type": "code",
   "execution_count": 186,
   "metadata": {
    "colab": {},
    "colab_type": "code",
    "id": "l4fcZiTgOAON"
   },
   "outputs": [],
   "source": [
    "#smaller list for keyword"
   ]
  },
  {
   "cell_type": "code",
   "execution_count": 294,
   "metadata": {
    "colab": {},
    "colab_type": "code",
    "id": "ifriC6snvzjX"
   },
   "outputs": [],
   "source": [
    "keyword_array=keyword_array[0:10]"
   ]
  },
  {
   "cell_type": "code",
   "execution_count": 295,
   "metadata": {
    "colab": {},
    "colab_type": "code",
    "id": "35KA7PuaOTlW"
   },
   "outputs": [],
   "source": [
    "#MOVING TO EXTRACTING DEFINITIONS#################################"
   ]
  },
  {
   "cell_type": "code",
   "execution_count": 296,
   "metadata": {
    "colab": {
     "base_uri": "https://localhost:8080/",
     "height": 1000
    },
    "colab_type": "code",
    "id": "VdzmrsuFPuDL",
    "outputId": "79c661a8-e20f-4b85-9aea-dd4e69a5015a"
   },
   "outputs": [
    {
     "data": {
      "text/plain": [
       "BertModel(\n",
       "  (embeddings): BertEmbeddings(\n",
       "    (word_embeddings): Embedding(30522, 768, padding_idx=0)\n",
       "    (position_embeddings): Embedding(512, 768)\n",
       "    (token_type_embeddings): Embedding(2, 768)\n",
       "    (LayerNorm): BertLayerNorm()\n",
       "    (dropout): Dropout(p=0.1, inplace=False)\n",
       "  )\n",
       "  (encoder): BertEncoder(\n",
       "    (layer): ModuleList(\n",
       "      (0): BertLayer(\n",
       "        (attention): BertAttention(\n",
       "          (self): BertSelfAttention(\n",
       "            (query): Linear(in_features=768, out_features=768, bias=True)\n",
       "            (key): Linear(in_features=768, out_features=768, bias=True)\n",
       "            (value): Linear(in_features=768, out_features=768, bias=True)\n",
       "            (dropout): Dropout(p=0.1, inplace=False)\n",
       "          )\n",
       "          (output): BertSelfOutput(\n",
       "            (dense): Linear(in_features=768, out_features=768, bias=True)\n",
       "            (LayerNorm): BertLayerNorm()\n",
       "            (dropout): Dropout(p=0.1, inplace=False)\n",
       "          )\n",
       "        )\n",
       "        (intermediate): BertIntermediate(\n",
       "          (dense): Linear(in_features=768, out_features=3072, bias=True)\n",
       "        )\n",
       "        (output): BertOutput(\n",
       "          (dense): Linear(in_features=3072, out_features=768, bias=True)\n",
       "          (LayerNorm): BertLayerNorm()\n",
       "          (dropout): Dropout(p=0.1, inplace=False)\n",
       "        )\n",
       "      )\n",
       "      (1): BertLayer(\n",
       "        (attention): BertAttention(\n",
       "          (self): BertSelfAttention(\n",
       "            (query): Linear(in_features=768, out_features=768, bias=True)\n",
       "            (key): Linear(in_features=768, out_features=768, bias=True)\n",
       "            (value): Linear(in_features=768, out_features=768, bias=True)\n",
       "            (dropout): Dropout(p=0.1, inplace=False)\n",
       "          )\n",
       "          (output): BertSelfOutput(\n",
       "            (dense): Linear(in_features=768, out_features=768, bias=True)\n",
       "            (LayerNorm): BertLayerNorm()\n",
       "            (dropout): Dropout(p=0.1, inplace=False)\n",
       "          )\n",
       "        )\n",
       "        (intermediate): BertIntermediate(\n",
       "          (dense): Linear(in_features=768, out_features=3072, bias=True)\n",
       "        )\n",
       "        (output): BertOutput(\n",
       "          (dense): Linear(in_features=3072, out_features=768, bias=True)\n",
       "          (LayerNorm): BertLayerNorm()\n",
       "          (dropout): Dropout(p=0.1, inplace=False)\n",
       "        )\n",
       "      )\n",
       "      (2): BertLayer(\n",
       "        (attention): BertAttention(\n",
       "          (self): BertSelfAttention(\n",
       "            (query): Linear(in_features=768, out_features=768, bias=True)\n",
       "            (key): Linear(in_features=768, out_features=768, bias=True)\n",
       "            (value): Linear(in_features=768, out_features=768, bias=True)\n",
       "            (dropout): Dropout(p=0.1, inplace=False)\n",
       "          )\n",
       "          (output): BertSelfOutput(\n",
       "            (dense): Linear(in_features=768, out_features=768, bias=True)\n",
       "            (LayerNorm): BertLayerNorm()\n",
       "            (dropout): Dropout(p=0.1, inplace=False)\n",
       "          )\n",
       "        )\n",
       "        (intermediate): BertIntermediate(\n",
       "          (dense): Linear(in_features=768, out_features=3072, bias=True)\n",
       "        )\n",
       "        (output): BertOutput(\n",
       "          (dense): Linear(in_features=3072, out_features=768, bias=True)\n",
       "          (LayerNorm): BertLayerNorm()\n",
       "          (dropout): Dropout(p=0.1, inplace=False)\n",
       "        )\n",
       "      )\n",
       "      (3): BertLayer(\n",
       "        (attention): BertAttention(\n",
       "          (self): BertSelfAttention(\n",
       "            (query): Linear(in_features=768, out_features=768, bias=True)\n",
       "            (key): Linear(in_features=768, out_features=768, bias=True)\n",
       "            (value): Linear(in_features=768, out_features=768, bias=True)\n",
       "            (dropout): Dropout(p=0.1, inplace=False)\n",
       "          )\n",
       "          (output): BertSelfOutput(\n",
       "            (dense): Linear(in_features=768, out_features=768, bias=True)\n",
       "            (LayerNorm): BertLayerNorm()\n",
       "            (dropout): Dropout(p=0.1, inplace=False)\n",
       "          )\n",
       "        )\n",
       "        (intermediate): BertIntermediate(\n",
       "          (dense): Linear(in_features=768, out_features=3072, bias=True)\n",
       "        )\n",
       "        (output): BertOutput(\n",
       "          (dense): Linear(in_features=3072, out_features=768, bias=True)\n",
       "          (LayerNorm): BertLayerNorm()\n",
       "          (dropout): Dropout(p=0.1, inplace=False)\n",
       "        )\n",
       "      )\n",
       "      (4): BertLayer(\n",
       "        (attention): BertAttention(\n",
       "          (self): BertSelfAttention(\n",
       "            (query): Linear(in_features=768, out_features=768, bias=True)\n",
       "            (key): Linear(in_features=768, out_features=768, bias=True)\n",
       "            (value): Linear(in_features=768, out_features=768, bias=True)\n",
       "            (dropout): Dropout(p=0.1, inplace=False)\n",
       "          )\n",
       "          (output): BertSelfOutput(\n",
       "            (dense): Linear(in_features=768, out_features=768, bias=True)\n",
       "            (LayerNorm): BertLayerNorm()\n",
       "            (dropout): Dropout(p=0.1, inplace=False)\n",
       "          )\n",
       "        )\n",
       "        (intermediate): BertIntermediate(\n",
       "          (dense): Linear(in_features=768, out_features=3072, bias=True)\n",
       "        )\n",
       "        (output): BertOutput(\n",
       "          (dense): Linear(in_features=3072, out_features=768, bias=True)\n",
       "          (LayerNorm): BertLayerNorm()\n",
       "          (dropout): Dropout(p=0.1, inplace=False)\n",
       "        )\n",
       "      )\n",
       "      (5): BertLayer(\n",
       "        (attention): BertAttention(\n",
       "          (self): BertSelfAttention(\n",
       "            (query): Linear(in_features=768, out_features=768, bias=True)\n",
       "            (key): Linear(in_features=768, out_features=768, bias=True)\n",
       "            (value): Linear(in_features=768, out_features=768, bias=True)\n",
       "            (dropout): Dropout(p=0.1, inplace=False)\n",
       "          )\n",
       "          (output): BertSelfOutput(\n",
       "            (dense): Linear(in_features=768, out_features=768, bias=True)\n",
       "            (LayerNorm): BertLayerNorm()\n",
       "            (dropout): Dropout(p=0.1, inplace=False)\n",
       "          )\n",
       "        )\n",
       "        (intermediate): BertIntermediate(\n",
       "          (dense): Linear(in_features=768, out_features=3072, bias=True)\n",
       "        )\n",
       "        (output): BertOutput(\n",
       "          (dense): Linear(in_features=3072, out_features=768, bias=True)\n",
       "          (LayerNorm): BertLayerNorm()\n",
       "          (dropout): Dropout(p=0.1, inplace=False)\n",
       "        )\n",
       "      )\n",
       "      (6): BertLayer(\n",
       "        (attention): BertAttention(\n",
       "          (self): BertSelfAttention(\n",
       "            (query): Linear(in_features=768, out_features=768, bias=True)\n",
       "            (key): Linear(in_features=768, out_features=768, bias=True)\n",
       "            (value): Linear(in_features=768, out_features=768, bias=True)\n",
       "            (dropout): Dropout(p=0.1, inplace=False)\n",
       "          )\n",
       "          (output): BertSelfOutput(\n",
       "            (dense): Linear(in_features=768, out_features=768, bias=True)\n",
       "            (LayerNorm): BertLayerNorm()\n",
       "            (dropout): Dropout(p=0.1, inplace=False)\n",
       "          )\n",
       "        )\n",
       "        (intermediate): BertIntermediate(\n",
       "          (dense): Linear(in_features=768, out_features=3072, bias=True)\n",
       "        )\n",
       "        (output): BertOutput(\n",
       "          (dense): Linear(in_features=3072, out_features=768, bias=True)\n",
       "          (LayerNorm): BertLayerNorm()\n",
       "          (dropout): Dropout(p=0.1, inplace=False)\n",
       "        )\n",
       "      )\n",
       "      (7): BertLayer(\n",
       "        (attention): BertAttention(\n",
       "          (self): BertSelfAttention(\n",
       "            (query): Linear(in_features=768, out_features=768, bias=True)\n",
       "            (key): Linear(in_features=768, out_features=768, bias=True)\n",
       "            (value): Linear(in_features=768, out_features=768, bias=True)\n",
       "            (dropout): Dropout(p=0.1, inplace=False)\n",
       "          )\n",
       "          (output): BertSelfOutput(\n",
       "            (dense): Linear(in_features=768, out_features=768, bias=True)\n",
       "            (LayerNorm): BertLayerNorm()\n",
       "            (dropout): Dropout(p=0.1, inplace=False)\n",
       "          )\n",
       "        )\n",
       "        (intermediate): BertIntermediate(\n",
       "          (dense): Linear(in_features=768, out_features=3072, bias=True)\n",
       "        )\n",
       "        (output): BertOutput(\n",
       "          (dense): Linear(in_features=3072, out_features=768, bias=True)\n",
       "          (LayerNorm): BertLayerNorm()\n",
       "          (dropout): Dropout(p=0.1, inplace=False)\n",
       "        )\n",
       "      )\n",
       "      (8): BertLayer(\n",
       "        (attention): BertAttention(\n",
       "          (self): BertSelfAttention(\n",
       "            (query): Linear(in_features=768, out_features=768, bias=True)\n",
       "            (key): Linear(in_features=768, out_features=768, bias=True)\n",
       "            (value): Linear(in_features=768, out_features=768, bias=True)\n",
       "            (dropout): Dropout(p=0.1, inplace=False)\n",
       "          )\n",
       "          (output): BertSelfOutput(\n",
       "            (dense): Linear(in_features=768, out_features=768, bias=True)\n",
       "            (LayerNorm): BertLayerNorm()\n",
       "            (dropout): Dropout(p=0.1, inplace=False)\n",
       "          )\n",
       "        )\n",
       "        (intermediate): BertIntermediate(\n",
       "          (dense): Linear(in_features=768, out_features=3072, bias=True)\n",
       "        )\n",
       "        (output): BertOutput(\n",
       "          (dense): Linear(in_features=3072, out_features=768, bias=True)\n",
       "          (LayerNorm): BertLayerNorm()\n",
       "          (dropout): Dropout(p=0.1, inplace=False)\n",
       "        )\n",
       "      )\n",
       "      (9): BertLayer(\n",
       "        (attention): BertAttention(\n",
       "          (self): BertSelfAttention(\n",
       "            (query): Linear(in_features=768, out_features=768, bias=True)\n",
       "            (key): Linear(in_features=768, out_features=768, bias=True)\n",
       "            (value): Linear(in_features=768, out_features=768, bias=True)\n",
       "            (dropout): Dropout(p=0.1, inplace=False)\n",
       "          )\n",
       "          (output): BertSelfOutput(\n",
       "            (dense): Linear(in_features=768, out_features=768, bias=True)\n",
       "            (LayerNorm): BertLayerNorm()\n",
       "            (dropout): Dropout(p=0.1, inplace=False)\n",
       "          )\n",
       "        )\n",
       "        (intermediate): BertIntermediate(\n",
       "          (dense): Linear(in_features=768, out_features=3072, bias=True)\n",
       "        )\n",
       "        (output): BertOutput(\n",
       "          (dense): Linear(in_features=3072, out_features=768, bias=True)\n",
       "          (LayerNorm): BertLayerNorm()\n",
       "          (dropout): Dropout(p=0.1, inplace=False)\n",
       "        )\n",
       "      )\n",
       "      (10): BertLayer(\n",
       "        (attention): BertAttention(\n",
       "          (self): BertSelfAttention(\n",
       "            (query): Linear(in_features=768, out_features=768, bias=True)\n",
       "            (key): Linear(in_features=768, out_features=768, bias=True)\n",
       "            (value): Linear(in_features=768, out_features=768, bias=True)\n",
       "            (dropout): Dropout(p=0.1, inplace=False)\n",
       "          )\n",
       "          (output): BertSelfOutput(\n",
       "            (dense): Linear(in_features=768, out_features=768, bias=True)\n",
       "            (LayerNorm): BertLayerNorm()\n",
       "            (dropout): Dropout(p=0.1, inplace=False)\n",
       "          )\n",
       "        )\n",
       "        (intermediate): BertIntermediate(\n",
       "          (dense): Linear(in_features=768, out_features=3072, bias=True)\n",
       "        )\n",
       "        (output): BertOutput(\n",
       "          (dense): Linear(in_features=3072, out_features=768, bias=True)\n",
       "          (LayerNorm): BertLayerNorm()\n",
       "          (dropout): Dropout(p=0.1, inplace=False)\n",
       "        )\n",
       "      )\n",
       "      (11): BertLayer(\n",
       "        (attention): BertAttention(\n",
       "          (self): BertSelfAttention(\n",
       "            (query): Linear(in_features=768, out_features=768, bias=True)\n",
       "            (key): Linear(in_features=768, out_features=768, bias=True)\n",
       "            (value): Linear(in_features=768, out_features=768, bias=True)\n",
       "            (dropout): Dropout(p=0.1, inplace=False)\n",
       "          )\n",
       "          (output): BertSelfOutput(\n",
       "            (dense): Linear(in_features=768, out_features=768, bias=True)\n",
       "            (LayerNorm): BertLayerNorm()\n",
       "            (dropout): Dropout(p=0.1, inplace=False)\n",
       "          )\n",
       "        )\n",
       "        (intermediate): BertIntermediate(\n",
       "          (dense): Linear(in_features=768, out_features=3072, bias=True)\n",
       "        )\n",
       "        (output): BertOutput(\n",
       "          (dense): Linear(in_features=3072, out_features=768, bias=True)\n",
       "          (LayerNorm): BertLayerNorm()\n",
       "          (dropout): Dropout(p=0.1, inplace=False)\n",
       "        )\n",
       "      )\n",
       "    )\n",
       "  )\n",
       "  (pooler): BertPooler(\n",
       "    (dense): Linear(in_features=768, out_features=768, bias=True)\n",
       "    (activation): Tanh()\n",
       "  )\n",
       ")"
      ]
     },
     "execution_count": 296,
     "metadata": {
      "tags": []
     },
     "output_type": "execute_result"
    }
   ],
   "source": [
    "# Load pre-trained model (weights)\n",
    "model = BertModel.from_pretrained('bert-base-uncased')\n",
    "\n",
    "# Put the model in \"evaluation\" mode, meaning feed-forward operation.\n",
    "model.eval()"
   ]
  },
  {
   "cell_type": "code",
   "execution_count": 297,
   "metadata": {
    "colab": {},
    "colab_type": "code",
    "id": "CM9jZfGU16sA"
   },
   "outputs": [],
   "source": [
    "# File_object.seek(0)\n",
    "# print(File_object.readlines())"
   ]
  },
  {
   "cell_type": "code",
   "execution_count": 298,
   "metadata": {
    "colab": {},
    "colab_type": "code",
    "id": "r_cLK3JePwC6"
   },
   "outputs": [],
   "source": [
    "#creating a list of the text document or the file for which we should build glossary.\n",
    "text = text.replace(' ', \",\")\n",
    "text = text.replace('.', \",\")\n",
    "text = text.replace(';', \",\")\n",
    "text = text.replace('(', \",\")\n",
    "text = text.replace(')', \",\")\n",
    "text = text.replace('-', \",\")\n",
    "text = text.replace(\"\\t\", \",\")\n",
    "text = text.replace(\"\\n\", \",\")\n",
    "text = text.replace(\"\\n\\n\", \",\")\n",
    "\n",
    "text = text.replace(\",,\", \",\")\n",
    "\n",
    "text_lst = text.split(',')"
   ]
  },
  {
   "cell_type": "code",
   "execution_count": 299,
   "metadata": {
    "colab": {},
    "colab_type": "code",
    "id": "u7drzBsMRfEm"
   },
   "outputs": [],
   "source": [
    "#convert text list to lower case\n",
    "text_lst=[x.lower() for x in text_lst]"
   ]
  },
  {
   "cell_type": "code",
   "execution_count": 300,
   "metadata": {
    "colab": {
     "base_uri": "https://localhost:8080/",
     "height": 54
    },
    "colab_type": "code",
    "id": "Y7t7lco2RpZm",
    "outputId": "3c7cdd32-631f-4abc-f852-6c9d800a43f6"
   },
   "outputs": [
    {
     "name": "stdout",
     "output_type": "stream",
     "text": [
      "['biology', 'chapter', '7', 'evolution', '7', '1', 'origin', 'of', 'life', '7', '2', 'evolution', 'of', 'life', 'forms', 'a', 'theory', '7', '3', 'what', 'are', 'the', 'evidences', 'for', 'evolution?', '7', '4', 'what', 'is', 'adaptive', 'radiation?', 'biological', 'evolution', '7', '5', '7', '6', '7', '7', '7', '8', '7', '9', '126', 'mechanism', 'of', 'evolution', 'hardy', 'weinberg', 'principle', 'a', 'brief', 'account', 'of', 'evolution', 'origin', 'and', 'evolution', 'of', 'man', 'evolutionary', 'biology', 'is', 'the', 'study', 'of', 'history', 'of', 'life', 'forms', 'on', 'earth', 'what', 'exactly', 'is', 'evolution?', 'to', 'understand', 'the', 'changes', 'in', 'flora', 'and', 'fauna', 'that', 'have', 'occurred', 'over', 'millions', 'of', 'years', 'on', 'earth', 'we', 'must', 'have', 'an', 'understanding', 'of', 'the', 'context', 'of', 'origin', 'of', 'life', 'i', 'e', 'evolution', 'of', 'earth', 'of', 'stars', 'and', 'indeed', 'of', 'the', 'universe', 'itself', 'what', 'follows', 'is', 'the', 'longest', 'of', 'all', 'the', 'construed', 'and', 'conjectured', 'stories', 'this', 'is', 'the', 'story', 'of', 'origin', 'of', 'life', 'and', 'evolution', 'of', 'life', 'forms', 'or', 'biodiversity', 'on', 'planet', 'earth', 'in', 'the', 'context', 'of', 'evolution', 'of', 'earth', 'and', 'against', 'the', 'background', 'of', 'evolution', 'of', 'universe', 'itself', '7', '1', 'origin', 'of', 'life', 'when', 'we', 'look', 'at', 'stars', 'on', 'a', 'clear', 'night', 'sky', 'we', 'are', 'in', 'a', 'way', 'looking', 'back', 'in', 'time', 'stellar', 'distances', 'are', 'measured', 'in', 'light', 'years', 'what', 'we', 'see', 'today', 'is', 'an', 'object', 'whose', 'emitted', 'light', 'started', 'its', 'journey', 'millions', 'of', 'year', 'back', 'and', 'from', 'trillions', 'of', 'kilometres', 'away', 'and', 'reaching', 'our', 'eyes', 'now', 'however', 'when', 'we', 'see', 'objects', 'in', 'our', 'immediate', 'surroundings', 'we', 'see', 'them', 'instantly', 'and', 'hence', 'in', 'the', 'present', 'time', 'therefore', 'when', 'we', 'see', 'stars', 'we', 'apparently', 'are', 'peeping', 'into', 'the', 'past', 'the', 'origin', 'of', 'life', 'is', 'considered', 'a', 'unique', 'event', 'in', 'the', 'history', 'of', 'universe', 'the', 'universe', 'is', 'vast', 'relatively', 'speaking', '\\x0cevolution', 'the', 'earth', 'itself', 'is', 'almost', 'only', 'a', 'speck', 'the', 'universe', 'is', 'very', 'old', '–', 'almost', '20', 'billion', 'years', 'old', 'huge', 'clusters', 'of', 'galaxies', 'comprise', 'the', 'universe', 'galaxies', 'contain', 'stars', 'and', 'clouds', 'of', 'gas', 'and', 'dust', 'considering', 'the', 'size', 'of', 'universe', 'earth', 'is', 'indeed', 'a', 'speck', 'the', 'big', 'bang', 'theory', 'attempts', 'to', 'explain', 'to', 'us', 'the', 'origin', 'of', 'universe', 'it', 'talks', 'of', 'a', 'singular', 'huge', 'explosion', 'unimaginable', 'in', 'physical', 'terms', 'the', 'universe', 'expanded', 'and', 'hence', 'the', 'temperature', 'came', 'down', 'hydrogen', 'and', 'helium', 'formed', 'sometime', 'later', 'the', 'gases', 'condensed', 'under', 'gravitation', 'and', 'formed', 'the', 'galaxies', 'of', 'the', 'present', 'day', 'universe', 'in', 'the', 'solar', 'system', 'of', 'the', 'milky', 'way', 'galaxy', 'earth', 'was', 'supposed', 'to', 'have', 'been', 'formed', 'about', '4', '5', 'billion', 'years', 'back', 'there', 'was', 'no', 'atmosphere', 'on', 'early', 'earth', 'water', 'vapour', 'methane', 'carbondioxide', 'and', 'ammonia', 'released', 'from', 'molten', 'mass', 'covered', 'the', 'surface', 'the', 'uv', 'rays', 'from', 'the', 'sun', 'brokeup', 'water', 'into', 'hydrogen', 'and', 'oxygen', 'and', 'the', 'lighter', 'h2', 'escaped', 'oxygen', 'combined', 'with', 'ammonia', 'and', 'methane', 'to', 'form', 'water', 'co2', 'and', 'others', 'the', 'ozone', 'layer', 'was', 'formed', 'as', 'it', 'cooled', 'the', 'water', 'vapor', 'fell', 'as', 'rain', 'to', 'fill', 'all', 'the', 'depressions', 'and', 'form', 'oceans', 'life', 'appeared', '500', 'million', 'years', 'after', 'the', 'formation', 'of', 'earth', 'i', 'e', 'almost', 'four', 'billion', 'years', 'back', 'did', 'life', 'come', 'from', 'outerspace?', 'some', 'scientists', 'believe', 'that', 'it', 'came', 'from', 'outside', 'early', 'greek', 'thinkers', 'thought', 'units', 'of', 'life', 'called', 'spores', 'were', 'transferred', 'to', 'different', 'planets', 'including', 'earth', '‘panspermia’', 'is', 'still', 'a', 'favourite', 'idea', 'for', 'some', 'astronomers', 'for', 'a', 'long', 'time', 'it', 'was', 'also', 'believed', 'that', 'life', 'came', 'out', 'of', 'decaying', 'and', 'rotting', 'matter', 'like', 'straw', 'mud', 'etc', 'this', 'was', 'the', 'theory', 'of', 'spontaneous', 'generation', 'louis', 'pasteur', 'by', 'careful', 'experimentation', 'demonstrated', 'that', 'life', 'comes', 'only', 'from', 'pre', 'existing', 'life', 'he', 'showed', 'that', 'in', 'pre', 'sterilised', 'flasks', 'life', 'did', 'not', 'come', 'from', 'killed', 'yeast', 'while', 'in', 'another', 'flask', 'open', 'to', 'air', 'new', 'living', 'organisms', 'arose', 'from', '‘killed', 'yeast’', 'spontaneous', 'generation', 'theory', 'was', 'dismissed', 'once', 'and', 'for', 'all', 'however', 'this', 'did', 'not', 'answer', 'how', 'the', 'first', 'life', 'form', 'came', 'on', 'earth', 'oparin', 'of', 'russia', 'and', 'haldane', 'of', 'england', 'proposed', 'that', 'the', 'first', 'form', 'of', 'life', 'could', 'have', 'come', 'from', 'pre', 'existing', 'non', 'living', 'organic', 'molecules', 'e', 'g', 'rna', 'protein', 'etc', 'and', 'that', 'formation', 'of', 'life', 'was', 'preceded', 'by', 'chemical', 'evolution', 'i', 'e', 'formation', 'of', 'diverse', 'organic', 'molecules', 'from', 'inorganic', 'constituents', 'the', 'conditions', 'on', 'earth', 'were', '–', 'high', 'temperature', 'volcanic', 'storms', 'reducing', 'atmosphere', 'containing', 'ch4', 'nh3', 'etc', 'in', '1953', 's', 'l', 'miller', 'an', 'american', 'scientist', 'created', 'similar', 'conditions', 'in', 'a', 'laboratory', 'scale', 'figure', '7', '1', 'he', 'created', 'electric', 'discharge', 'in', 'a', 'closed', 'flask', 'containing', 'ch4', 'h2', 'nh3', 'and', 'water', 'vapaur', 'at', '8000c', 'he', 'observed', 'formation', 'of', 'amino', 'acids', 'in', 'similar', 'experiments', 'others', 'observed', 'formation', 'of', 'sugars', 'nitrogen', 'bases', 'pigment', 'and', 'fats', 'analysis', 'of', 'meteorite', 'content', 'also', 'revealed', 'similar', 'compounds', 'indicating', 'that', 'similar', 'processes', 'are', 'occurring', 'elsewhere', 'in', 'space', 'with', 'this', 'limited', 'evidence', 'the', 'first', 'part', 'of', 'the', 'conjectured', 'story', 'i', 'e', 'chemical', 'evolution', 'was', 'more', 'or', 'less', 'accepted', 'we', 'have', 'no', 'idea', 'about', 'how', 'the', 'first', 'self', 'replicating', 'metabolic', 'capsule', 'of', 'life', 'arose', 'the', 'first', 'non', 'cellular', 'forms', 'of', 'life', 'could', 'have', 'originated', '127', '\\x0cbiology', 'figure', '7', '1', 'diagrammatic', 'representation', 'of', 'miller’s', 'experiment', '3', 'billion', 'years', 'back', 'they', 'would', 'have', 'been', 'giant', 'molecules', 'rna', 'protein', 'polysaccharides', 'etc', 'these', 'capsules', 'reproduced', 'their', 'molecules', 'perhaps', 'the', 'first', 'cellular', 'form', 'of', 'life', 'did', 'not', 'possibly', 'originate', 'till', 'about', '2000', 'million', 'years', 'ago', 'these', 'were', 'probably', 'single', 'cells', 'all', 'life', 'forms', 'were', 'in', 'water', 'environment', 'only', 'this', 'version', 'of', 'a', 'biogenesis', 'i', 'e', 'the', 'first', 'form', 'of', 'life', 'arose', 'slowly', 'through', 'evolutionary', 'forces', 'from', 'non', 'living', 'molecules', 'is', 'accepted', 'by', 'majority', 'however', 'once', 'formed', 'how', 'the', 'first', 'cellular', 'forms', 'of', 'life', 'could', 'have', 'evolved', 'into', 'the', 'complex', 'biodiversity', 'of', 'today', 'is', 'the', 'fascinating', 'story', 'that', 'will', 'be', 'discussed', 'below', '7', '2', 'evolution', '128', 'of', 'life', 'forms', '–', 'a', 'theory', 'conventional', 'religious', 'literature', 'tells', 'us', 'about', 'the', 'theory', 'of', 'special', 'creation', 'this', 'theory', 'has', 'three', 'connotations', 'one', 'that', 'all', 'living', 'organisms', 'species', 'or', 'types', 'that', 'we', 'see', 'today', 'were', 'created', 'as', 'such', 'two', 'that', 'the', 'diversity', 'was', 'always', 'the', 'same', 'since', 'creation', 'and', 'will', 'be', 'the', 'same', 'in', 'future', 'also', 'three', 'that', 'earth', 'is', 'about', '4000', 'years', 'old', 'all', 'these', 'ideas', 'were', 'strongly', 'challenged', 'during', 'the', 'nineteenth', 'century', 'based', 'on', 'observations', 'made', 'during', 'a', 'sea', 'voyage', 'in', 'a', 'sail', 'ship', 'called', 'h', 'm', 's', 'beagle', 'round', 'the', 'world', 'charles', 'darwin', 'concluded', 'that', 'existing', 'living', 'forms', 'share', 'similarities', 'to', 'varying', 'degrees', 'not', 'only', 'among', 'themselves', 'but', 'also', 'with', 'life', 'forms', 'that', 'existed', 'millions', 'of', 'years', 'ago', 'many', 'such', 'life', 'forms', 'do', 'not', 'exist', 'any', 'more', 'there', 'had', 'been', 'extinctions', 'of', 'different', 'life', 'forms', 'in', 'the', '\\x0cevolution', 'years', 'gone', 'by', 'just', 'as', 'new', 'forms', 'of', 'life', 'arose', 'at', 'different', 'periods', 'of', 'history', 'of', 'earth', 'there', 'has', 'been', 'gradual', 'evolution', 'of', 'life', 'forms', 'any', 'population', 'has', 'built', 'in', 'variation', 'in', 'characteristics', 'those', 'characteristics', 'which', 'enable', 'some', 'to', 'survive', 'better', 'in', 'natural', 'conditions', 'climate', 'food', 'physical', 'factors', 'etc', 'would', 'outbreed', 'others', 'that', 'are', 'less', 'endowed', 'to', 'survive', 'under', 'such', 'natural', 'conditions', 'another', 'word', 'used', 'is', 'fitness', 'of', 'the', 'individual', 'or', 'population', 'the', 'fitness', 'according', 'to', 'darwin', 'refers', 'ultimately', 'and', 'only', 'to', 'reproductive', 'fitness', 'hence', 'those', 'who', 'are', 'better', 'fit', 'in', 'an', 'environment', 'leave', 'more', 'progeny', 'than', 'others', 'these', 'therefore', 'will', 'survive', 'more', 'and', 'hence', 'are', 'selected', 'by', 'nature', 'he', 'called', 'it', 'natural', 'selection', 'and', 'implied', 'it', 'as', 'a', 'mechanism', 'of', 'evolution', 'let', 'us', 'also', 'remember', 'that', 'alfred', 'wallace', 'a', 'naturalist', 'who', 'worked', 'in', 'malay', 'archepelago', 'had', 'also', 'come', 'to', 'similar', 'conclusions', 'around', 'the', 'same', 'time', 'in', 'due', 'course', 'of', 'time', 'apparently', 'new', 'types', 'of', 'organisms', 'are', 'recognisable', 'all', 'the', 'existing', 'life', 'forms', 'share', 'similarities', 'and', 'share', 'common', 'ancestors', 'however', 'these', 'ancestors', 'were', 'present', 'at', 'different', 'periods', 'in', 'the', 'history', 'of', 'earth', 'epochs', 'periods', 'and', 'eras', 'the', 'geological', 'history', 'of', 'earth', 'closely', 'correlates', 'with', 'the', 'biological', 'history', 'of', 'earth', 'a', 'common', 'permissible', 'conclusion', 'is', 'that', 'earth', 'is', 'very', 'old', 'not', 'thousand', 'of', 'years', 'as', 'was', 'thought', 'earlier', 'but', 'billions', 'of', 'years', 'old', '7', '3', 'what', 'are', 'the', 'evidences', 'for', 'evolution?', 'evidence', 'that', 'evolution', 'of', 'life', 'forms', 'has', 'indeed', 'taken', 'place', 'on', 'earth', 'has', 'come', 'from', 'many', 'quarters', 'fossils', 'are', 'remained', 'of', 'hard', 'parts', 'of', 'life', 'forms', 'found', 'in', 'rocks', 'rocks', 'form', 'sediments', 'and', 'a', 'cross', 'section', 'of', \"earth's\", 'crust', 'indicates', 'the', 'arrangement', 'of', 'sediments', 'one', 'over', 'the', 'other', 'during', 'the', 'long', 'history', 'of', 'earth', 'different', 'aged', 'rock', 'sediments', 'contain', 'fossils', 'of', 'different', 'life', 'forms', 'who', 'probably', 'died', 'during', 'the', 'formation', 'of', 'the', 'particular', 'sediment', 'some', 'of', 'them', 'appear', 'similar', 'to', 'modern', 'organisms', 'figure', '7', '2', 'they', 'represent', 'extinct', 'organisms', 'e', 'g', 'dinosaurs', 'a', 'study', 'of', 'fossils', 'in', 'different', 'sedimentary', 'layers', 'indicates', 'the', 'geological', 'period', 'in', 'which', 'they', 'existed', 'the', 'study', 'showed', 'that', 'life', 'forms', 'varied', 'over', 'time', 'and', 'certain', 'life', 'forms', 'are', 'restricted', 'to', 'certain', 'geological', 'time', 'spans', 'hence', 'new', 'forms', 'of', 'life', 'have', 'arisen', 'at', 'different', 'times', 'in', 'the', 'history', 'of', 'earth', 'all', 'this', 'is', 'called', 'paleontological', 'evidence', 'do', 'you', 'remember', 'how', 'the', 'ages', 'of', 'the', 'fossils', 'are', 'calculated?', 'do', 'you', 'recollect', 'the', 'method', 'of', 'radioactivedating', 'and', 'the', 'principles', 'behind', 'the', 'procedure?', 'comparative', 'anatomy', 'and', 'morphology', 'shows', 'similarities', 'and', 'differences', 'among', 'organisms', 'of', 'today', 'and', 'those', 'that', 'existed', 'years', 'ago', 'such', 'similarities', 'can', 'be', 'interpreted', 'to', 'understand', 'whether', 'common', 'ancestors', 'were', 'shared', 'or', 'not', 'for', 'example', 'whales', 'bats', 'cheetah', 'and', 'human', 'all', 'mammals', 'share', 'similarities', 'in', 'the', 'pattern', 'of', 'bones', 'of', 'forelimbs', 'figure', '7', '3b', 'though', 'these', 'forelimbs', 'perform', 'different', 'functions', 'in', 'these', 'animals', 'they', 'have', 'similar', 'anatomical', 'structure', '–', 'all', 'of', 'them', 'have', '129', '\\x0cbiology', 'figure', '7', '2', 'a', 'family', 'tree', 'of', 'dinosaurs', 'and', 'their', 'living', 'modern', 'day', 'counterpart', 'organisms', 'like', 'crocodiles', 'and', 'birds', '130', 'humerus', 'radius', 'ulna', 'carpals', 'metacarpals', 'and', 'phalanges', 'in', 'their', 'forelimbs', 'hence', 'in', 'these', 'animals', 'the', 'same', 'structure', 'developed', 'along', 'different', 'directions', 'due', 'to', 'adaptions', 'to', 'different', 'needs', 'this', 'is', 'divergent', 'evolution', 'and', 'these', 'structures', 'are', 'homologous', 'homology', 'indicates', 'common', 'ancestry', 'other', 'examples', 'are', 'vertebrate', 'hearts', 'or', 'brains', 'in', 'plants', 'also', 'the', 'thorn', 'and', 'tendrils', 'of', 'bougainvillea', 'and', 'cucurbita', 'represent', 'homology', 'figure', '7', '3a', 'homology', 'is', 'based', 'on', 'divergent', 'evolution', 'whereas', 'analogy', 'refers', 'to', 'a', 'situation', 'exactly', 'opposite', 'wings', 'of', 'butterfly', 'and', 'of', 'birds', 'look', 'alike', 'they', 'are', 'not', 'anatomically', 'similar', '\\x0cevolution', 'structures', 'though', 'they', 'perform', 'similar', 'functions', 'hence', 'analogous', 'structures', 'are', 'a', 'result', 'of', 'convergent', 'evolution', 'different', 'structures', 'evolving', 'for', 'the', 'same', 'function', 'and', 'hence', 'having', 'similarity', 'other', 'examples', 'of', 'analogy', 'are', 'the', 'eye', 'of', 'the', 'octopus', 'and', 'of', 'mammals', 'or', 'the', 'flippers', 'of', 'penguins', 'and', 'dolphins', 'one', 'can', 'say', 'that', 'it', 'is', 'the', 'similar', 'habitat', 'that', 'has', 'resulted', 'in', 'selection', 'of', 'similar', 'adaptive', 'features', 'in', 'different', 'groups', 'of', 'organisms', 'but', 'toward', 'the', 'same', 'function:', 'a', 'sweet', 'potato', 'root', 'modification', 'and', 'potato', 'stem', 'modification', 'is', 'another', 'example', 'for', 'analogy', 'in', 'the', 'same', 'line', 'of', 'argument', 'similarities', 'in', 'proteins', 'and', 'genes', 'performing', 'a', 'given', 'function', 'among', 'diverse', 'organisms', 'give', 'clues', 'to', 'common', 'ancestry', 'these', 'biochemical', 'similarities', 'point', 'to', 'the', 'same', 'shared', 'ancestry', 'as', 'structural', 'similarities', 'among', 'diverse', 'organisms', 'man', 'has', 'bred', 'selected', 'plants', 'and', 'animals', 'for', 'agriculture', 'horticulture', 'sport', 'or', 'security', 'man', 'has', 'domesticated', 'many', 'wild', 'animals', 'and', 'crops', 'this', 'intensive', 'breeding', 'programme', 'has', 'created', 'breeds', 'that', 'differ', 'from', 'other', 'breeds', 'e', 'g', 'dogs', 'but', 'still', 'are', 'of', 'the', 'same', 'group', 'it', 'is', 'argued', 'that', 'if', 'within', 'hundred', 'of', 'years', 'man', 'could', 'create', 'new', 'breeds', 'could', 'not', 'nature', 'have', 'b', 'done', 'the', 'same', 'over', 'millions', 'of', 'years?', 'another', 'interesting', 'observation', 'figure', '7', '3', 'example', 'of', 'homologous', 'organs', 'in', 'supporting', 'evolution', 'by', 'natural', 'selection', 'a', 'plants', 'and', 'b', 'animals', 'comes', 'from', 'england', 'in', 'a', 'collection', 'of', 'moths', 'made', 'in', '1850s', 'i', 'e', 'before', 'industrialisation', 'set', 'in', 'it', 'was', 'observed', 'that', 'there', 'were', 'more', 'white', 'winged', 'moths', 'on', 'trees', 'than', 'dark', 'winged', 'or', 'melanised', 'moths', 'however', 'in', 'the', 'collection', 'carried', 'out', 'from', 'the', 'same', '131', 'area', 'but', 'after', 'industrialisation', 'i', 'e', 'in', '1920', 'there', 'were', 'more', 'dark', 'winged', 'moths', 'in', 'the', 'same', 'area', 'i', 'e', 'the', 'proportion', 'was', 'reversed', 'the', 'explanation', 'put', 'forth', 'for', 'this', 'observation', 'was', 'that', '‘predators', 'will', 'spot', 'a', 'moth', 'against', 'a', 'contrasting', 'background’', 'during', 'postindustrialisation', 'period', 'the', 'tree', 'trunks', 'became', 'dark', 'due', 'to', 'industrial', 'smoke', 'and', 'soots', 'under', 'this', 'condition', 'the', 'white', 'winged', 'moth', 'did', 'not', '\\x0cbiology', 'a', 'b', 'figure', '7', '4', 'figure', 'showing', 'white', 'winged', 'moth', 'and', 'dark', 'winged', 'moth', 'melanised', 'on', 'a', 'tree', 'trunk', 'a', 'in', 'unpolluted', 'area', 'b', 'in', 'polluted', 'area', 'survive', 'due', 'to', 'predators', 'dark', 'winged', 'or', 'melanised', 'moth', 'survived', 'before', 'industrialisation', 'set', 'in', 'thick', 'growth', 'of', 'almost', 'white', 'coloured', 'lichen', 'covered', 'the', 'trees', 'in', 'that', 'background', 'the', 'white', 'winged', 'moth', 'survived', 'but', 'the', 'dark', 'coloured', 'moth', 'were', 'picked', 'out', 'by', 'predators', 'do', 'you', 'know', 'that', 'lichens', 'can', 'be', 'used', 'as', 'industrial', 'pollution', 'indicators?', 'they', 'will', 'not', 'grow', 'in', 'areas', 'that', 'are', 'polluted', 'hence', 'moths', 'that', 'were', 'able', 'to', 'camouflage', 'themselves', 'i', 'e', 'hide', 'in', 'the', 'background', 'survived', 'figure', '7', '4', 'this', 'understanding', 'is', 'supported', 'by', 'the', 'fact', 'that', 'in', 'areas', 'where', 'industrialisation', 'did', 'not', 'occur', 'e', 'g', 'in', 'rural', 'areas', 'the', 'count', 'of', 'melanic', 'moths', 'was', 'low', 'this', 'showed', 'that', 'in', 'a', 'mixed', 'population', 'those', 'that', 'can', 'better', 'adapt', 'survive', 'and', 'increase', 'in', 'population', 'size', 'remember', 'that', 'no', 'variant', 'is', 'completely', 'wiped', 'out', 'similarly', 'excess', 'use', 'of', 'herbicides', 'pesticides', 'etc', 'has', 'only', 'resulted', 'in', 'selection', 'of', 'resistant', 'varieties', 'in', 'a', 'much', 'lesser', 'time', 'scale', 'this', 'is', 'also', 'true', 'for', 'microbes', 'against', 'which', 'we', 'employ', 'antibiotics', 'or', 'drugs', 'against', 'eukaryotic', 'organisms/cell', 'hence', 'resistant', 'organisms/cells', 'are', 'appearing', 'in', 'a', 'time', 'scale', 'of', 'months', 'or', 'years', 'and', 'not', 'centuries', 'these', 'are', 'examples', 'of', 'evolution', 'by', 'anthropogenic', 'action', 'this', 'also', 'tells', 'us', 'that', 'evolution', 'is', 'not', 'a', 'direct', 'process', 'in', 'the', 'sense', 'of', 'determinism', 'it', 'is', 'a', 'stochastic', 'process', 'based', 'on', 'chance', 'events', 'in', 'nature', 'and', 'chance', 'mutation', 'in', 'the', 'organisms', '7', '4', 'what', '132', 'is', 'adaptive', 'radiation?', 'during', 'his', 'journey', 'darwin', 'went', 'to', 'galapagos', 'islands', 'there', 'he', 'observed', 'an', 'amazing', 'diversity', 'of', 'creatures', 'of', 'particular', 'interest', 'small', 'black', 'birds', 'later', 'called', 'darwin’s', 'finches', 'amazed', 'him', 'he', 'realised', 'that', 'there', 'were', 'many', 'varieties', 'of', 'finches', 'in', 'the', 'same', 'island', 'all', 'the', 'varieties', 'he', 'conjectured', 'evolved', 'on', 'the', 'island', 'itself', 'from', 'the', 'original', 'seed', 'eating', 'features', 'many', 'other', 'forms', 'with', 'altered', 'beaks', 'arose', 'enabling', 'them', 'to', 'become', 'insectivorous', '\\x0cevolution', 'figure', '7', '5', 'variety', 'of', 'beaks', 'of', 'finches', 'that', 'darwin', 'found', 'in', 'galapagos', 'island', 'and', 'vegetarian', 'finches', 'figure', '7', '5', 'this', 'process', 'of', 'evolution', 'of', 'different', 'species', 'in', 'a', 'given', 'geographical', 'area', 'starting', 'from', 'a', 'point', 'and', 'literally', 'radiating', 'to', 'other', 'areas', 'of', 'geography', 'habitats', 'is', 'called', 'adaptive', 'radiation', 'darwin’s', 'finches', 'represent', 'one', 'of', 'the', 'best', 'examples', 'of', 'this', 'phenomenon', 'another', 'example', 'is', 'australian', 'marsupials', 'a', 'number', 'of', 'marsupials', 'each', 'different', 'from', 'the', 'other', 'figure', '7', '6', 'evolved', 'from', 'an', 'ancestral', 'stock', 'but', 'all', 'within', 'the', 'australian', 'island', 'continent', 'when', 'more', 'than', 'one', 'adaptive', 'radiation', 'appeared', 'to', 'have', 'occurred', 'in', 'an', 'isolated', 'geographical', 'area', 'representing', 'different', 'habitats', 'one', 'can', 'call', 'this', 'convergent', 'evolution', '133', 'figure', '7', '6', 'adaptive', 'radiation', 'of', 'marsupials', 'of', 'australia', '\\x0cbiology', 'placental', 'mammals', 'in', 'australia', 'also', 'exhibit', 'adaptive', 'radiation', 'in', 'evolving', 'into', 'varieties', 'of', 'such', 'placental', 'mammals', 'each', 'of', 'which', 'appears', 'to', 'be', '‘similar’', 'to', 'a', 'corresponding', 'marsupial', 'e', 'g', 'placental', 'wolf', 'and', 'tasmanian', 'wolfmarsupial', 'figure', '7', '7', '7', '5', 'biological', 'evolution', 'figure', '7', '7', '134', 'evolution', 'by', 'natural', 'selection', 'in', 'a', 'true', 'sense', 'would', 'have', 'started', 'when', 'cellular', 'forms', 'of', 'life', 'with', 'differences', 'in', 'metabolic', 'capability', 'originated', 'on', 'earth', 'the', 'essence', 'of', 'darwinian', 'theory', 'about', 'evolution', 'is', 'natural', 'selection', 'the', 'rate', 'of', 'appearance', 'of', 'new', 'forms', 'is', 'linked', 'to', 'the', 'life', 'cycle', 'or', 'the', 'life', 'span', 'microbes', 'that', 'divide', 'fast', 'have', 'the', 'ability', 'to', 'multiply', 'and', 'become', 'millions', 'of', 'individuals', 'within', 'hours', 'a', 'colony', 'of', 'bacteria', 'say', 'a', 'growing', 'on', 'a', 'given', 'medium', 'has', 'builtin', 'variation', 'in', 'terms', 'of', 'ability', 'to', 'utilise', 'a', 'feed', 'component', 'a', 'change', 'in', 'the', 'medium', 'composition', 'would', 'bring', 'out', 'only', 'that', 'part', 'of', 'the', 'population', 'say', 'b', 'that', 'can', 'survive', 'under', 'the', 'new', 'conditions', 'in', 'due', 'course', 'of', 'time', 'this', 'variant', 'population', 'outgrows', 'the', 'others', 'and', 'appears', 'as', 'new', 'species', 'this', 'would', 'happen', 'within', 'days', 'for', 'the', 'same', 'thing', 'to', 'happen', 'in', 'a', 'fish', 'or', 'fowl', 'would', 'take', 'million', 'of', 'years', 'as', 'life', 'spans', 'of', 'these', 'animals', 'are', 'in', 'years', 'here', 'we', 'say', 'that', 'fitness', 'of', 'b', 'is', 'better', 'than', 'that', 'of', 'a', 'under', 'the', 'new', 'conditions', 'nature', 'selects', 'for', 'fitness', 'picture', 'showing', 'convergent', 'evolution', 'one', 'must', 'remember', 'that', 'the', 'so', 'called', 'fitness', 'of', 'australian', 'marsupials', 'and', 'is', 'based', 'on', 'characteristics', 'which', 'are', 'inherited', 'placental', 'mammals', 'hence', 'there', 'must', 'be', 'a', 'genetic', 'basis', 'for', 'getting', 'selected', 'and', 'to', 'evolve', 'another', 'way', 'of', 'saying', 'the', 'same', 'thing', 'is', 'that', 'some', 'organisms', 'are', 'better', 'adapted', 'to', 'survive', 'in', 'an', 'otherwise', 'hostile', 'environment', 'adaptive', 'ability', 'is', 'inherited', 'it', 'has', 'a', 'genetic', 'basis', 'fitness', 'is', 'the', 'end', 'result', 'of', 'the', 'ability', 'to', 'adapt', 'and', 'get', 'selected', 'by', 'nature', 'branching', 'descent', 'and', 'natural', 'selection', 'are', 'the', 'two', 'key', 'concepts', 'of', 'darwinian', 'theory', 'of', 'evolution', 'figures', '7', '7', 'and', '7', '8', 'even', 'before', 'darwin', 'a', 'french', 'naturalist', 'lamarck', 'had', 'said', 'that', 'evolution', 'of', 'life', 'forms', 'had', 'occurred', 'but', 'driven', 'by', 'use', 'and', 'disuse', 'of', 'organs', 'he', 'gave', 'the', 'examples', 'of', 'giraffes', 'who', 'in', 'an', 'attempt', 'to', 'forage', '\\x0cevolution', 'leaves', 'on', 'tall', 'trees', 'had', 'to', 'adapt', 'by', 'elongation', 'of', 'their', 'necks', 'as', 'they', 'passed', 'on', 'this', 'acquired', 'character', 'of', 'elongated', 'neck', 'to', 'succeeding', 'generations', 'giraffes', 'slowly', 'over', 'the', 'years', 'came', 'to', 'acquire', 'long', 'necks', 'nobody', 'believes', 'this', 'conjecture', 'any', 'more', 'is', 'evolution', 'a', 'process', 'or', 'the', 'result', 'of', 'a', 'process?', 'the', 'world', 'we', 'see', 'inanimate', 'and', 'animate', 'is', 'only', 'the', 'success', 'stories', 'of', 'evolution', 'when', 'we', 'describe', 'the', 'story', 'of', 'this', 'world', 'we', 'describe', 'evolution', 'as', 'a', 'process', 'on', 'the', 'other', 'hand', 'when', 'we', 'describe', 'the', 'story', 'of', 'life', 'on', 'earth', 'we', 'treat', 'evolution', 'as', 'a', 'consequence', 'of', 'a', 'process', 'called', 'natural', 'selection', 'we', 'are', 'still', 'not', 'very', 'clear', 'whether', 'to', 'regard', 'evolution', 'and', 'natural', 'selection', 'as', 'processes', 'or', 'end', 'result', 'of', 'unknown', 'processes', 'it', 'is', 'possible', 'that', 'the', 'work', 'of', 'thomas', 'malthus', 'on', 'populations', 'influenced', 'darwin', 'natural', 'selection', 'is', 'based', 'on', 'certain', 'observations', 'which', 'are', 'factual', 'for', 'example', 'natural', 'resources', 'are', 'limited', 'populations', 'are', 'stable', 'in', 'size', 'except', 'for', 'seasonal', 'fluctuation', 'members', 'of', 'a', 'population', 'vary', 'in', 'characteristics', 'infact', 'no', 'two', 'individuals', 'are', 'alike', 'even', 'though', 'they', 'look', 'superficially', 'similar', 'most', 'of', 'variations', 'are', 'inherited', 'etc', 'the', 'fact', 'that', 'theoretically', 'population', 'size', 'will', 'grow', 'exponentially', 'if', 'everybody', 'reproduced', 'maximally', 'this', 'fact', 'can', 'be', 'seen', 'in', 'a', 'growing', 'bacterial', 'population', 'and', 'the', 'fact', 'that', 'population', 'sizes', 'in', 'reality', 'are', 'limited', 'means', 'that', 'there', 'had', 'been', 'competition', 'for', 'resources', 'only', 'some', 'survived', 'and', 'grew', 'at', 'the', 'cost', 'of', 'others', 'that', 'could', 'not', 'flourish', 'the', 'novelty', 'and', 'brilliant', 'insight', 'of', 'darwin', 'was', 'this:', 'he', 'asserted', 'that', 'variations', 'which', 'are', 'heritable', 'and', 'which', 'make', 'resource', 'utilisation', 'better', 'for', 'few', 'adapted', 'to', 'habitat', 'better', 'will', 'enable', 'only', 'those', 'to', 'reproduce', 'and', 'leave', 'more', 'progeny', 'hence', 'for', 'a', 'period', 'of', 'time', 'over', 'many', 'generations', 'survivors', 'will', 'leave', 'more', 'progeny', 'and', 'there', 'would', 'be', 'a', 'change', 'in', 'population', 'characteristic', 'and', 'hence', 'new', 'forms', 'appear', 'to', 'arise', '7', '6', 'mechanism', 'of', 'evolution', 'what', 'is', 'the', 'origin', 'of', 'this', 'variation', 'and', 'how', 'does', 'speciation', 'occur?', 'even', 'though', 'mendel', 'had', 'talked', 'of', 'inheritable', \"'factors'\", 'influencing', 'phenotype', 'darwin', 'either', 'ignored', 'these', 'observations', 'or', 'kept', 'silence', 'in', 'the', 'first', 'decade', 'of', 'twentieeth', 'century', 'hugo', 'devries', 'based', 'on', 'his', 'work', 'on', 'evening', 'primrose', 'brought', 'forth', 'the', 'idea', 'of', 'mutations', '–', 'large', 'difference', 'arising', 'suddenly', 'in', 'a', 'population', 'he', 'believed', 'that', 'it', 'is', 'mutation', 'which', 'causes', 'evolution', 'and', 'not', 'the', 'minor', 'variations', 'heritable', 'that', 'darwin', 'talked', 'about', 'mutations', 'are', 'random', 'and', 'directionless', 'while', 'darwinian', 'variations', 'are', 'small', 'and', 'directional', 'evolution', 'for', 'darwin', 'was', 'gradual', 'while', 'devries', 'believed', 'mutation', 'caused', 'speciation', 'and', 'hence', 'called', 'it', 'saltation', 'single', 'step', 'large', 'mutation', 'studies', 'in', 'population', 'genetics', 'later', 'brought', 'out', 'some', 'clarity', '135', '\\x0cbiology', '7', '7', 'hardy', 'weinberg', 'principle', 'in', 'a', 'given', 'population', 'one', 'can', 'find', 'out', 'the', 'frequency', 'of', 'occurrence', 'of', 'alleles', 'of', 'a', 'gene', 'or', 'a', 'locus', 'this', 'frequency', 'is', 'supposed', 'to', 'remain', 'fixed', 'and', 'even', 'remain', 'the', 'same', 'through', 'generations', 'hardy', 'weinberg', 'principle', 'stated', 'it', 'using', 'algebraic', 'equations', 'this', 'principle', 'says', 'that', 'allele', 'frequencies', 'in', 'a', 'population', 'are', 'stable', 'and', 'is', 'constant', 'from', 'generation', 'to', 'generation', 'the', 'gene', 'pool', 'total', 'genes', 'and', 'their', 'alleles', 'in', 'a', 'population', 'remains', 'a', 'constant', 'this', 'is', 'called', 'genetic', 'equilibrium', 'sum', 'total', 'of', 'all', 'the', 'allelic', 'frequencies', 'is', '1', 'individual', 'a', 'b', '136', 'c', 'figure', '7', '8', 'diagrammatic', 'representation', 'of', 'the', 'operation', 'of', 'natural', 'selection', 'on', 'different', 'traits', ':', 'a', 'stabilising', 'b', 'directional', 'and', 'c', 'disruptive', '\\x0cevolution', 'frequencies', 'for', 'example', 'can', 'be', 'named', 'p', 'q', 'etc', 'in', 'a', 'diploid', 'p', 'and', 'q', 'represent', 'the', 'frequency', 'of', 'allele', 'a', 'and', 'allele', 'a', 'the', 'frequency', 'of', 'aa', 'individuals', 'in', 'a', 'population', 'is', 'simply', 'p2', 'this', 'is', 'simply', 'stated', 'in', 'another', 'ways', 'i', 'e', 'the', 'probability', 'that', 'an', 'allele', 'a', 'with', 'a', 'frequency', 'of', 'p', 'appear', 'on', 'both', 'the', 'chromosomes', 'of', 'a', 'diploid', 'individual', 'is', 'simply', 'the', 'product', 'of', 'the', 'probabilities', 'i', 'e', 'p2', 'similarly', 'of', 'aa', 'is', 'q2', 'of', 'aa', '2pq', 'hence', 'p2+2pq+q2=1', 'this', 'is', 'a', 'binomial', 'expansion', 'of', 'p+q', '2', 'when', 'frequency', 'measured', 'differs', 'from', 'expected', 'values', 'the', 'difference', 'direction', 'indicates', 'the', 'extent', 'of', 'evolutionary', 'change', 'disturbance', 'in', 'genetic', 'equilibrium', 'or', 'hardy', 'weinberg', 'equilibrium', 'i', 'e', 'change', 'of', 'frequency', 'of', 'alleles', 'in', 'a', 'population', 'would', 'then', 'be', 'interpreted', 'as', 'resulting', 'in', 'evolution', 'five', 'factors', 'are', 'known', 'to', 'affect', 'hardy', 'weinberg', 'equilibrium', 'these', 'are', 'gene', 'migration', 'or', 'gene', 'flow', 'genetic', 'drift', 'mutation', 'genetic', 'recombination', 'and', 'natural', 'selection', 'when', 'migration', 'of', 'a', 'section', 'of', 'population', 'to', 'another', 'place', 'and', 'population', 'occurs', 'gene', 'frequencies', 'change', 'in', 'the', 'original', 'as', 'well', 'as', 'in', 'the', 'new', 'population', 'new', 'genes/alleles', 'are', 'added', 'to', 'the', 'new', 'population', 'and', 'these', 'are', 'lost', 'from', 'the', 'old', 'population', 'there', 'would', 'be', 'a', 'gene', 'flow', 'if', 'this', 'gene', 'migration', 'happens', 'multiple', 'times', 'if', 'the', 'same', 'change', 'occurs', 'by', 'chance', 'it', 'is', 'called', 'genetic', 'drift', 'sometimes', 'the', 'change', 'in', 'allele', 'frequency', 'is', 'so', 'different', 'in', 'the', 'new', 'sample', 'of', 'population', 'that', 'they', 'become', 'a', 'different', 'species', 'the', 'original', 'drifted', 'population', 'becomes', 'founders', 'and', 'the', 'effect', 'is', 'called', 'founder', 'effect', 'microbial', 'experiments', 'show', 'that', 'pre', 'existing', 'advantageous', 'mutations', 'when', 'selected', 'will', 'result', 'in', 'observation', 'of', 'new', 'phenotypes', 'over', 'few', 'generations', 'this', 'would', 'result', 'in', 'speciation', 'natural', 'selection', 'is', 'a', 'process', 'in', 'which', 'heritable', 'variations', 'enabling', 'better', 'survival', 'are', 'enabled', 'to', 'reproduce', 'and', 'leave', 'greater', 'number', 'of', 'progeny', 'a', 'critical', 'analysis', 'makes', 'us', 'believe', 'that', 'variation', 'due', 'to', 'mutation', 'or', 'variation', 'due', 'to', 'recombination', 'during', 'gametogenesis', 'or', 'due', 'to', 'gene', 'flow', 'or', 'genetic', 'drift', 'results', 'in', 'changed', 'frequency', 'of', 'genes', 'and', 'alleles', 'in', 'future', 'generation', 'coupled', 'to', 'enhance', 'reproductive', 'success', 'natural', 'selection', 'makes', 'it', 'look', 'like', 'different', 'population', 'natural', 'selection', 'can', 'lead', 'to', 'stabilisation', 'in', 'which', 'more', 'individuals', 'acquire', 'mean', 'character', 'value', 'directional', 'change', 'more', 'individuals', 'acquire', 'value', 'other', 'than', 'the', 'mean', 'character', 'value', 'or', 'disruption', 'more', 'individuals', 'acquire', 'peripheral', 'character', 'value', 'at', 'both', 'ends', 'of', 'the', 'distribution', 'curve', 'figure', '7', '8', '137', '7', '8', 'a', 'brief', 'account', 'of', 'evolution', 'about', '2000', 'million', 'years', 'ago', 'mya', 'the', 'first', 'cellular', 'forms', 'of', 'life', 'appeared', 'on', 'earth', 'the', 'mechanism', 'of', 'how', 'non', 'cellular', 'aggregates', 'of', 'giant', 'macromolecules', 'could', 'evolve', 'into', 'cells', 'with', 'membranous', 'envelop', 'is', 'not', 'known', 'some', 'of', 'these', 'cells', 'had', 'the', 'ability', 'to', 'release', 'o2', 'the', 'reaction', '\\x0cbiology', 'figure', '7', '9', 'a', 'sketch', 'of', 'the', 'evolution', 'of', 'plant', 'forms', 'through', 'geological', 'periods', '138', 'could', 'have', 'been', 'similar', 'to', 'the', 'light', 'reaction', 'in', 'photosynthesis', 'where', 'water', 'is', 'split', 'with', 'the', 'help', 'of', 'solar', 'energy', 'captured', 'and', 'channelised', 'by', 'appropriate', 'light', 'harvesting', 'pigments', 'slowly', 'single', 'celled', 'organisms', 'became', 'multi', 'cellular', 'life', 'forms', 'by', 'the', 'time', 'of', '500', 'mya', 'invertebrates', 'were', 'formed', 'and', 'active', 'jawless', 'fish', 'probably', 'evolved', 'around', '350', 'mya', 'sea', 'weeds', 'and', 'few', 'plants', 'existed', 'probably', 'around', '320', 'mya', 'we', 'are', 'told', 'that', 'the', 'first', 'organisms', 'that', 'invaded', 'land', 'were', 'plants', 'they', 'were', 'widespread', 'on', 'land', 'when', 'animals', 'invaded', 'land', 'fish', 'with', 'stout', 'and', 'strong', 'fins', 'could', 'move', 'on', 'land', 'and', 'go', 'back', 'to', 'water', 'this', 'was', 'about', '350', 'mya', 'in', '1938', 'a', 'fish', 'caught', 'in', 'south', 'africa', 'happened', 'to', 'be', 'a', 'coelacanth', 'which', 'was', 'thought', 'to', 'be', 'extinct', 'these', 'animals', 'called', 'lobefins', 'evolved', 'into', 'the', '\\x0cevolution', 'figure', '7', '10', 'representative', 'evolutionary', 'history', 'of', 'vertebrates', 'through', 'geological', 'period', 'first', 'amphibians', 'that', 'lived', 'on', 'both', 'land', 'and', 'water', 'there', 'are', 'no', 'specimens', 'of', 'these', 'left', 'with', 'us', 'however', 'these', 'were', 'ancestors', 'of', 'modern', 'day', 'frogs', 'and', 'salamanders', 'the', 'amphibians', 'evolved', 'into', 'reptiles', 'they', 'lay', 'thickshelled', 'eggs', 'which', 'do', 'not', 'dry', 'up', 'in', 'sun', 'unlike', 'those', 'of', 'amphibians', 'again', 'we', 'only', 'see', 'their', 'modern', 'day', 'descendents', 'the', 'turtles', 'tortoises', 'and', 'crocodiles', 'in', 'the', 'next', '200', 'millions', 'years', 'or', 'so', 'reptiles', 'of', 'different', '139', '\\x0cbiology', 'shapes', 'and', 'sizes', 'dominated', 'on', 'earth', 'giant', 'ferns', 'pteridophytes', 'were', 'present', 'but', 'they', 'all', 'fell', 'to', 'form', 'coal', 'deposits', 'slowly', 'some', 'of', 'these', 'land', 'reptiles', 'went', 'back', 'into', 'water', 'to', 'evolve', 'into', 'fish', 'like', 'reptiles', 'probably', '200', 'mya', 'e', 'g', 'ichthyosaurs', 'the', 'land', 'reptiles', 'were', 'of', 'course', 'the', 'dinosaurs', 'the', 'biggest', 'of', 'them', 'i', 'e', 'tyrannosaurus', 'rex', 'was', 'about', '20', 'feet', 'in', 'height', 'and', 'had', 'huge', 'fearsome', 'dagger', 'like', 'teeth', 'about', '65', 'mya', 'the', 'dinosaurs', 'suddenly', 'disappeared', 'from', 'the', 'earth', 'we', 'do', 'not', 'know', 'the', 'true', 'reason', 'some', 'say', 'climatic', 'changes', 'killed', 'them', 'some', 'say', 'most', 'of', 'them', 'evolved', 'into', 'birds', 'the', 'truth', 'may', 'live', 'in', 'between', 'small', 'sized', 'reptiles', 'of', 'that', 'era', 'still', 'exist', 'today', 'the', 'first', 'mammals', 'were', 'like', 'shrews', 'their', 'fossils', 'are', 'small', 'sized', 'mammals', 'were', 'viviparous', 'and', 'protected', 'their', 'unborn', 'young', 'inside', 'the', 'mother’s', 'body', 'mammals', 'were', 'more', 'intelligent', 'in', 'sensing', 'and', 'avoiding', 'danger', 'at', 'least', 'when', 'reptiles', 'came', 'down', 'mammals', 'took', 'over', 'this', 'earth', 'there', 'were', 'in', 'south', 'america', 'mammals', 'resembling', 'horse', 'hippopotamus', 'bear', 'rabbit', 'etc', 'due', 'to', 'continental', 'drift', 'when', 'south', 'america', 'joined', 'north', 'america', 'these', 'animals', 'were', 'overridden', 'by', 'north', 'american', 'fauna', 'due', 'to', 'the', 'same', 'continental', 'drift', 'pouched', 'mammals', 'of', 'australia', 'survived', 'because', 'of', 'lack', 'of', 'competition', 'from', 'any', 'other', 'mammal', 'lest', 'we', 'forget', 'some', 'mammals', 'live', 'wholly', 'in', 'water', 'whales', 'dolphins', 'seals', 'and', 'sea', 'cows', 'are', 'some', 'examples', 'evolution', 'of', 'horse', 'elephant', 'dog', 'etc', 'are', 'special', 'stories', 'of', 'evolution', 'you', 'will', 'learn', 'about', 'these', 'in', 'higher', 'classes', 'the', 'most', 'successful', 'story', 'is', 'the', 'evolution', 'of', 'man', 'with', 'language', 'skills', 'and', 'self', 'consciousness', 'a', 'rough', 'sketch', 'of', 'the', 'evolution', 'of', 'life', 'forms', 'their', 'times', 'on', 'a', 'geological', 'scale', 'are', 'indicated', 'in', 'figure', '7', '9', 'and', '7', '10', '7', '9', 'origin', '140', 'and', 'evolution', 'of', 'man', 'about', '15', 'mya', 'primates', 'called', 'dryopithecus', 'and', 'ramapithecus', 'were', 'existing', 'they', 'were', 'hairy', 'and', 'walked', 'like', 'gorillas', 'and', 'chimpanzees', 'ramapithecus', 'was', 'more', 'man', 'like', 'while', 'dryopithecus', 'was', 'more', 'ape', 'like', 'few', 'fossils', 'of', 'man', 'like', 'bones', 'have', 'been', 'discovered', 'in', 'ethiopia', 'and', 'tanzania', 'figure', '7', '11', 'these', 'revealed', 'hominid', 'features', 'leading', 'to', 'the', 'belief', 'that', 'about', '3', '4', 'mya', 'man', 'like', 'primates', 'walked', 'in', 'eastern', 'africa', 'they', 'were', 'probably', 'not', 'taller', 'than', '4', 'feet', 'but', 'walked', 'up', 'right', 'two', 'mya', 'australopithecines', 'probably', 'lived', 'in', 'east', 'african', 'grasslands', 'evidence', 'shows', 'they', 'hunted', 'with', 'stone', 'weapons', 'but', 'essentially', 'ate', 'fruit', 'some', 'of', 'the', 'bones', 'among', 'the', 'bones', 'discovered', 'were', 'different', 'this', 'creature', 'was', 'called', 'the', 'first', 'human', 'like', 'being', 'the', 'hominid', 'and', 'was', 'called', 'homo', 'habilis', 'the', 'brain', 'capacities', 'were', 'between', '650', '800cc', 'they', 'probably', 'did', 'not', 'eat', 'meat', 'fossils', 'discovered', 'in', 'java', 'in', '1891', 'revealed', 'the', 'next', 'stage', 'i', 'e', 'homo', '\\x0cevolution', 'figure', '7', '11', 'a', 'comparison', 'of', 'the', 'skulls', 'of', 'adult', 'modern', 'human', 'being', 'baby', 'chimpanzee', 'and', 'adult', 'chimpanzee', 'the', 'skull', 'of', 'baby', 'chimpanzee', 'is', 'more', 'like', 'adult', 'human', 'skull', 'than', 'adult', 'chimpanzee', 'skull', 'erectus', 'about', '1', '5', 'mya', 'homo', 'erectus', 'had', 'a', 'large', 'brain', 'around', '900cc', 'homo', 'erectus', 'probably', 'ate', 'meat', 'the', 'neanderthal', 'man', 'with', 'a', 'brain', 'size', 'of', '1400cc', 'lived', 'in', 'near', 'east', 'and', 'central', 'asia', 'between', '1', '00', '000', '40', '000', 'years', 'back', 'they', 'used', 'hides', 'to', 'protect', 'their', 'body', 'and', 'buried', 'their', 'dead', 'homo', 'sapiens', 'arose', 'in', 'africa', 'and', 'moved', 'across', 'continents', 'and', 'developed', 'into', 'distinct', 'races', 'during', 'ice', 'age', 'between', '75', '000', '10', '000', 'years', 'ago', 'modern', 'homo', 'sapiens', 'arose', 'pre', 'historic', 'cave', 'art', 'developed', 'about', '18', '000', 'years', 'ago', 'agriculture', 'came', 'around', '10', '000', 'years', 'back', 'and', 'human', 'settlements', 'started', 'the', 'rest', 'of', 'what', 'happened', 'is', 'part', 'of', 'human', 'history', 'of', 'growth', 'and', 'decline', 'of', 'civilisations', '141', '\\x0cbiology', 'summary', 'the', 'origin', 'of', 'life', 'on', 'earth', 'can', 'be', 'understood', 'only', 'against', 'the', 'background', 'of', 'origin', 'of', 'universe', 'especially', 'earth', 'most', 'scientists', 'believe', 'chemical', 'evolution', 'i', 'e', 'formation', 'of', 'biomolecules', 'preceded', 'the', 'appearance', 'of', 'the', 'first', 'cellular', 'forms', 'of', 'life', 'the', 'subsequent', 'events', 'as', 'to', 'what', 'happened', 'to', 'the', 'first', 'form', 'of', 'life', 'is', 'a', 'conjectured', 'story', 'based', 'on', 'darwinian', 'ideas', 'of', 'organic', 'evolution', 'by', 'natural', 'selection', 'diversity', 'of', 'life', 'forms', 'on', 'earth', 'has', 'been', 'changing', 'over', 'millions', 'of', 'years', 'it', 'is', 'generally', 'believed', 'that', 'variations', 'in', 'a', 'population', 'result', 'in', 'variable', 'fitness', 'other', 'phenomena', 'like', 'habitat', 'fragmentation', 'and', 'genetic', 'drift', 'may', 'accentuate', 'these', 'variations', 'leading', 'to', 'appearance', 'of', 'new', 'species', 'and', 'hence', 'evolution', 'homology', 'is', 'accounted', 'for', 'by', 'the', 'idea', 'of', 'branching', 'descent', 'study', 'of', 'comparative', 'anatomy', 'fossils', 'and', 'comparative', 'biochemistry', 'provides', 'evidence', 'for', 'evolution', 'among', 'the', 'stories', 'of', 'evolution', 'of', 'individual', 'species', 'the', 'story', 'of', 'evolution', 'of', 'modern', 'man', 'is', 'most', 'interesting', 'and', 'appears', 'to', 'parallel', 'evolution', 'of', 'human', 'brain', 'and', 'language', 'exercises', '142', '1', 'explain', 'antibiotic', 'resistance', 'observed', 'in', 'bacteria', 'in', 'light', 'of', 'darwinian', 'selection', 'theory', '2', 'find', 'out', 'from', 'newspapers', 'and', 'popular', 'science', 'articles', 'any', 'new', 'fossil', 'discoveries', 'or', 'controversies', 'about', 'evolution', '3', 'attempt', 'giving', 'a', 'clear', 'definition', 'of', 'the', 'term', 'species', '4', 'try', 'to', 'trace', 'the', 'various', 'components', 'of', 'human', 'evolution', 'hint:', 'brain', 'size', 'and', 'function', 'skeletal', 'structure', 'dietary', 'preference', 'etc', '5', 'find', 'out', 'through', 'internet', 'and', 'popular', 'science', 'articles', 'whether', 'animals', 'other', 'than', 'man', 'has', 'self', 'consciousness', '6', 'list', '10', 'modern', 'day', 'animals', 'and', 'using', 'the', 'internet', 'resources', 'link', 'it', 'to', 'a', 'corresponding', 'ancient', 'fossil', 'name', 'both', '7', 'practise', 'drawing', 'various', 'animals', 'and', 'plants', '8', 'describe', 'one', 'example', 'of', 'adaptive', 'radiation', '9', 'can', 'we', 'call', 'human', 'evolution', 'as', 'adaptive', 'radiation?', '10', 'using', 'various', 'resources', 'such', 'as', 'your', 'school', 'library', 'or', 'the', 'internet', 'and', 'discussions', 'with', 'your', 'teacher', 'trace', 'the', 'evolutionary', 'stages', 'of', 'any', 'one', 'animal', 'say', 'horse', '\\x0c']\n"
     ]
    }
   ],
   "source": [
    "print(text_lst)"
   ]
  },
  {
   "cell_type": "code",
   "execution_count": 300,
   "metadata": {
    "colab": {},
    "colab_type": "code",
    "id": "qSrGfsPq2cYB"
   },
   "outputs": [],
   "source": []
  },
  {
   "cell_type": "code",
   "execution_count": 301,
   "metadata": {
    "colab": {},
    "colab_type": "code",
    "id": "V11c729WPyqr"
   },
   "outputs": [],
   "source": [
    "def left_window(index,window_size):\n",
    "  if(index-window_size>0):\n",
    "    return index-window_size\n",
    "  else:\n",
    "    return 0"
   ]
  },
  {
   "cell_type": "code",
   "execution_count": 302,
   "metadata": {
    "colab": {},
    "colab_type": "code",
    "id": "NZX9TLNDP2Y3"
   },
   "outputs": [],
   "source": [
    "def right_window(index,window_size,array_length):\n",
    "  if(index+window_size < array_length):\n",
    "    return index+window_size\n",
    "  else:\n",
    "    return array_length  "
   ]
  },
  {
   "cell_type": "code",
   "execution_count": 303,
   "metadata": {
    "colab": {},
    "colab_type": "code",
    "id": "x4KhN91O2tHe"
   },
   "outputs": [],
   "source": [
    "# takes input of array of keywords , the passage in list form , size of your window\n",
    "# gives output of  an array,every element is windowed text with appropriate masking and the keyword\n",
    "\n",
    "def get_windowed_keywords(keyword_array,text_list,window_size):\n",
    "  array_of_windows=[]\n",
    "  sim=0\n",
    "  for i in range(len(text_list)):\n",
    "    tempo=[]\n",
    "    holder=[]\n",
    "    if(text_list[i] in keyword_array):\n",
    "      # print(\"hi\")\n",
    "      #text_list[i] corresponds to the particular keyword\n",
    "      #loop over window to mask all occurences of keyword and remove empty chars\n",
    "      for j in range(left_window(i,window_size),right_window(i,window_size,len(text_list))):\n",
    "        if(text_list[j].isnumeric() or text_list[j]==''):\n",
    "          sim=1\n",
    "        else:\n",
    "          if((text_list[j].find(text_list[i])>-1)):\n",
    "            holder.append(\"[MASK]\")\n",
    "          else:\n",
    "            holder.append(text_list[j])\n",
    "      tempo.append(holder)\n",
    "      tempo.append([text_list[i]])\n",
    "      array_of_windows.append(tempo)\n",
    "  return array_of_windows\n",
    "\n",
    "\n"
   ]
  },
  {
   "cell_type": "code",
   "execution_count": 304,
   "metadata": {
    "colab": {},
    "colab_type": "code",
    "id": "93zrp_H-2tK6"
   },
   "outputs": [],
   "source": [
    "hopes=get_windowed_keywords(keyword_array,text_lst,8)"
   ]
  },
  {
   "cell_type": "code",
   "execution_count": 305,
   "metadata": {
    "colab": {
     "base_uri": "https://localhost:8080/",
     "height": 54
    },
    "colab_type": "code",
    "id": "5_LVdvwO2tO1",
    "outputId": "2fc9d1be-434a-4999-d119-1ce32ced3fc2"
   },
   "outputs": [
    {
     "name": "stdout",
     "output_type": "stream",
     "text": [
      "[[['[MASK]', 'chapter', 'evolution', 'origin', 'of'], ['biology']], [['biology', 'chapter', '[MASK]', 'origin', 'of', 'life'], ['evolution']], [['biology', 'chapter', 'evolution', '[MASK]', 'of', 'life', 'evolution', 'of', 'life'], ['origin']], [['biology', 'chapter', 'evolution', 'origin', 'of', '[MASK]', 'evolution', 'of', '[MASK]', 'forms', 'a'], ['life']], [['[MASK]', 'origin', 'of', 'life', '[MASK]', 'of', 'life', 'forms', 'a', 'theory'], ['evolution']], [['origin', 'of', '[MASK]', 'evolution', 'of', '[MASK]', 'forms', 'a', 'theory', 'what', 'are'], ['life']], [['origin', 'of', 'life', 'evolution', 'of', 'life', '[MASK]', 'a', 'theory', 'what', 'are', 'the'], ['forms']], [['life', 'evolution', 'of', 'life', 'forms', 'a', '[MASK]', 'what', 'are', 'the', 'evidences', 'for'], ['theory']], [['[MASK]', 'what', 'is', 'adaptive', 'radiation?', 'biological', '[MASK]'], ['evolution']], [['mechanism', 'of', '[MASK]', 'hardy', 'weinberg', 'principle', 'a', 'brief', 'account', 'of'], ['evolution']], [['[MASK]', 'hardy', 'weinberg', 'principle', 'a', 'brief', 'account', 'of', '[MASK]', 'origin', 'and', '[MASK]', 'of', 'man', '[MASK]', 'biology'], ['evolution']], [['hardy', 'weinberg', 'principle', 'a', 'brief', 'account', 'of', 'evolution', '[MASK]', 'and', 'evolution', 'of', 'man', 'evolutionary', 'biology', 'is'], ['origin']], [['principle', 'a', 'brief', 'account', 'of', '[MASK]', 'origin', 'and', '[MASK]', 'of', 'man', '[MASK]', 'biology', 'is', 'the', 'study'], ['evolution']], [['brief', 'account', 'of', 'evolution', 'origin', 'and', 'evolution', 'of', '[MASK]', 'evolutionary', 'biology', 'is', 'the', 'study', 'of', 'history'], ['man']], [['of', 'evolution', 'origin', 'and', 'evolution', 'of', 'man', 'evolutionary', '[MASK]', 'is', 'the', 'study', 'of', 'history', 'of', 'life'], ['biology']], [['of', 'man', 'evolutionary', 'biology', 'is', 'the', 'study', 'of', '[MASK]', 'of', 'life', 'forms', 'on', 'earth', 'what', 'exactly'], ['history']], [['evolutionary', 'biology', 'is', 'the', 'study', 'of', 'history', 'of', '[MASK]', 'forms', 'on', 'earth', 'what', 'exactly', 'is', 'evolution?'], ['life']], [['biology', 'is', 'the', 'study', 'of', 'history', 'of', 'life', '[MASK]', 'on', 'earth', 'what', 'exactly', 'is', 'evolution?', 'to'], ['forms']], [['the', 'study', 'of', 'history', 'of', 'life', 'forms', 'on', '[MASK]', 'what', 'exactly', 'is', 'evolution?', 'to', 'understand', 'the'], ['earth']], [['that', 'have', 'occurred', 'over', 'millions', 'of', 'years', 'on', '[MASK]', 'we', 'must', 'have', 'an', 'understanding', 'of', 'the'], ['earth']], [['must', 'have', 'an', 'understanding', 'of', 'the', 'context', 'of', '[MASK]', 'of', 'life', 'i', 'e', 'evolution', 'of', 'earth'], ['origin']], [['an', 'understanding', 'of', 'the', 'context', 'of', 'origin', 'of', '[MASK]', 'i', 'e', 'evolution', 'of', 'earth', 'of', 'stars'], ['life']], [['the', 'context', 'of', 'origin', 'of', 'life', 'i', 'e', '[MASK]', 'of', 'earth', 'of', 'stars', 'and', 'indeed', 'of'], ['evolution']], [['of', 'origin', 'of', 'life', 'i', 'e', 'evolution', 'of', '[MASK]', 'of', 'stars', 'and', 'indeed', 'of', 'the', 'universe'], ['earth']], [['and', 'conjectured', 'stories', 'this', 'is', 'the', 'story', 'of', '[MASK]', 'of', 'life', 'and', 'evolution', 'of', 'life', 'forms'], ['origin']], [['stories', 'this', 'is', 'the', 'story', 'of', 'origin', 'of', '[MASK]', 'and', 'evolution', 'of', '[MASK]', 'forms', 'or', 'biodiversity'], ['life']], [['is', 'the', 'story', 'of', 'origin', 'of', 'life', 'and', '[MASK]', 'of', 'life', 'forms', 'or', 'biodiversity', 'on', 'planet'], ['evolution']], [['story', 'of', 'origin', 'of', '[MASK]', 'and', 'evolution', 'of', '[MASK]', 'forms', 'or', 'biodiversity', 'on', 'planet', 'earth', 'in'], ['life']], [['of', 'origin', 'of', 'life', 'and', 'evolution', 'of', 'life', '[MASK]', 'or', 'biodiversity', 'on', 'planet', 'earth', 'in', 'the'], ['forms']], [['evolution', 'of', 'life', 'forms', 'or', 'biodiversity', 'on', 'planet', '[MASK]', 'in', 'the', 'context', 'of', 'evolution', 'of', '[MASK]'], ['earth']], [['biodiversity', 'on', 'planet', 'earth', 'in', 'the', 'context', 'of', '[MASK]', 'of', 'earth', 'and', 'against', 'the', 'background', 'of'], ['evolution']], [['planet', '[MASK]', 'in', 'the', 'context', 'of', 'evolution', 'of', '[MASK]', 'and', 'against', 'the', 'background', 'of', 'evolution', 'of'], ['earth']], [['[MASK]', 'of', 'earth', 'and', 'against', 'the', 'background', 'of', '[MASK]', 'of', 'universe', 'itself', 'origin', 'of'], ['evolution']], [['background', 'of', 'evolution', 'of', 'universe', 'itself', '[MASK]', 'of', 'life', 'when', 'we', 'look', 'at', 'stars'], ['origin']], [['evolution', 'of', 'universe', 'itself', 'origin', 'of', '[MASK]', 'when', 'we', 'look', 'at', 'stars', 'on', 'a'], ['life']], [['we', 'apparently', 'are', 'peeping', 'into', 'the', 'past', 'the', '[MASK]', 'of', 'life', 'is', 'considered', 'a', 'unique', 'event'], ['origin']], [['are', 'peeping', 'into', 'the', 'past', 'the', 'origin', 'of', '[MASK]', 'is', 'considered', 'a', 'unique', 'event', 'in', 'the'], ['life']], [['life', 'is', 'considered', 'a', 'unique', 'event', 'in', 'the', '[MASK]', 'of', 'universe', 'the', 'universe', 'is', 'vast', 'relatively'], ['history']], [['the', 'universe', 'is', 'vast', 'relatively', 'speaking', '\\x0cevolution', 'the', '[MASK]', 'itself', 'is', 'almost', 'only', 'a', 'speck', 'the'], ['earth']], [['gas', 'and', 'dust', 'considering', 'the', 'size', 'of', 'universe', '[MASK]', 'is', 'indeed', 'a', 'speck', 'the', 'big', 'bang'], ['earth']], [['earth', 'is', 'indeed', 'a', 'speck', 'the', 'big', 'bang', '[MASK]', 'attempts', 'to', 'explain', 'to', 'us', 'the', 'origin'], ['theory']], [['bang', 'theory', 'attempts', 'to', 'explain', 'to', 'us', 'the', '[MASK]', 'of', 'universe', 'it', 'talks', 'of', 'a', 'singular'], ['origin']], [['the', 'solar', 'system', 'of', 'the', 'milky', 'way', 'galaxy', '[MASK]', 'was', 'supposed', 'to', 'have', 'been', 'formed', 'about'], ['earth']], [['years', 'back', 'there', 'was', 'no', 'atmosphere', 'on', 'early', '[MASK]', 'water', 'vapour', 'methane', 'carbondioxide', 'and', 'ammonia', 'released'], ['earth']], [['to', 'fill', 'all', 'the', 'depressions', 'and', 'form', 'oceans', '[MASK]', 'appeared', 'million', 'years', 'after', 'the', 'formation'], ['life']], [['appeared', 'million', 'years', 'after', 'the', 'formation', 'of', '[MASK]', 'i', 'e', 'almost', 'four', 'billion', 'years', 'back'], ['earth']], [['i', 'e', 'almost', 'four', 'billion', 'years', 'back', 'did', '[MASK]', 'come', 'from', 'outerspace?', 'some', 'scientists', 'believe', 'that'], ['life']], [['from', 'outside', 'early', 'greek', 'thinkers', 'thought', 'units', 'of', '[MASK]', 'called', 'spores', 'were', 'transferred', 'to', 'different', 'planets'], ['life']], [['called', 'spores', 'were', 'transferred', 'to', 'different', 'planets', 'including', '[MASK]', '‘panspermia’', 'is', 'still', 'a', 'favourite', 'idea', 'for'], ['earth']], [['a', 'long', 'time', 'it', 'was', 'also', 'believed', 'that', '[MASK]', 'came', 'out', 'of', 'decaying', 'and', 'rotting', 'matter'], ['life']], [['matter', 'like', 'straw', 'mud', 'etc', 'this', 'was', 'the', '[MASK]', 'of', 'spontaneous', 'generation', 'louis', 'pasteur', 'by', 'careful'], ['theory']], [['generation', 'louis', 'pasteur', 'by', 'careful', 'experimentation', 'demonstrated', 'that', '[MASK]', 'comes', 'only', 'from', 'pre', 'existing', '[MASK]', 'he'], ['life']], [['demonstrated', 'that', '[MASK]', 'comes', 'only', 'from', 'pre', 'existing', '[MASK]', 'he', 'showed', 'that', 'in', 'pre', 'sterilised', 'flasks'], ['life']], [['[MASK]', 'he', 'showed', 'that', 'in', 'pre', 'sterilised', 'flasks', '[MASK]', 'did', 'not', 'come', 'from', 'killed', 'yeast', 'while'], ['life']], [['living', 'organisms', 'arose', 'from', '‘killed', 'yeast’', 'spontaneous', 'generation', '[MASK]', 'was', 'dismissed', 'once', 'and', 'for', 'all', 'however'], ['theory']], [['however', 'this', 'did', 'not', 'answer', 'how', 'the', 'first', '[MASK]', 'form', 'came', 'on', 'earth', 'oparin', 'of', 'russia'], ['life']], [['answer', 'how', 'the', 'first', 'life', 'form', 'came', 'on', '[MASK]', 'oparin', 'of', 'russia', 'and', 'haldane', 'of', 'england'], ['earth']], [['of', 'england', 'proposed', 'that', 'the', 'first', 'form', 'of', '[MASK]', 'could', 'have', 'come', 'from', 'pre', 'existing', 'non'], ['life']], [['g', 'rna', 'protein', 'etc', 'and', 'that', 'formation', 'of', '[MASK]', 'was', 'preceded', 'by', 'chemical', 'evolution', 'i', 'e'], ['life']], [['that', 'formation', 'of', 'life', 'was', 'preceded', 'by', 'chemical', '[MASK]', 'i', 'e', 'formation', 'of', 'diverse', 'organic', 'molecules'], ['evolution']], [['organic', 'molecules', 'from', 'inorganic', 'constituents', 'the', 'conditions', 'on', '[MASK]', 'were', '–', 'high', 'temperature', 'volcanic', 'storms', 'reducing'], ['earth']], [['part', 'of', 'the', 'conjectured', 'story', 'i', 'e', 'chemical', '[MASK]', 'was', 'more', 'or', 'less', 'accepted', 'we', 'have'], ['evolution']], [['how', 'the', 'first', 'self', 'replicating', 'metabolic', 'capsule', 'of', '[MASK]', 'arose', 'the', 'first', 'non', 'cellular', 'forms', 'of'], ['life']], [['capsule', 'of', 'life', 'arose', 'the', 'first', 'non', 'cellular', '[MASK]', 'of', 'life', 'could', 'have', 'originated', '\\x0cbiology'], ['forms']], [['[MASK]', 'arose', 'the', 'first', 'non', 'cellular', 'forms', 'of', '[MASK]', 'could', 'have', 'originated', '\\x0cbiology', 'figure'], ['life']], [['their', 'molecules', 'perhaps', 'the', 'first', 'cellular', 'form', 'of', '[MASK]', 'did', 'not', 'possibly', 'originate', 'till', 'about'], ['life']], [['years', 'ago', 'these', 'were', 'probably', 'single', 'cells', 'all', '[MASK]', 'forms', 'were', 'in', 'water', 'environment', 'only', 'this'], ['life']], [['ago', 'these', 'were', 'probably', 'single', 'cells', 'all', 'life', '[MASK]', 'were', 'in', 'water', 'environment', 'only', 'this', 'version'], ['forms']], [['a', 'biogenesis', 'i', 'e', 'the', 'first', 'form', 'of', '[MASK]', 'arose', 'slowly', 'through', 'evolutionary', 'forces', 'from', 'non'], ['life']], [['majority', 'however', 'once', 'formed', 'how', 'the', 'first', 'cellular', '[MASK]', 'of', 'life', 'could', 'have', 'evolved', 'into', 'the'], ['forms']], [['once', 'formed', 'how', 'the', 'first', 'cellular', 'forms', 'of', '[MASK]', 'could', 'have', 'evolved', 'into', 'the', 'complex', 'biodiversity'], ['life']], [['story', 'that', 'will', 'be', 'discussed', 'below', '[MASK]', 'of', 'life', 'forms', '–', 'a', 'theory'], ['evolution']], [['be', 'discussed', 'below', 'evolution', 'of', '[MASK]', 'forms', '–', 'a', 'theory', 'conventional', 'religious', 'literature'], ['life']], [['discussed', 'below', 'evolution', 'of', 'life', '[MASK]', '–', 'a', 'theory', 'conventional', 'religious', 'literature', 'tells'], ['forms']], [['evolution', 'of', 'life', 'forms', '–', 'a', '[MASK]', 'conventional', 'religious', 'literature', 'tells', 'us', 'about', 'the'], ['theory']], [['[MASK]', 'conventional', 'religious', 'literature', 'tells', 'us', 'about', 'the', '[MASK]', 'of', 'special', 'creation', 'this', '[MASK]', 'has', 'three'], ['theory']], [['us', 'about', 'the', '[MASK]', 'of', 'special', 'creation', 'this', '[MASK]', 'has', 'three', 'connotations', 'one', 'that', 'all', 'living'], ['theory']], [['be', 'the', 'same', 'in', 'future', 'also', 'three', 'that', '[MASK]', 'is', 'about', 'years', 'old', 'all', 'these'], ['earth']], [['the', 'world', 'charles', 'darwin', 'concluded', 'that', 'existing', 'living', '[MASK]', 'share', 'similarities', 'to', 'varying', 'degrees', 'not', 'only'], ['forms']], [['degrees', 'not', 'only', 'among', 'themselves', 'but', 'also', 'with', '[MASK]', 'forms', 'that', 'existed', 'millions', 'of', 'years', 'ago'], ['life']], [['not', 'only', 'among', 'themselves', 'but', 'also', 'with', 'life', '[MASK]', 'that', 'existed', 'millions', 'of', 'years', 'ago', 'many'], ['forms']], [['that', 'existed', 'millions', 'of', 'years', 'ago', 'many', 'such', '[MASK]', 'forms', 'do', 'not', 'exist', 'any', 'more', 'there'], ['life']], [['existed', 'millions', 'of', 'years', 'ago', 'many', 'such', 'life', '[MASK]', 'do', 'not', 'exist', 'any', 'more', 'there', 'had'], ['forms']], [['any', 'more', 'there', 'had', 'been', 'extinctions', 'of', 'different', '[MASK]', 'forms', 'in', 'the', '\\x0cevolution', 'years', 'gone', 'by'], ['life']], [['more', 'there', 'had', 'been', 'extinctions', 'of', 'different', 'life', '[MASK]', 'in', 'the', '\\x0cevolution', 'years', 'gone', 'by', 'just'], ['forms']], [['the', '\\x0cevolution', 'years', 'gone', 'by', 'just', 'as', 'new', '[MASK]', 'of', 'life', 'arose', 'at', 'different', 'periods', 'of'], ['forms']], [['years', 'gone', 'by', 'just', 'as', 'new', 'forms', 'of', '[MASK]', 'arose', 'at', 'different', 'periods', 'of', 'history', 'of'], ['life']], [['forms', 'of', 'life', 'arose', 'at', 'different', 'periods', 'of', '[MASK]', 'of', 'earth', 'there', 'has', 'been', 'gradual', 'evolution'], ['history']], [['life', 'arose', 'at', 'different', 'periods', 'of', 'history', 'of', '[MASK]', 'there', 'has', 'been', 'gradual', 'evolution', 'of', 'life'], ['earth']], [['of', 'history', 'of', 'earth', 'there', 'has', 'been', 'gradual', '[MASK]', 'of', 'life', 'forms', 'any', 'population', 'has', 'built'], ['evolution']], [['of', 'earth', 'there', 'has', 'been', 'gradual', 'evolution', 'of', '[MASK]', 'forms', 'any', 'population', 'has', 'built', 'in', 'variation'], ['life']], [['earth', 'there', 'has', 'been', 'gradual', 'evolution', 'of', 'life', '[MASK]', 'any', 'population', 'has', 'built', 'in', 'variation', 'in'], ['forms']], [['selection', 'and', 'implied', 'it', 'as', 'a', 'mechanism', 'of', '[MASK]', 'let', 'us', 'also', 'remember', 'that', 'alfred', 'wallace'], ['evolution']], [['types', 'of', 'organisms', 'are', 'recognisable', 'all', 'the', 'existing', '[MASK]', 'forms', 'share', 'similarities', 'and', 'share', 'common', 'ancestors'], ['life']], [['of', 'organisms', 'are', 'recognisable', 'all', 'the', 'existing', 'life', '[MASK]', 'share', 'similarities', 'and', 'share', 'common', 'ancestors', 'however'], ['forms']], [['ancestors', 'were', 'present', 'at', 'different', 'periods', 'in', 'the', '[MASK]', 'of', 'earth', 'epochs', 'periods', 'and', 'eras', 'the'], ['history']], [['present', 'at', 'different', 'periods', 'in', 'the', 'history', 'of', '[MASK]', 'epochs', 'periods', 'and', 'eras', 'the', 'geological', 'history'], ['earth']], [['of', 'earth', 'epochs', 'periods', 'and', 'eras', 'the', 'geological', '[MASK]', 'of', 'earth', 'closely', 'correlates', 'with', 'the', 'biological'], ['history']], [['epochs', 'periods', 'and', 'eras', 'the', 'geological', 'history', 'of', '[MASK]', 'closely', 'correlates', 'with', 'the', 'biological', 'history', 'of'], ['earth']], [['[MASK]', 'of', 'earth', 'closely', 'correlates', 'with', 'the', 'biological', '[MASK]', 'of', 'earth', 'a', 'common', 'permissible', 'conclusion', 'is'], ['history']], [['[MASK]', 'closely', 'correlates', 'with', 'the', 'biological', 'history', 'of', '[MASK]', 'a', 'common', 'permissible', 'conclusion', 'is', 'that', '[MASK]'], ['earth']], [['of', '[MASK]', 'a', 'common', 'permissible', 'conclusion', 'is', 'that', '[MASK]', 'is', 'very', 'old', 'not', 'thousand', 'of', 'years'], ['earth']], [['what', 'are', 'the', 'evidences', 'for', '[MASK]', 'evidence', 'that', '[MASK]', 'of', 'life', 'forms', 'has', 'indeed', 'taken', 'place'], ['evolution']], [['the', 'evidences', 'for', 'evolution?', 'evidence', 'that', 'evolution', 'of', '[MASK]', 'forms', 'has', 'indeed', 'taken', 'place', 'on', 'earth'], ['life']], [['evidences', 'for', 'evolution?', 'evidence', 'that', 'evolution', 'of', 'life', '[MASK]', 'has', 'indeed', 'taken', 'place', 'on', 'earth', 'has'], ['forms']], [['of', 'life', 'forms', 'has', 'indeed', 'taken', 'place', 'on', '[MASK]', 'has', 'come', 'from', 'many', 'quarters', 'fossils', 'are'], ['earth']], [['quarters', 'fossils', 'are', 'remained', 'of', 'hard', 'parts', 'of', '[MASK]', 'forms', 'found', 'in', 'rocks', 'rocks', 'form', 'sediments'], ['life']], [['fossils', 'are', 'remained', 'of', 'hard', 'parts', 'of', 'life', '[MASK]', 'found', 'in', 'rocks', 'rocks', 'form', 'sediments', 'and'], ['forms']], [['sediments', 'one', 'over', 'the', 'other', 'during', 'the', 'long', '[MASK]', 'of', 'earth', 'different', 'aged', 'rock', 'sediments', 'contain'], ['history']], [['over', 'the', 'other', 'during', 'the', 'long', 'history', 'of', '[MASK]', 'different', 'aged', 'rock', 'sediments', 'contain', 'fossils', 'of'], ['earth']], [['different', 'aged', 'rock', 'sediments', 'contain', 'fossils', 'of', 'different', '[MASK]', 'forms', 'who', 'probably', 'died', 'during', 'the', 'formation'], ['life']], [['aged', 'rock', 'sediments', 'contain', 'fossils', 'of', 'different', 'life', '[MASK]', 'who', 'probably', 'died', 'during', 'the', 'formation', 'of'], ['forms']], [['in', 'which', 'they', 'existed', 'the', 'study', 'showed', 'that', '[MASK]', 'forms', 'varied', 'over', 'time', 'and', 'certain', '[MASK]'], ['life']], [['which', 'they', 'existed', 'the', 'study', 'showed', 'that', 'life', '[MASK]', 'varied', 'over', 'time', 'and', 'certain', 'life', '[MASK]'], ['forms']], [['that', '[MASK]', 'forms', 'varied', 'over', 'time', 'and', 'certain', '[MASK]', 'forms', 'are', 'restricted', 'to', 'certain', 'geological', 'time'], ['life']], [['life', '[MASK]', 'varied', 'over', 'time', 'and', 'certain', 'life', '[MASK]', 'are', 'restricted', 'to', 'certain', 'geological', 'time', 'spans'], ['forms']], [['restricted', 'to', 'certain', 'geological', 'time', 'spans', 'hence', 'new', '[MASK]', 'of', 'life', 'have', 'arisen', 'at', 'different', 'times'], ['forms']], [['certain', 'geological', 'time', 'spans', 'hence', 'new', 'forms', 'of', '[MASK]', 'have', 'arisen', 'at', 'different', 'times', 'in', 'the'], ['life']], [['life', 'have', 'arisen', 'at', 'different', 'times', 'in', 'the', '[MASK]', 'of', 'earth', 'all', 'this', 'is', 'called', 'paleontological'], ['history']], [['arisen', 'at', 'different', 'times', 'in', 'the', 'history', 'of', '[MASK]', 'all', 'this', 'is', 'called', 'paleontological', 'evidence', 'do'], ['earth']], [['to', 'adaptions', 'to', 'different', 'needs', 'this', 'is', 'divergent', '[MASK]', 'and', 'these', 'structures', 'are', 'homologous', 'homology', 'indicates'], ['evolution']], [['figure', '3a', 'homology', 'is', 'based', 'on', 'divergent', '[MASK]', 'whereas', 'analogy', 'refers', 'to', 'a', 'situation', 'exactly'], ['evolution']], [['hence', 'analogous', 'structures', 'are', 'a', 'result', 'of', 'convergent', '[MASK]', 'different', 'structures', 'evolving', 'for', 'the', 'same', 'function'], ['evolution']], [['shared', 'ancestry', 'as', 'structural', 'similarities', 'among', 'diverse', 'organisms', '[MASK]', 'has', 'bred', 'selected', 'plants', 'and', 'animals', 'for'], ['man']], [['and', 'animals', 'for', 'agriculture', 'horticulture', 'sport', 'or', 'security', '[MASK]', 'has', 'domesticated', '[MASK]', 'wild', 'animals', 'and', 'crops'], ['man']], [['is', 'argued', 'that', 'if', 'within', 'hundred', 'of', 'years', '[MASK]', 'could', 'create', 'new', 'breeds', 'could', 'not', 'nature'], ['man']], [['example', 'of', 'homologous', 'organs', 'in', 'supporting', '[MASK]', 'by', 'natural', 'selection', 'a', 'plants', 'and', 'b'], ['evolution']], [['years', 'and', 'not', 'centuries', 'these', 'are', 'examples', 'of', '[MASK]', 'by', 'anthropogenic', 'action', 'this', 'also', 'tells', 'us'], ['evolution']], [['by', 'anthropogenic', 'action', 'this', 'also', 'tells', 'us', 'that', '[MASK]', 'is', 'not', 'a', 'direct', 'process', 'in', 'the'], ['evolution']], [['from', 'the', 'original', 'seed', 'eating', 'features', 'many', 'other', '[MASK]', 'with', 'altered', 'beaks', 'arose', 'enabling', 'them', 'to'], ['forms']], [['vegetarian', 'finches', 'figure', 'this', 'process', 'of', '[MASK]', 'of', 'different', 'species', 'in', 'a', 'given', 'geographical'], ['evolution']], [['other', 'areas', 'of', 'geography', 'habitats', 'is', 'called', 'adaptive', '[MASK]', 'darwin’s', 'finches', 'represent', 'one', 'of', 'the', 'best'], ['radiation']], [['australian', 'island', 'continent', 'when', 'more', 'than', 'one', 'adaptive', '[MASK]', 'appeared', 'to', 'have', 'occurred', 'in', 'an', 'isolated'], ['radiation']], [['representing', 'different', 'habitats', 'one', 'can', 'call', 'this', 'convergent', '[MASK]', 'figure', 'adaptive', 'radiation', 'of'], ['evolution']], [['this', 'convergent', 'evolution', 'figure', 'adaptive', '[MASK]', 'of', 'marsupials', 'of', 'australia', '\\x0cbiology', 'placental', 'mammals'], ['radiation']], [['\\x0cbiology', 'placental', 'mammals', 'in', 'australia', 'also', 'exhibit', 'adaptive', '[MASK]', 'in', 'evolving', 'into', 'varieties', 'of', 'such', 'placental'], ['radiation']], [['tasmanian', 'wolfmarsupial', 'figure', 'biological', '[MASK]', 'figure', '[MASK]', 'by', 'natural'], ['evolution']], [['biological', '[MASK]', 'figure', '[MASK]', 'by', 'natural', 'selection', 'in', 'a', 'true', 'sense'], ['evolution']], [['a', 'true', 'sense', 'would', 'have', 'started', 'when', 'cellular', '[MASK]', 'of', 'life', 'with', 'differences', 'in', 'metabolic', 'capability'], ['forms']], [['sense', 'would', 'have', 'started', 'when', 'cellular', 'forms', 'of', '[MASK]', 'with', 'differences', 'in', 'metabolic', 'capability', 'originated', 'on'], ['life']], [['life', 'with', 'differences', 'in', 'metabolic', 'capability', 'originated', 'on', '[MASK]', 'the', 'essence', 'of', 'darwinian', 'theory', 'about', 'evolution'], ['earth']], [['capability', 'originated', 'on', 'earth', 'the', 'essence', 'of', 'darwinian', '[MASK]', 'about', 'evolution', 'is', 'natural', 'selection', 'the', 'rate'], ['theory']], [['on', 'earth', 'the', 'essence', 'of', 'darwinian', 'theory', 'about', '[MASK]', 'is', 'natural', 'selection', 'the', 'rate', 'of', 'appearance'], ['evolution']], [['natural', 'selection', 'the', 'rate', 'of', 'appearance', 'of', 'new', '[MASK]', 'is', 'linked', 'to', 'the', 'life', 'cycle', 'or'], ['forms']], [['appearance', 'of', 'new', 'forms', 'is', 'linked', 'to', 'the', '[MASK]', 'cycle', 'or', 'the', '[MASK]', 'span', 'microbes', 'that'], ['life']], [['is', 'linked', 'to', 'the', '[MASK]', 'cycle', 'or', 'the', '[MASK]', 'span', 'microbes', 'that', 'divide', 'fast', 'have', 'the'], ['life']], [['or', 'fowl', 'would', 'take', 'million', 'of', 'years', 'as', '[MASK]', 'spans', 'of', 'these', 'animals', 'are', 'in', 'years'], ['life']], [['conditions', 'nature', 'selects', 'for', 'fitness', 'picture', 'showing', 'convergent', '[MASK]', 'one', 'must', 'remember', 'that', 'the', 'so', 'called'], ['evolution']], [['selection', 'are', 'the', 'two', 'key', 'concepts', 'of', 'darwinian', '[MASK]', 'of', 'evolution', 'figures', 'and'], ['theory']], [['the', 'two', 'key', 'concepts', 'of', 'darwinian', 'theory', 'of', '[MASK]', 'figures', 'and', 'even'], ['evolution']], [['darwin', 'a', 'french', 'naturalist', 'lamarck', 'had', 'said', 'that', '[MASK]', 'of', 'life', 'forms', 'had', 'occurred', 'but', 'driven'], ['evolution']], [['french', 'naturalist', 'lamarck', 'had', 'said', 'that', 'evolution', 'of', '[MASK]', 'forms', 'had', 'occurred', 'but', 'driven', 'by', 'use'], ['life']], [['naturalist', 'lamarck', 'had', 'said', 'that', 'evolution', 'of', 'life', '[MASK]', 'had', 'occurred', 'but', 'driven', 'by', 'use', 'and'], ['forms']], [['necks', 'nobody', 'believes', 'this', 'conjecture', 'any', 'more', 'is', '[MASK]', 'a', 'process', 'or', 'the', 'result', 'of', 'a'], ['evolution']], [['and', 'animate', 'is', 'only', 'the', 'success', 'stories', 'of', '[MASK]', 'when', 'we', 'describe', 'the', 'story', 'of', 'this'], ['evolution']], [['describe', 'the', 'story', 'of', 'this', 'world', 'we', 'describe', '[MASK]', 'as', 'a', 'process', 'on', 'the', 'other', 'hand'], ['evolution']], [['other', 'hand', 'when', 'we', 'describe', 'the', 'story', 'of', '[MASK]', 'on', 'earth', 'we', 'treat', 'evolution', 'as', 'a'], ['life']], [['when', 'we', 'describe', 'the', 'story', 'of', 'life', 'on', '[MASK]', 'we', 'treat', 'evolution', 'as', 'a', 'consequence', 'of'], ['earth']], [['the', 'story', 'of', 'life', 'on', 'earth', 'we', 'treat', '[MASK]', 'as', 'a', 'consequence', 'of', 'a', 'process', 'called'], ['evolution']], [['are', 'still', 'not', 'very', 'clear', 'whether', 'to', 'regard', '[MASK]', 'and', 'natural', 'selection', 'as', 'processes', 'or', 'end'], ['evolution']], [['a', 'change', 'in', 'population', 'characteristic', 'and', 'hence', 'new', '[MASK]', 'appear', 'to', 'arise', 'mechanism', 'of'], ['forms']], [['forms', 'appear', 'to', 'arise', 'mechanism', 'of', '[MASK]', 'what', 'is', 'the', 'origin', 'of', 'this', 'variation'], ['evolution']], [['mechanism', 'of', 'evolution', 'what', 'is', 'the', '[MASK]', 'of', 'this', 'variation', 'and', 'how', 'does', 'speciation'], ['origin']], [['he', 'believed', 'that', 'it', 'is', 'mutation', 'which', 'causes', '[MASK]', 'and', 'not', 'the', 'minor', 'variations', 'heritable', 'that'], ['evolution']], [['directionless', 'while', 'darwinian', 'variations', 'are', 'small', 'and', 'directional', '[MASK]', 'for', 'darwin', 'was', 'gradual', 'while', 'devries', 'believed'], ['evolution']], [['population', 'would', 'then', 'be', 'interpreted', 'as', 'resulting', 'in', '[MASK]', 'five', 'factors', 'are', 'known', 'to', 'affect', 'hardy'], ['evolution']], [['a', 'brief', 'account', 'of', '[MASK]', 'about', 'million', 'years', 'ago', 'mya', 'the'], ['evolution']], [['million', 'years', 'ago', 'mya', 'the', 'first', 'cellular', '[MASK]', 'of', 'life', 'appeared', 'on', 'earth', 'the', 'mechanism'], ['forms']], [['years', 'ago', 'mya', 'the', 'first', 'cellular', 'forms', 'of', '[MASK]', 'appeared', 'on', 'earth', 'the', 'mechanism', 'of', 'how'], ['life']], [['the', 'first', 'cellular', 'forms', 'of', 'life', 'appeared', 'on', '[MASK]', 'the', 'mechanism', 'of', 'how', 'non', 'cellular', 'aggregates'], ['earth']], [['\\x0cbiology', 'figure', 'a', 'sketch', 'of', 'the', '[MASK]', 'of', 'plant', 'forms', 'through', 'geological', 'periods'], ['evolution']], [['a', 'sketch', 'of', 'the', 'evolution', 'of', 'plant', '[MASK]', 'through', 'geological', 'periods', 'could', 'have', 'been'], ['forms']], [['pigments', 'slowly', 'single', 'celled', 'organisms', 'became', 'multi', 'cellular', '[MASK]', 'forms', 'by', 'the', 'time', 'of', 'mya'], ['life']], [['slowly', 'single', 'celled', 'organisms', 'became', 'multi', 'cellular', 'life', '[MASK]', 'by', 'the', 'time', 'of', 'mya', 'invertebrates'], ['forms']], [['into', 'the', '\\x0cevolution', 'figure', 'representative', 'evolutionary', '[MASK]', 'of', 'vertebrates', 'through', 'geological', 'period', 'first', 'amphibians'], ['history']], [['different', '\\x0cbiology', 'shapes', 'and', 'sizes', 'dominated', 'on', '[MASK]', 'giant', 'ferns', 'pteridophytes', 'were', 'present', 'but', 'they'], ['earth']], [['mya', 'the', 'dinosaurs', 'suddenly', 'disappeared', 'from', 'the', '[MASK]', 'we', 'do', 'not', 'know', 'the', 'true', 'reason'], ['earth']], [['when', 'reptiles', 'came', 'down', 'mammals', 'took', 'over', 'this', '[MASK]', 'there', 'were', 'in', 'south', 'america', 'mammals', 'resembling'], ['earth']], [['dolphins', 'seals', 'and', 'sea', 'cows', 'are', 'some', 'examples', '[MASK]', 'of', 'horse', 'elephant', 'dog', 'etc', 'are', 'special'], ['evolution']], [['horse', 'elephant', 'dog', 'etc', 'are', 'special', 'stories', 'of', '[MASK]', 'you', 'will', 'learn', 'about', 'these', 'in', 'higher'], ['evolution']], [['higher', 'classes', 'the', 'most', 'successful', 'story', 'is', 'the', '[MASK]', 'of', 'man', 'with', 'language', 'skills', 'and', 'self'], ['evolution']], [['the', 'most', 'successful', 'story', 'is', 'the', 'evolution', 'of', '[MASK]', 'with', 'language', 'skills', 'and', 'self', 'consciousness', 'a'], ['man']], [['and', 'self', 'consciousness', 'a', 'rough', 'sketch', 'of', 'the', '[MASK]', 'of', 'life', 'forms', 'their', 'times', 'on', 'a'], ['evolution']], [['consciousness', 'a', 'rough', 'sketch', 'of', 'the', 'evolution', 'of', '[MASK]', 'forms', 'their', 'times', 'on', 'a', 'geological', 'scale'], ['life']], [['a', 'rough', 'sketch', 'of', 'the', 'evolution', 'of', 'life', '[MASK]', 'their', 'times', 'on', 'a', 'geological', 'scale', 'are'], ['forms']], [['figure', 'and', '[MASK]', 'and', 'evolution', 'of', 'man', 'about'], ['origin']], [['and', 'origin', 'and', '[MASK]', 'of', 'man', 'about', 'mya', 'primates', 'called'], ['evolution']], [['origin', 'and', 'evolution', 'of', '[MASK]', 'about', 'mya', 'primates', 'called', 'dryopithecus', 'and'], ['man']], [['walked', 'like', 'gorillas', 'and', 'chimpanzees', 'ramapithecus', 'was', 'more', '[MASK]', 'like', 'while', 'dryopithecus', 'was', 'more', 'ape', 'like'], ['man']], [['dryopithecus', 'was', 'more', 'ape', 'like', 'few', 'fossils', 'of', '[MASK]', 'like', 'bones', 'have', 'been', 'discovered', 'in', 'ethiopia'], ['man']], [['to', 'the', 'belief', 'that', 'about', 'mya', '[MASK]', 'like', 'primates', 'walked', 'in', 'eastern', 'africa', 'they'], ['man']], [['900cc', 'homo', 'erectus', 'probably', 'ate', 'meat', 'the', 'neanderthal', '[MASK]', 'with', 'a', 'brain', 'size', 'of', '1400cc', 'lived'], ['man']], [['rest', 'of', 'what', 'happened', 'is', 'part', 'of', 'human', '[MASK]', 'of', 'growth', 'and', 'decline', 'of', 'civilisations'], ['history']], [['and', 'decline', 'of', 'civilisations', '\\x0cbiology', 'summary', 'the', '[MASK]', 'of', 'life', 'on', 'earth', 'can', 'be', 'understood'], ['origin']], [['of', 'civilisations', '\\x0cbiology', 'summary', 'the', 'origin', 'of', '[MASK]', 'on', 'earth', 'can', 'be', 'understood', 'only', 'against'], ['life']], [['\\x0cbiology', 'summary', 'the', 'origin', 'of', 'life', 'on', '[MASK]', 'can', 'be', 'understood', 'only', 'against', 'the', 'background'], ['earth']], [['can', 'be', 'understood', 'only', 'against', 'the', 'background', 'of', '[MASK]', 'of', 'universe', 'especially', 'earth', 'most', 'scientists', 'believe'], ['origin']], [['against', 'the', 'background', 'of', 'origin', 'of', 'universe', 'especially', '[MASK]', 'most', 'scientists', 'believe', 'chemical', 'evolution', 'i', 'e'], ['earth']], [['of', 'universe', 'especially', 'earth', 'most', 'scientists', 'believe', 'chemical', '[MASK]', 'i', 'e', 'formation', 'of', 'biomolecules', 'preceded', 'the'], ['evolution']], [['biomolecules', 'preceded', 'the', 'appearance', 'of', 'the', 'first', 'cellular', '[MASK]', 'of', 'life', 'the', 'subsequent', 'events', 'as', 'to'], ['forms']], [['the', 'appearance', 'of', 'the', 'first', 'cellular', 'forms', 'of', '[MASK]', 'the', 'subsequent', 'events', 'as', 'to', 'what', 'happened'], ['life']], [['to', 'what', 'happened', 'to', 'the', 'first', 'form', 'of', '[MASK]', 'is', 'a', 'conjectured', 'story', 'based', 'on', 'darwinian'], ['life']], [['conjectured', 'story', 'based', 'on', 'darwinian', 'ideas', 'of', 'organic', '[MASK]', 'by', 'natural', 'selection', 'diversity', 'of', 'life', 'forms'], ['evolution']], [['of', 'organic', 'evolution', 'by', 'natural', 'selection', 'diversity', 'of', '[MASK]', 'forms', 'on', 'earth', 'has', 'been', 'changing', 'over'], ['life']], [['organic', 'evolution', 'by', 'natural', 'selection', 'diversity', 'of', 'life', '[MASK]', 'on', 'earth', 'has', 'been', 'changing', 'over', 'millions'], ['forms']], [['by', 'natural', 'selection', 'diversity', 'of', 'life', 'forms', 'on', '[MASK]', 'has', 'been', 'changing', 'over', 'millions', 'of', 'years'], ['earth']], [['leading', 'to', 'appearance', 'of', 'new', 'species', 'and', 'hence', '[MASK]', 'homology', 'is', 'accounted', 'for', 'by', 'the', 'idea'], ['evolution']], [['anatomy', 'fossils', 'and', 'comparative', 'biochemistry', 'provides', 'evidence', 'for', '[MASK]', 'among', 'the', 'stories', 'of', '[MASK]', 'of', 'individual'], ['evolution']], [['provides', 'evidence', 'for', '[MASK]', 'among', 'the', 'stories', 'of', '[MASK]', 'of', 'individual', 'species', 'the', 'story', 'of', '[MASK]'], ['evolution']], [['of', '[MASK]', 'of', 'individual', 'species', 'the', 'story', 'of', '[MASK]', 'of', 'modern', 'man', 'is', 'most', 'interesting', 'and'], ['evolution']], [['individual', 'species', 'the', 'story', 'of', 'evolution', 'of', 'modern', '[MASK]', 'is', 'most', 'interesting', 'and', 'appears', 'to', 'parallel'], ['man']], [['man', 'is', 'most', 'interesting', 'and', 'appears', 'to', 'parallel', '[MASK]', 'of', 'human', 'brain', 'and', 'language', 'exercises'], ['evolution']], [['observed', 'in', 'bacteria', 'in', 'light', 'of', 'darwinian', 'selection', '[MASK]', 'find', 'out', 'from', 'newspapers', 'and', 'popular'], ['theory']], [['articles', 'any', 'new', 'fossil', 'discoveries', 'or', 'controversies', 'about', '[MASK]', 'attempt', 'giving', 'a', 'clear', 'definition', 'of'], ['evolution']], [['try', 'to', 'trace', 'the', 'various', 'components', 'of', 'human', '[MASK]', 'hint:', 'brain', 'size', 'and', 'function', 'skeletal', 'structure'], ['evolution']], [['and', 'popular', 'science', 'articles', 'whether', 'animals', 'other', 'than', '[MASK]', 'has', 'self', 'consciousness', 'list', 'modern'], ['man']], [['and', 'plants', 'describe', 'one', 'example', 'of', 'adaptive', '[MASK]', 'can', 'we', 'call', 'human', 'evolution', 'as'], ['radiation']], [['of', 'adaptive', 'radiation', 'can', 'we', 'call', 'human', '[MASK]', 'as', 'adaptive', 'radiation?', 'using', 'various', 'resources'], ['evolution']]]\n"
     ]
    }
   ],
   "source": [
    "print(hopes)"
   ]
  },
  {
   "cell_type": "code",
   "execution_count": 306,
   "metadata": {
    "colab": {
     "base_uri": "https://localhost:8080/",
     "height": 34
    },
    "colab_type": "code",
    "id": "HOln9N_pwAUK",
    "outputId": "0d2f8477-ee40-4796-93b2-b01e6bbac83b"
   },
   "outputs": [
    {
     "name": "stdout",
     "output_type": "stream",
     "text": [
      "218\n"
     ]
    }
   ],
   "source": [
    "print(len(hopes))"
   ]
  },
  {
   "cell_type": "code",
   "execution_count": 307,
   "metadata": {
    "colab": {},
    "colab_type": "code",
    "id": "3hUkOoEn2taw"
   },
   "outputs": [],
   "source": [
    "# takes input of a list and returns another list of bert token and segment form\n",
    "def indexed_tokenizing_keywordlist(m_lst):\n",
    "  length_orig=len(m_lst)\n",
    "  #Need to remove stopwords\n",
    "  #REMOVING STOPWORDS FROM DEF\n",
    "  if(length_orig>1):\n",
    "    lst = [w for w in m_lst if not w in stop_words] \n",
    "  else:\n",
    "    lst=m_lst\n",
    "    # print(lst)\n",
    "  #REMOVED stopwords\n",
    "  # print(lst)\n",
    "  my_str=\"[CLS] \"\n",
    "  for i in lst:\n",
    "    my_str=my_str+i+\" \"\n",
    "  my_str=my_str+\".  [SEP]\"  \n",
    "  # Split the sentence into tokens.\n",
    "  check=tokenizer.tokenize(my_str)\n",
    "  # Map the token strings to their vocabulary indeces.\n",
    "  indexed_tokens = tokenizer.convert_tokens_to_ids(check)\n",
    "  # Mark each of the 22 tokens as belonging to sentence \"1\".\n",
    "  segments_ids = [1] * len(check)\n",
    "  #PLEASE NOTE\n",
    "  tokens_tensor = torch.tensor([indexed_tokens])\n",
    "  segments_tensors = torch.tensor([segments_ids])\n",
    "  # Predict hidden states features for each layer\n",
    "  with torch.no_grad():\n",
    "    encoded_layers, _ = model(tokens_tensor, segments_tensors)\n",
    "  # Concatenate the tensors for all layers. We use `stack` here to\n",
    "  # create a new dimension in the tensor.\n",
    "  token_embeddings = torch.stack(encoded_layers, dim=0)\n",
    "  token_embeddings = torch.squeeze(token_embeddings, dim=1)\n",
    "  # Swap dimensions 0 and 1.\n",
    "  token_embeddings = token_embeddings.permute(1,0,2)\n",
    "  # token_embeddings.size()\n",
    "  token_vecs = encoded_layers[11][0]\n",
    "  sentence_embedding = torch.mean(token_vecs, dim=0)\n",
    "  return sentence_embedding\n",
    "\n",
    "  # but a simple approach is to average the second to last hiden layer of each token producing a single 768 length vector."
   ]
  },
  {
   "cell_type": "code",
   "execution_count": 308,
   "metadata": {
    "colab": {},
    "colab_type": "code",
    "id": "9Cc_qzppjYH4"
   },
   "outputs": [],
   "source": [
    " # print(hopes[0][0])\n",
    "# check=indexed_tokenizing_keywordlist(hopes[0][1])\n",
    "# check1=indexed_tokenizing_keywordlist(hopes[0][1])\n",
    "# check2=indexed_tokenizing_keywordlist(hopes[1][1])"
   ]
  },
  {
   "cell_type": "code",
   "execution_count": 309,
   "metadata": {
    "colab": {},
    "colab_type": "code",
    "id": "8AatGGd32ted"
   },
   "outputs": [],
   "source": [
    "# 1-cosine(check,check1)\n",
    "#similar they are ,the higher the score\n",
    "# 1-cosine(check,check2)\n"
   ]
  },
  {
   "cell_type": "code",
   "execution_count": null,
   "metadata": {
    "colab": {},
    "colab_type": "code",
    "id": "Y3IqT43V0K90"
   },
   "outputs": [],
   "source": [
    "#NEED TO DO\n"
   ]
  },
  {
   "cell_type": "code",
   "execution_count": 312,
   "metadata": {
    "colab": {
     "base_uri": "https://localhost:8080/",
     "height": 34
    },
    "colab_type": "code",
    "id": "ir0yTRdJ8oXo",
    "outputId": "12830eeb-db53-49b0-d86f-46782f7884c3"
   },
   "outputs": [
    {
     "data": {
      "text/plain": [
       "2.0"
      ]
     },
     "execution_count": 312,
     "metadata": {
      "tags": []
     },
     "output_type": "execute_result"
    }
   ],
   "source": [
    "import math \n",
    "# log first is number second is base"
   ]
  },
  {
   "cell_type": "code",
   "execution_count": 319,
   "metadata": {
    "colab": {},
    "colab_type": "code",
    "id": "ZJiSo_fn8grU"
   },
   "outputs": [],
   "source": [
    "def length_factor(ln):\n",
    "  if(ln<8):\n",
    "    tempora=(1+(ln/2))\n",
    "  else:\n",
    "    tempora=5\n",
    "  return math.log(tempora,3)"
   ]
  },
  {
   "cell_type": "code",
   "execution_count": 324,
   "metadata": {
    "colab": {},
    "colab_type": "code",
    "id": "xs_0_75E94bF"
   },
   "outputs": [],
   "source": [
    "# length_factor(10)"
   ]
  },
  {
   "cell_type": "code",
   "execution_count": 325,
   "metadata": {
    "colab": {},
    "colab_type": "code",
    "id": "bjJomsyV2tnA"
   },
   "outputs": [],
   "source": [
    "#takes input of sentence and runs all i,j pairs for that\n",
    "def best_meaning_from_sentence(lst):\n",
    "  # lst[0] is the keyword,lst[1] is the sentence associated\n",
    "  #meaning for the word\n",
    "  word_required=lst[1]\n",
    "  # print(\"word is \"),\n",
    "  # print(lst[1])\n",
    "  #bert representation for that word\n",
    "  vect_rep_for_word=indexed_tokenizing_keywordlist(lst[1])\n",
    "  # s=0;e=0\n",
    "  temp=lst[0]\n",
    "  temp_valu=indexed_tokenizing_keywordlist(lst[0])\n",
    "  #ACCOUNTING FOR LENGTH FACTOR\n",
    "  #ORIGINAL COMPARISON\n",
    "  # temp_dif=(1 - cosine(vect_rep_for_word,temp_valu))\n",
    "  temp_dif=(1 - cosine(vect_rep_for_word,temp_valu))*(length_factor(len(lst[0])))\n",
    "  #DONE ACCOUNTING\n",
    "  for i in range(1,len(lst[0])):\n",
    "    for j in range(i):\n",
    "      holder=indexed_tokenizing_keywordlist(lst[0][j:i])\n",
    "      my_dif=( 1 - cosine(vect_rep_for_word,holder) ) * (length_factor(len(lst[0])))\n",
    "      # print (my_dif)\n",
    "      if(my_dif!=1 and my_dif>temp_dif):\n",
    "        temp=lst[0][j:i]\n",
    "        temp_valu=holder\n",
    "        temp_dif=my_dif\n",
    "  return [[temp,lst[1]],temp_dif]\n",
    "      \n",
    "      #dif=1 ignore\n"
   ]
  },
  {
   "cell_type": "code",
   "execution_count": 326,
   "metadata": {
    "colab": {},
    "colab_type": "code",
    "id": "TgJ-W_P9ktFC"
   },
   "outputs": [],
   "source": [
    "meaning_of_keyword=best_meaning_from_sentence(hopes[0])"
   ]
  },
  {
   "cell_type": "code",
   "execution_count": 328,
   "metadata": {
    "colab": {},
    "colab_type": "code",
    "id": "KUk5cwDVktKt"
   },
   "outputs": [],
   "source": [
    "# print(meaning_of_keyword)"
   ]
  },
  {
   "cell_type": "code",
   "execution_count": 329,
   "metadata": {
    "colab": {
     "base_uri": "https://localhost:8080/",
     "height": 1000
    },
    "colab_type": "code",
    "id": "2WBy92vBktOW",
    "outputId": "1921cb60-3eba-4899-ac47-fc6b44122b9a"
   },
   "outputs": [
    {
     "name": "stdout",
     "output_type": "stream",
     "text": [
      "0\n",
      "1\n",
      "1\n",
      "2\n",
      "2\n",
      "3\n",
      "3\n",
      "4\n",
      "4\n",
      "1.154486776763623\n",
      "1.293122210486953\n",
      "4\n",
      "5\n",
      "1.2639423953547886\n",
      "1.2639423953547886\n",
      "4\n",
      "6\n",
      "5\n",
      "7\n",
      "6\n",
      "8\n",
      "1.293122210486953\n",
      "1.1832735587219605\n",
      "6\n",
      "9\n",
      "1.293122210486953\n",
      "1.2827699049735857\n",
      "6\n",
      "10\n",
      "1.293122210486953\n",
      "1.293122210486953\n",
      "6\n",
      "11\n",
      "1.293122210486953\n",
      "1.293122210486953\n",
      "6\n",
      "12\n",
      "1.293122210486953\n",
      "1.3403176410717053\n",
      "6\n",
      "13\n",
      "7\n",
      "14\n",
      "1.0432836792170763\n",
      "1.3403176410717053\n",
      "7\n",
      "15\n",
      "8\n",
      "16\n",
      "1.2639423953547886\n",
      "1.2557137807444518\n",
      "8\n",
      "17\n",
      "1.2750852018239198\n",
      "1.2084022155887102\n",
      "8\n",
      "18\n",
      "9\n",
      "19\n",
      "1.2506393112268035\n",
      "1.1937928358351615\n",
      "9\n",
      "20\n",
      "1.293122210486953\n",
      "1.293122210486953\n",
      "9\n",
      "21\n",
      "1.2639423953547886\n",
      "1.2639423953547886\n",
      "9\n",
      "22\n",
      "1.3403176410717053\n",
      "1.293122210486953\n",
      "9\n",
      "23\n",
      "1.2506393112268035\n",
      "1.2553144699225465\n",
      "9\n",
      "24\n",
      "1.293122210486953\n",
      "1.293122210486953\n",
      "9\n",
      "25\n",
      "1.2639423953547886\n",
      "1.2672436733438055\n",
      "9\n",
      "26\n",
      "1.3403176410717053\n",
      "1.293122210486953\n",
      "9\n",
      "27\n",
      "1.2672436733438055\n",
      "1.2639423953547886\n",
      "9\n",
      "28\n",
      "1.2750852018239198\n",
      "1.2700155348637185\n",
      "9\n",
      "29\n",
      "1.2553144699225465\n",
      "1.260573706923062\n",
      "9\n",
      "30\n",
      "1.3403176410717053\n",
      "1.2645113674334099\n",
      "9\n",
      "31\n",
      "1.260573706923062\n",
      "1.260573706923062\n",
      "9\n",
      "32\n",
      "1.3403176410717053\n",
      "1.293122210486953\n",
      "9\n",
      "33\n",
      "1.293122210486953\n",
      "1.293122210486953\n",
      "9\n",
      "34\n",
      "1.2672436733438055\n",
      "1.2969510712413213\n",
      "9\n",
      "35\n",
      "1.293122210486953\n",
      "1.2639423953547886\n",
      "9\n",
      "36\n",
      "1.2969510712413213\n",
      "1.2639423953547886\n",
      "9\n",
      "37\n",
      "1.2512742966405135\n",
      "1.2452270036225705\n",
      "9\n",
      "38\n",
      "1.260573706923062\n",
      "1.2700152729060397\n",
      "9\n",
      "39\n",
      "1.2700152729060397\n",
      "1.2700152729060397\n",
      "9\n",
      "40\n",
      "1.2979519242132607\n",
      "1.2036174712639511\n",
      "9\n",
      "41\n",
      "1.293122210486953\n",
      "1.2812570120585776\n",
      "9\n",
      "42\n",
      "1.2700152729060397\n",
      "1.2715005729455344\n",
      "9\n",
      "43\n",
      "1.2715005729455344\n",
      "1.2928041065455138\n",
      "9\n",
      "44\n",
      "1.2969510712413213\n",
      "1.2622794880089838\n",
      "9\n",
      "45\n",
      "1.2928041065455138\n",
      "1.190812892598957\n",
      "9\n",
      "46\n",
      "1.2969510712413213\n",
      "1.2536035370022724\n",
      "9\n",
      "47\n",
      "1.2969510712413213\n",
      "1.2522727046741162\n",
      "9\n",
      "48\n",
      "1.2928041065455138\n",
      "1.239710087585221\n",
      "9\n",
      "49\n",
      "1.2969510712413213\n",
      "1.3132975796830364\n",
      "9\n",
      "50\n",
      "1.2979519242132607\n",
      "1.2634180434008104\n",
      "9\n",
      "51\n",
      "1.3132975796830364\n",
      "1.3162026903422952\n",
      "9\n",
      "52\n",
      "1.3162026903422952\n",
      "1.2214456996568823\n",
      "9\n",
      "53\n",
      "1.3162026903422952\n",
      "1.2214456996568823\n",
      "9\n",
      "54\n",
      "1.2979519242132607\n",
      "1.2634180434008104\n",
      "9\n",
      "55\n",
      "1.3162026903422952\n",
      "1.2672436733438055\n",
      "9\n",
      "56\n",
      "1.2928041065455138\n",
      "1.2506393112268035\n",
      "9\n",
      "57\n",
      "1.3162026903422952\n",
      "1.222759854012814\n",
      "9\n",
      "58\n",
      "1.3162026903422952\n",
      "1.23183607635292\n",
      "9\n",
      "59\n",
      "1.3403176410717053\n",
      "1.277802576146617\n",
      "9\n",
      "60\n",
      "1.2928041065455138\n",
      "1.2510090208309905\n",
      "9\n",
      "61\n",
      "1.3403176410717053\n",
      "1.183338104869335\n",
      "9\n",
      "62\n",
      "1.3162026903422952\n",
      "1.2497294448886769\n",
      "9\n",
      "63\n",
      "1.2750852018239198\n",
      "1.18350069326872\n",
      "9\n",
      "64\n",
      "1.3162026903422952\n",
      "1.2019102057511821\n",
      "9\n",
      "65\n",
      "1.3162026903422952\n",
      "1.2521081952517523\n",
      "9\n",
      "66\n",
      "1.3162026903422952\n",
      "1.2820249846539542\n",
      "9\n",
      "67\n",
      "1.2750852018239198\n",
      "1.2834048030680691\n",
      "9\n",
      "68\n",
      "1.3162026903422952\n",
      "1.222759854012814\n",
      "9\n",
      "69\n",
      "1.2834048030680691\n",
      "1.2120252649266712\n",
      "9\n",
      "70\n",
      "1.3162026903422952\n",
      "1.2143755492219706\n",
      "9\n",
      "71\n",
      "1.3403176410717053\n",
      "1.286364400924544\n",
      "9\n",
      "72\n",
      "1.3162026903422952\n",
      "1.2417540560346325\n",
      "9\n",
      "73\n",
      "1.2834048030680691\n",
      "1.2750852018239198\n",
      "9\n",
      "74\n",
      "1.2979519242132607\n",
      "1.2979519242132607\n",
      "9\n",
      "75\n",
      "1.2979519242132607\n",
      "1.2740072459751508\n",
      "9\n",
      "76\n",
      "1.2979519242132607\n",
      "1.2679978495014255\n",
      "9\n",
      "77\n",
      "1.2928041065455138\n",
      "1.1830933490779945\n",
      "9\n",
      "78\n",
      "1.2834048030680691\n",
      "1.1806110381125179\n",
      "9\n",
      "79\n",
      "1.3162026903422952\n",
      "1.2214456996568823\n",
      "9\n",
      "80\n",
      "1.2834048030680691\n",
      "1.18350069326872\n",
      "9\n",
      "81\n",
      "1.3162026903422952\n",
      "1.2214456996568823\n",
      "9\n",
      "82\n",
      "1.2834048030680691\n",
      "1.18350069326872\n",
      "9\n",
      "83\n",
      "1.3162026903422952\n",
      "1.2467416429221048\n",
      "9\n",
      "84\n",
      "1.2834048030680691\n",
      "1.2525037513469264\n",
      "9\n",
      "85\n",
      "1.2834048030680691\n",
      "1.2791216203792217\n",
      "9\n",
      "86\n",
      "1.3162026903422952\n",
      "1.2467416429221048\n",
      "9\n",
      "87\n",
      "1.2512742966405135\n",
      "1.2452270036225705\n",
      "9\n",
      "88\n",
      "1.2928041065455138\n",
      "1.2506393112268035\n",
      "9\n",
      "89\n",
      "1.3403176410717053\n",
      "1.286364400924544\n",
      "9\n",
      "90\n",
      "1.3162026903422952\n",
      "1.2506393112268035\n",
      "9\n",
      "91\n",
      "1.2834048030680691\n",
      "1.2525037513469264\n",
      "9\n",
      "92\n",
      "1.3403176410717053\n",
      "1.2827699049735857\n",
      "9\n",
      "93\n",
      "1.3162026903422952\n",
      "1.2211947442004738\n",
      "9\n",
      "94\n",
      "1.2834048030680691\n",
      "1.2308932033472488\n",
      "9\n",
      "95\n",
      "1.2512742966405135\n",
      "1.2238949166355884\n",
      "9\n",
      "96\n",
      "1.2928041065455138\n",
      "1.165629940412577\n",
      "9\n",
      "97\n",
      "1.2512742966405135\n",
      "1.2238949166355884\n",
      "9\n",
      "98\n",
      "1.2928041065455138\n",
      "1.165629940412577\n",
      "9\n",
      "99\n",
      "1.2512742966405135\n",
      "1.1753904835292566\n",
      "9\n",
      "100\n",
      "1.2928041065455138\n",
      "1.184552802626502\n",
      "9\n",
      "101\n",
      "1.2928041065455138\n",
      "1.184552802626502\n",
      "9\n",
      "102\n",
      "1.3403176410717053\n",
      "1.286364400924544\n",
      "9\n",
      "103\n",
      "1.3162026903422952\n",
      "1.23183607635292\n",
      "9\n",
      "104\n",
      "1.2834048030680691\n",
      "1.26702031076291\n",
      "9\n",
      "105\n",
      "1.2928041065455138\n",
      "1.2506393112268035\n",
      "9\n",
      "106\n",
      "1.3162026903422952\n",
      "1.2432092309410512\n",
      "9\n",
      "107\n",
      "1.2834048030680691\n",
      "1.3766519570113949\n",
      "9\n",
      "108\n",
      "1.2512742966405135\n",
      "1.1587945040579803\n",
      "9\n",
      "109\n",
      "1.2928041065455138\n",
      "1.2074211840811429\n",
      "9\n",
      "110\n",
      "1.3162026903422952\n",
      "1.2467416429221048\n",
      "9\n",
      "111\n",
      "1.3766519570113949\n",
      "1.231703613086611\n",
      "9\n",
      "112\n",
      "1.3162026903422952\n",
      "1.3132975796830364\n",
      "9\n",
      "113\n",
      "1.3766519570113949\n",
      "1.18350069326872\n",
      "9\n",
      "114\n",
      "1.3162026903422952\n",
      "1.3132975796830364\n",
      "9\n",
      "115\n",
      "1.3766519570113949\n",
      "1.18350069326872\n",
      "9\n",
      "116\n",
      "1.3766519570113949\n",
      "1.2608515567011733\n",
      "9\n",
      "117\n",
      "1.3162026903422952\n",
      "1.3132975796830364\n",
      "9\n",
      "118\n",
      "1.2512742966405135\n",
      "1.2452270036225705\n",
      "9\n",
      "119\n",
      "1.2928041065455138\n",
      "1.166780283899955\n",
      "9\n",
      "120\n",
      "1.3403176410717053\n",
      "1.2829447180646538\n",
      "9\n",
      "121\n",
      "1.3403176410717053\n",
      "1.2773230189557347\n",
      "9\n",
      "122\n",
      "1.3403176410717053\n",
      "1.3107917798456832\n",
      "9\n",
      "123\n",
      "1.179766399236443\n",
      "1.2103932685869794\n",
      "9\n",
      "124\n",
      "1.2103932685869794\n",
      "1.2371642082229921\n",
      "9\n",
      "125\n",
      "1.2371642082229921\n",
      "1.2333253057575986\n",
      "9\n",
      "126\n",
      "1.3403176410717053\n",
      "1.2817450392144116\n",
      "9\n",
      "127\n",
      "1.3403176410717053\n",
      "1.2765592376832209\n",
      "9\n",
      "128\n",
      "1.3403176410717053\n",
      "1.2765592376832209\n",
      "9\n",
      "129\n",
      "1.3766519570113949\n",
      "1.2061771470639364\n",
      "9\n",
      "130\n",
      "1.3403176410717053\n",
      "1.2712319790054116\n",
      "9\n",
      "131\n",
      "10\n",
      "132\n",
      "1.2659547542442768\n",
      "1.1523792478203765\n",
      "10\n",
      "133\n",
      "1.3403176410717053\n",
      "1.2666641356388009\n",
      "10\n",
      "134\n",
      "1.2659547542442768\n",
      "1.2585775020904406\n",
      "10\n",
      "135\n",
      "1.2659547542442768\n",
      "1.2585775020904406\n",
      "10\n",
      "136\n",
      "1.3403176410717053\n",
      "1.2308394147038433\n",
      "10\n",
      "137\n",
      "1.3403176410717053\n",
      "1.2817450392144116\n",
      "10\n",
      "138\n",
      "1.3766519570113949\n",
      "1.2781064470541679\n",
      "10\n",
      "139\n",
      "1.3162026903422952\n",
      "1.213130377054822\n",
      "10\n",
      "140\n",
      "1.2928041065455138\n",
      "1.2506393112268035\n",
      "10\n",
      "141\n",
      "1.2979519242132607\n",
      "1.2979519242132607\n",
      "10\n",
      "142\n",
      "1.3403176410717053\n",
      "1.2979519242132607\n",
      "10\n",
      "143\n",
      "1.3766519570113949\n",
      "1.213638836909612\n",
      "10\n",
      "144\n",
      "1.3162026903422952\n",
      "1.2526953297294456\n",
      "10\n",
      "145\n",
      "1.3162026903422952\n",
      "1.2526953297294456\n",
      "10\n",
      "146\n",
      "1.3162026903422952\n",
      "1.2579600678412186\n",
      "10\n",
      "147\n",
      "1.3403176410717053\n",
      "1.2037321214080932\n",
      "10\n",
      "148\n",
      "1.2979519242132607\n",
      "1.3604724902496064\n",
      "10\n",
      "149\n",
      "1.3403176410717053\n",
      "1.299873820384294\n",
      "10\n",
      "150\n",
      "1.3403176410717053\n",
      "1.286364400924544\n",
      "10\n",
      "151\n",
      "1.3162026903422952\n",
      "1.23183607635292\n",
      "10\n",
      "152\n",
      "1.3766519570113949\n",
      "1.2525037513469264\n",
      "10\n",
      "153\n",
      "1.3403176410717053\n",
      "1.2712319790054116\n",
      "10\n",
      "154\n",
      "1.3403176410717053\n",
      "1.189584311084807\n",
      "10\n",
      "155\n",
      "1.3403176410717053\n",
      "1.2712319790054116\n",
      "10\n",
      "156\n",
      "1.3162026903422952\n",
      "1.2555190588697855\n",
      "10\n",
      "157\n",
      "1.2928041065455138\n",
      "1.2506393112268035\n",
      "10\n",
      "158\n",
      "1.3403176410717053\n",
      "1.2712319790054116\n",
      "10\n",
      "159\n",
      "1.3403176410717053\n",
      "1.2817450392144116\n",
      "10\n",
      "160\n",
      "1.3766519570113949\n",
      "1.29333299909926\n",
      "10\n",
      "161\n",
      "1.3403176410717053\n",
      "1.293122210486953\n",
      "10\n",
      "162\n",
      "1.293122210486953\n",
      "1.3140087074620868\n",
      "10\n",
      "163\n",
      "1.3403176410717053\n",
      "1.3057600967489256\n",
      "10\n",
      "164\n",
      "1.3403176410717053\n",
      "1.278744314002346\n",
      "10\n",
      "165\n",
      "1.3403176410717053\n",
      "1.233909384062371\n",
      "10\n",
      "166\n",
      "1.3403176410717053\n",
      "1.1998736594360064\n",
      "10\n",
      "167\n",
      "1.3766519570113949\n",
      "1.18350069326872\n",
      "10\n",
      "168\n",
      "1.3162026903422952\n",
      "1.2506393112268035\n",
      "10\n",
      "169\n",
      "1.2928041065455138\n",
      "1.2506393112268035\n",
      "10\n",
      "170\n",
      "1.3403176410717053\n",
      "1.3403176410717053\n",
      "10\n",
      "171\n",
      "1.3766519570113949\n",
      "1.2791216203792217\n",
      "10\n",
      "172\n",
      "1.3162026903422952\n",
      "1.3132975796830364\n",
      "10\n",
      "173\n",
      "1.3766519570113949\n",
      "1.2308932033472488\n",
      "10\n",
      "174\n",
      "1.2512742966405135\n",
      "1.2828314650281325\n",
      "10\n",
      "175\n",
      "1.2928041065455138\n",
      "1.241439532181472\n",
      "10\n",
      "176\n",
      "1.2928041065455138\n",
      "1.215052971779666\n",
      "10\n",
      "177\n",
      "1.2928041065455138\n",
      "1.2714469589405815\n",
      "10\n",
      "178\n",
      "1.3403176410717053\n",
      "1.196323085055881\n",
      "10\n",
      "179\n",
      "1.3403176410717053\n",
      "1.1603880799380966\n",
      "10\n",
      "180\n",
      "1.3403176410717053\n",
      "1.2327786000816856\n",
      "10\n",
      "181\n",
      "1.2371642082229921\n",
      "1.227090276403094\n",
      "10\n",
      "182\n",
      "1.3403176410717053\n",
      "1.2940098104223712\n",
      "10\n",
      "183\n",
      "1.3162026903422952\n",
      "1.2677504741332957\n",
      "10\n",
      "184\n",
      "1.3766519570113949\n",
      "1.2525037513469264\n",
      "10\n",
      "185\n",
      "1.3140087074620868\n",
      "1.293122210486953\n",
      "10\n",
      "186\n",
      "1.3403176410717053\n",
      "1.293122210486953\n",
      "10\n",
      "187\n",
      "1.2371642082229921\n",
      "1.1916319469417236\n",
      "10\n",
      "188\n",
      "1.2371642082229921\n",
      "1.2262918293977358\n",
      "10\n",
      "189\n",
      "1.2371642082229921\n",
      "1.2262918293977358\n",
      "10\n",
      "190\n",
      "1.2371642082229921\n",
      "1.2333253057575986\n",
      "10\n",
      "191\n",
      "1.2371642082229921\n",
      "1.2429505040735014\n",
      "10\n",
      "192\n",
      "1.2828314650281325\n",
      "1.2405342064431133\n",
      "10\n",
      "193\n",
      "1.3140087074620868\n",
      "1.2878312766072877\n",
      "10\n",
      "194\n",
      "1.3162026903422952\n",
      "1.2639423953547886\n",
      "10\n",
      "195\n",
      "1.2928041065455138\n",
      "1.2553144699225465\n",
      "10\n",
      "196\n",
      "1.3140087074620868\n",
      "1.2812570120585776\n",
      "10\n",
      "197\n",
      "1.2928041065455138\n",
      "1.2700152729060397\n",
      "10\n",
      "198\n",
      "1.3403176410717053\n",
      "1.2566934151443985\n",
      "10\n",
      "199\n",
      "1.3766519570113949\n",
      "1.1881101005870534\n",
      "10\n",
      "200\n",
      "1.3162026903422952\n",
      "1.18350069326872\n",
      "10\n",
      "201\n",
      "1.3162026903422952\n",
      "1.2555190588697855\n",
      "10\n",
      "202\n",
      "1.3403176410717053\n",
      "1.2817450392144116\n",
      "10\n",
      "203\n",
      "1.3162026903422952\n",
      "1.297018830960936\n",
      "10\n",
      "204\n",
      "1.3766519570113949\n",
      "1.2525037513469264\n",
      "10\n",
      "205\n",
      "1.2928041065455138\n",
      "1.2506393112268035\n",
      "10\n",
      "206\n",
      "1.3403176410717053\n",
      "1.2095884472781009\n",
      "10\n",
      "207\n",
      "1.3403176410717053\n",
      "1.298516355692114\n",
      "10\n",
      "208\n",
      "1.3403176410717053\n",
      "1.2550601963355383\n",
      "10\n",
      "209\n",
      "1.3403176410717053\n",
      "1.2554423052698611\n",
      "10\n",
      "210\n",
      "1.2429505040735014\n",
      "1.227090276403094\n",
      "10\n",
      "211\n",
      "1.3403176410717053\n",
      "1.2327786000816856\n",
      "10\n",
      "212\n",
      "1.3604724902496064\n",
      "1.2093335624565087\n",
      "10\n",
      "213\n",
      "1.3403176410717053\n",
      "1.2658377464810244\n",
      "10\n",
      "214\n",
      "1.3403176410717053\n",
      "1.267872022496316\n",
      "10\n",
      "215\n",
      "1.2429505040735014\n",
      "1.2070226591322741\n",
      "10\n",
      "216\n",
      "1.2659547542442768\n",
      "1.2422896721688041\n",
      "10\n",
      "217\n",
      "1.3403176410717053\n",
      "1.2666641356388009\n",
      "10\n"
     ]
    }
   ],
   "source": [
    "final_dictionary=[]\n",
    "for i in range(len(hopes)):\n",
    "  # print(i),\n",
    "  if(i==0):\n",
    "    final_dictionary.append(best_meaning_from_sentence(hopes[0]))\n",
    "  else:\n",
    "    temporary_holder=best_meaning_from_sentence(hopes[i])\n",
    "    intersect=0\n",
    "    for j in range(len(final_dictionary)):\n",
    "      if(final_dictionary[j][0][1]==temporary_holder[0][1]):\n",
    "        intersect=1\n",
    "        prev_score=final_dictionary[j][1]\n",
    "        new_score=temporary_holder[1]\n",
    "        # print(prev_score)\n",
    "        # print(new_score)\n",
    "        if(new_score>prev_score):\n",
    "          final_dictionary[j][0][0]=temporary_holder[0][0]\n",
    "          final_dictionary[j][1]=temporary_holder[1]\n",
    "    if(intersect==0):\n",
    "      final_dictionary.append(temporary_holder)\n",
    "  print(len(final_dictionary))\n",
    "        # print(final_dictionary[j][0][1])\n",
    "        # print(temporary_holder[0][1])\n",
    "  # print(temporary_holder)"
   ]
  },
  {
   "cell_type": "code",
   "execution_count": 330,
   "metadata": {
    "colab": {
     "base_uri": "https://localhost:8080/",
     "height": 191
    },
    "colab_type": "code",
    "id": "0CQiYYb_ktSj",
    "outputId": "8aa90acc-fa31-4fc4-8a53-8761389269d1"
   },
   "outputs": [
    {
     "data": {
      "text/plain": [
       "[[[['of', 'evolution'], ['biology']], 1.3403176410717053],\n",
       " [[['biology'], ['evolution']], 1.3403176410717053],\n",
       " [[['mechanism'], ['origin']], 1.3140087074620868],\n",
       " [[['generation'], ['life']], 1.3162026903422952],\n",
       " [[['form'], ['forms']], 1.3766519570113949],\n",
       " [[['concepts'], ['theory']], 1.3604724902496064],\n",
       " [[['meat'], ['man']], 1.2429505040735014],\n",
       " [[['into', 'the', '\\x0cevolution'], ['history']], 1.2828314650281325],\n",
       " [[['there', 'was', 'no', 'atmosphere'], ['earth']], 1.2928041065455138],\n",
       " [[['of', 'geography'], ['radiation']], 1.2659547542442768]]"
      ]
     },
     "execution_count": 330,
     "metadata": {
      "tags": []
     },
     "output_type": "execute_result"
    }
   ],
   "source": [
    "final_dictionary"
   ]
  },
  {
   "cell_type": "code",
   "execution_count": null,
   "metadata": {
    "colab": {},
    "colab_type": "code",
    "id": "dZ7BRXp_2tX6"
   },
   "outputs": [],
   "source": []
  }
 ],
 "metadata": {
  "colab": {
   "collapsed_sections": [],
   "name": "Experimentation_Imported_Textbook_Glossary.ipynb",
   "provenance": []
  },
  "kernelspec": {
   "display_name": "Python 3",
   "language": "python",
   "name": "python3"
  },
  "language_info": {
   "codemirror_mode": {
    "name": "ipython",
    "version": 2
   },
   "file_extension": ".py",
   "mimetype": "text/x-python",
   "name": "python",
   "nbconvert_exporter": "python",
   "pygments_lexer": "ipython2",
   "version": "2.7.17"
  }
 },
 "nbformat": 4,
 "nbformat_minor": 1
}
